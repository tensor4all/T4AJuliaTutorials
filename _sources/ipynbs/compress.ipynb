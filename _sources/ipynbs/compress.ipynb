{
 "cells": [
  {
   "cell_type": "markdown",
   "id": "361a1946",
   "metadata": {},
   "source": [
    "# Compressing exisiting data"
   ]
  },
  {
   "cell_type": "code",
   "execution_count": null,
   "id": "3be7a898",
   "metadata": {},
   "outputs": [],
   "source": [
    "using PythonCall: PythonCall\n",
    "using PythonPlot: pyplot as plt, Figure\n",
    "\n",
    "# Displays the matplotlib figure object `fig` and avoids duplicate plots.\n",
    "_display(fig::Figure) = isinteractive() ? (fig; plt.show(); nothing) : Base.display(fig)\n",
    "_display(fig::PythonCall.Py) = _display(Figure(fig))"
   ]
  },
  {
   "cell_type": "markdown",
   "id": "1abacdf8",
   "metadata": {},
   "source": [
    "## TCI\n",
    "\n",
    "Let us demonstrate how to compress exisiting data by TCI.\n",
    "First, we create a test dataset on a 3D grid."
   ]
  },
  {
   "cell_type": "code",
   "execution_count": null,
   "id": "ed8beea5",
   "metadata": {},
   "outputs": [],
   "source": [
    "# Replace this line with the dataset to be tested for compressibility.\n",
    "grid = range(-pi, pi; length=200)\n",
    "dataset = [cos(x) + cos(y) + cos(z) for x in grid, y in grid, z in grid]\n",
    "size(dataset)"
   ]
  },
  {
   "cell_type": "markdown",
   "id": "b4f26d57",
   "metadata": {},
   "source": [
    "We now construct a TCI."
   ]
  },
  {
   "cell_type": "code",
   "execution_count": null,
   "id": "c0ece6d1",
   "metadata": {},
   "outputs": [],
   "source": [
    "import TensorCrossInterpolation as TCI\n",
    "\n",
    "# Construct TCI\n",
    "tolerance = 1e-5\n",
    "tt, ranks, errors = TCI.crossinterpolate2(\n",
    "    Float64, i -> dataset[i...], collect(size(dataset)), tolerance=tolerance)\n",
    "\n",
    "# Check error\n",
    "ttdataset = [tt([i, j, k]) for i in axes(grid, 1), j in axes(grid, 1), k in axes(grid, 1)]\n",
    "errors = abs.(ttdataset .- dataset)\n",
    "println(\n",
    "    \"TCI of the dataset with tolerance $tolerance has link dimensions $(TCI.linkdims(tt)), \"\n",
    "    * \"for a max error of $(maximum(errors)).\"\n",
    ")"
   ]
  },
  {
   "cell_type": "markdown",
   "id": "5e1538bf",
   "metadata": {},
   "source": [
    "Let us plot the original data and the TCI error on a 2D cut."
   ]
  },
  {
   "cell_type": "code",
   "execution_count": null,
   "id": "3e8eac28",
   "metadata": {},
   "outputs": [],
   "source": [
    "fig, axs = plt.subplots(1, 2; figsize=(12.8, 4.8))\n",
    "\n",
    "# Original data\n",
    "c = axs[0].pcolor(dataset[:, :, 1])\n",
    "fig.colorbar(c, ax=axs[0])\n",
    "axs[0].set_title(\"Original data\")\n",
    "\n",
    "# TCI error\n",
    "c = axs[1].pcolor(log10.(abs.(errors[:, :, 1])))\n",
    "fig.colorbar(c, ax=axs[1])\n",
    "axs[1].set_title(\"log10 of abs error of TCI\")\n",
    "\n",
    "_display(fig)"
   ]
  },
  {
   "cell_type": "markdown",
   "id": "bf45fd20",
   "metadata": {},
   "source": [
    "## QTCI\n",
    "\n",
    "We now demonstrate how to compress existing data by QTCI."
   ]
  },
  {
   "cell_type": "code",
   "execution_count": null,
   "id": "55bf3854",
   "metadata": {},
   "outputs": [],
   "source": [
    "# Number of bits\n",
    "R = 8\n",
    "\n",
    "# Replace with your dataset\n",
    "grid = range(-pi, pi; length=2^R+1)[1:end-1] # exclude the end point\n",
    "dataset = [cos(x) + cos(y) + cos(z) for x in grid, y in grid, z in grid]\n",
    "size(dataset)"
   ]
  },
  {
   "cell_type": "markdown",
   "id": "437b39b2",
   "metadata": {},
   "source": [
    "### QuanticsTCI.jl\n",
    "Let us first use `quanticscrossinterpolate` function in `QuanticsTCI.jl`."
   ]
  },
  {
   "cell_type": "code",
   "execution_count": null,
   "id": "fe092d03",
   "metadata": {},
   "outputs": [],
   "source": [
    "using QuanticsTCI\n",
    "import TensorCrossInterpolation as TCI\n",
    "\n",
    "# Perform QTCI\n",
    "tolerance = 1e-5\n",
    "qtt, ranks, errors = quanticscrossinterpolate(\n",
    "    dataset, tolerance=tolerance, unfoldingscheme=:fused)"
   ]
  },
  {
   "cell_type": "markdown",
   "id": "e1fe59fa",
   "metadata": {},
   "source": [
    "Below, we compute the error for the whole tensor, which may be too expensive for a large $\\mathcal{R}$."
   ]
  },
  {
   "cell_type": "code",
   "execution_count": null,
   "id": "a0d34e6f",
   "metadata": {},
   "outputs": [],
   "source": [
    "# Check error\n",
    "qttdataset = [qtt([i, j, k]) for i in axes(grid, 1), j in axes(grid, 1), k in axes(grid, 1)]\n",
    "qtterrors = abs.(qttdataset .- dataset)\n",
    "println(\n",
    "    \"Quantics TCI compression of the dataset with tolerance $tolerance has \" *\n",
    "    \"link dimensions $(TCI.linkdims(qtt.tci)), for a max error of $(maximum(qtterrors)).\"\n",
    ")"
   ]
  },
  {
   "cell_type": "markdown",
   "id": "f9654b65",
   "metadata": {},
   "source": [
    "Again, let us plot the original data and the TCI error on a 2D cut."
   ]
  },
  {
   "cell_type": "code",
   "execution_count": null,
   "id": "6f1ba659",
   "metadata": {},
   "outputs": [],
   "source": [
    "using PythonPlot: pyplot as plt, gcf\n",
    "\n",
    "fig, axs = plt.subplots(1, 2; figsize=(12.8, 4.8))\n",
    "\n",
    "# Original data\n",
    "c = axs[0].pcolor(qttdataset[:, :, 1])\n",
    "fig.colorbar(c, ax=axs[0])\n",
    "axs[0].set_title(\"Original data\")\n",
    "\n",
    "# TCI error\n",
    "c = axs[1].pcolor(log10.(abs.(qtterrors[:, :, 1])))\n",
    "fig.colorbar(c, ax=axs[1])\n",
    "axs[1].set_title(\"log10 of abs error of QTCI\")\n",
    "\n",
    "_display(fig)"
   ]
  },
  {
   "cell_type": "markdown",
   "id": "e90998d0",
   "metadata": {},
   "source": [
    "### QuanticsGrids.jl + TensorCrossInterpolation.jl\n",
    "\n",
    "`QuanticsTCI.jl` is user-friendly, yet utilizing `QuanticsGrids.jl` directly provides greater flexibility."
   ]
  },
  {
   "cell_type": "code",
   "execution_count": null,
   "id": "c543f300",
   "metadata": {},
   "outputs": [],
   "source": [
    "import QuanticsGrids as QG\n",
    "\n",
    "\n",
    "function create_qgrid(R, qttdataset)\n",
    "    # 3D quantics grid with R bits and the fused reprensentation (default)\n",
    "    qgrid = QG.InherentDiscreteGrid{3}(R)\n",
    "\n",
    "    # Function that returns the value of the dataset at the given quantics index\n",
    "    qf(qindex) = qttdataset[QG.quantics_to_grididx(qgrid, qindex)...]\n",
    "\n",
    "    return qgrid, qf\n",
    "end\n",
    "\n",
    "qgrid, qf = create_qgrid(R, qttdataset)\n",
    "\n",
    "# Data at the quantics index [1, 1, ..., 1] = the index [1, 1, 1].\n",
    "qf(fill(1, R)) == qttdataset[1, 1, 1]"
   ]
  },
  {
   "cell_type": "markdown",
   "id": "e167d912",
   "metadata": {},
   "source": [
    "The `create_qgrid` function generates a 3D quantics grid and a closure (`qf`) for dataset access based on quantics indices, given a grid resolution (`R`) and a dataset (`qttdataset`).\n",
    "This design reduces reliance on global variables, leading to faster function evalulations."
   ]
  },
  {
   "cell_type": "markdown",
   "id": "216ab996",
   "metadata": {},
   "source": [
    "The effectiveness of TCI significantly depends on selecting appropriate initial pivots.\n",
    "Optimal initial pivots are locations where the function intended for interpolation exhibits large absolute values."
   ]
  },
  {
   "cell_type": "code",
   "execution_count": null,
   "id": "d2d7ce3f",
   "metadata": {},
   "outputs": [],
   "source": [
    "# Local dimensions\n",
    "localdims = fill(8, R)\n",
    "\n",
    "# Generate initial pivots by maximainzing the aboslute value of the function from random points.\n",
    "# This is a heuristic to find good initial pivots.\n",
    "# The optimization is performed by single-sites updates.\n",
    "ninitialpivots = 10\n",
    "initialpivots = [TCI.optfirstpivot(qf, localdims, [rand(1:d) for d in localdims]) for _ in 1:ninitialpivots]\n",
    "\n",
    "for p in initialpivots\n",
    "    println(\"Initial pivot: $p $(qf(p))\")\n",
    "end"
   ]
  },
  {
   "cell_type": "code",
   "execution_count": null,
   "id": "48391fea",
   "metadata": {},
   "outputs": [],
   "source": [
    "# Perform (Q)TCI\n",
    "tolerance = 1e-5\n",
    "qtt, ranks, errors = TCI.crossinterpolate2(Float64, qf, localdims, initialpivots; tolerance=tolerance)"
   ]
  },
  {
   "cell_type": "code",
   "execution_count": null,
   "id": "b176dd2e",
   "metadata": {},
   "outputs": [],
   "source": [
    "# Test error\n",
    "qtt(initialpivots[1]) ≈ qf(initialpivots[1])"
   ]
  }
 ],
 "metadata": {
  "jupytext": {
   "custom_cell_magics": "kql",
   "encoding": "# -*- coding: utf-8 -*-",
   "formats": "ipynb,jl:percent"
  },
  "kernelspec": {
   "display_name": "Julia 1.10.3",
   "language": "julia",
   "name": "julia-1.10"
  }
 },
 "nbformat": 4,
 "nbformat_minor": 5
}