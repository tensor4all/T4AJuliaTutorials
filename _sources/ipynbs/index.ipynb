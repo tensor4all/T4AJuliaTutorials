{
 "cells": [
  {
   "cell_type": "markdown",
   "id": "6c6722eb",
   "metadata": {},
   "source": [
    "# T4A Julia Tutorials\n",
    "\n",
    "This documentation provides a comprehensive tutorials/examples\n",
    "on quantics and tensor cross interpolation (TCI) and their combinations (QTCI).\n",
    "These technologies allow us to reveal low-rank tensor network representation (TNR) hidden in data or a function,\n",
    "and perform computation such as Fourier transform and convolution.\n",
    "Please refer [xfacpaper](https://arxiv.org/abs/2407.02454) for a more detailed introduction of these concepts.\n",
    "\n",
    "The T4A group hosts various Julia libraries for performing such operations.\n",
    "The folowing list is given in the order of low-level to high-level libraries:\n",
    "\n",
    "- [TensorCrossInterpolation.jl](https://github.com/tensor4all/TensorCrossInterpolation.jl/) provides implementations of TCI.\n",
    "- [QuanticsGrids.jl](https://github.com/tensor4all/QuanticsGrids.jl/) provides utilities for handling quantics representations, e.g., creating a quantics grid and transformation between the original coordinate system and the quantics representation.\n",
    "- [QuanticsTCI.jl](https://github.com/tensor4all/QuanticsTCI.jl/) is a thin wrapper around `TensorCrossInterpolation.jl` and `QuanticsGrids.jl`, providing valuable functionalities for non-expert users' performing quantics TCI (QTCI).\n",
    "- [TCIITensorConversion.jl](https://github.com/tensor4all/TCIITensorConversion.jl/) provides conversions of tensor trains between `TensorCrossInterpolation.jl` and `ITensors.jl`.\n",
    "- [Quantics.jl](https://github.com/tensor4all/Quantics.jl/) is an experimental library providing a high-level API for performing operations in QTT. This library is under development and its API may be subject to change. The library is not yet registered in the Julia package registry.\n",
    "\n",
    "Additionally, we provide some topics on Julia packages such as:\n",
    "\n",
    "- [PythonPlot.jl](pythonplot.ipynb). This may be helpful for those who are new to Julia and come from Python.\n",
    "\n",
    "This documentation provides examples of using these libraries to perform QTCI and other operations.\n",
    "\n",
    "## Preparation\n",
    "\n",
    "### Install Julia\n",
    "\n",
    "Install `julia` command using [juliaup](https://github.com/JuliaLang/juliaup).\n",
    "\n",
    "On Windows Julia and Juliaup can be installed directly from the Windows store. One can also install exactly the same version by executing\n"
   ]
  },
  {
   "cell_type": "markdown",
   "id": "cfd9ad35",
   "metadata": {},
   "source": [
    "```powershell\n",
    "PS> winget install julia -s msstore\n",
    "```\n"
   ]
  },
  {
   "cell_type": "markdown",
   "id": "68a3528c",
   "metadata": {},
   "source": [
    "on a command line.\n",
    "\n",
    "Juliaup can be installed on Linux or Mac by executing\n"
   ]
  },
  {
   "cell_type": "markdown",
   "id": "36e0d66d",
   "metadata": {},
   "source": [
    "```sh\n",
    "$ curl -fsSL https://install.julialang.org | sh\n",
    "```\n"
   ]
  },
  {
   "cell_type": "markdown",
   "id": "4cfd8901",
   "metadata": {},
   "source": [
    "in a shell.\n",
    "\n",
    "You can check that `julia` is installed correctly by simply running `julia` in your terminal:\n",
    "\n",
    "```julia-repl\n",
    "               _\n",
    "   _       _ _(_)_     |  Documentation: https://docs.julialang.org\n",
    "  (_)     | (_) (_)    |\n",
    "   _ _   _| |_  __ _   |  Type \"?\" for help, \"]?\" for Pkg help.\n",
    "  | | | | | | |/ _` |  |\n",
    "  | | |_| | | | (_| |  |  Version 1.10.1 (2024-02-13)\n",
    " _/ |\\__'_|_|_|\\__'_|  |  Official https://julialang.org/ release\n",
    "|__/                   |\n",
    "\n",
    "julia>\n",
    "```\n",
    "\n",
    "The REPL greets you with a banner and a `julia>` prompt. Let's display \"Hello World\":\n",
    "\n",
    "```julia-repl\n",
    "julia> println(\"Hello World\")\n",
    "```\n",
    "\n",
    "To see the environment in which Julia is running, you can use `versioninfo()`.\n",
    "\n",
    "```julia-repl\n",
    "julia> versioninfo()\n",
    "```\n",
    "\n",
    "To exit the interactive session, type `exit()` followed by the return or enter key:\n",
    "\n",
    "```julia-repl\n",
    "julia> exit()\n",
    "```\n",
    "\n",
    "See the official documentation at [The Julia REPL](https://docs.julialang.org/en/v1/stdlib/REPL/) to learn more.\n",
    "\n",
    "### Install required packages\n",
    "\n",
    "One can install required packages by running the following command on your shell:\n"
   ]
  },
  {
   "cell_type": "markdown",
   "id": "6895bff8",
   "metadata": {},
   "source": [
    "```sh\n",
    "git clone git@github.com:tensor4all/T4AJuliaTutorials.git\n",
    "cd T4AJuliaTutorials\n",
    "julia --project scripts/setup.jl\n",
    "```\n"
   ]
  },
  {
   "cell_type": "markdown",
   "id": "8884dbda",
   "metadata": {},
   "source": [
    "Here, the `--project` option activates our project, which is characterized by `Project.toml`, and `scripts/setup.jl` installs dependencies needed to run our notebooks."
   ]
  },
  {
   "cell_type": "markdown",
   "id": "6cd62637",
   "metadata": {},
   "source": [
    "Keep in mind that [Quantics.jl](https://github.com/tensor4all/Quantics.jl) is not registered in [Julia's General registry](https://github.com/JuliaRegistries/General/tree/master). To run `qft.jl`, we need to add [T4ARegistry](https://github.com/tensor4all/T4ARegistry).\n",
    "\n",
    "```sh\n",
    "julia --project -e 'using Pkg; Pkg.Registry.add(RegistrySpec(url=\"https://github.com/tensor4all/T4ARegistry.git\"))'\n",
    "```\n"
   ]
  },
  {
   "cell_type": "markdown",
   "id": "09d73e91",
   "metadata": {},
   "source": [
    "### Print out the status of the project\n",
    "\n",
    "Having trouble? Try the following command in your Julia's REPL. On GitHub Actions instance we'll get:\n"
   ]
  },
  {
   "cell_type": "code",
   "execution_count": 1,
   "id": "9abe92bc",
   "metadata": {},
   "outputs": [
    {
     "name": "stdout",
     "output_type": "stream",
     "text": [
      "\u001b[32m\u001b[1mStatus\u001b[22m\u001b[39m `~/work/T4AJuliaTutorials/T4AJuliaTutorials/Project.toml`\n",
      "\u001b[32m⌃\u001b[39m \u001b[90m[992eb4ea] \u001b[39mCondaPkg v0.2.22\n",
      "  \u001b[90m[7073ff75] \u001b[39mIJulia v1.25.0\n",
      "  \u001b[90m[9136182c] \u001b[39mITensors v0.6.16\n",
      "  \u001b[90m[b964fa9f] \u001b[39mLaTeXStrings v1.3.1\n",
      "  \u001b[90m[16fef848] \u001b[39mLiveServer v1.3.1\n",
      "\u001b[32m⌃\u001b[39m \u001b[90m[6099a3de] \u001b[39mPythonCall v0.9.20\n",
      "\u001b[33m⌅\u001b[39m \u001b[90m[274fc56d] \u001b[39mPythonPlot v1.0.2\n",
      "  \u001b[90m[87f76fb3] \u001b[39mQuantics v0.3.6\n",
      "  \u001b[90m[634c7f73] \u001b[39mQuanticsGrids v0.3.2\n",
      "  \u001b[90m[b11687fd] \u001b[39mQuanticsTCI v0.7.0\n",
      "  \u001b[90m[9f0aa9f4] \u001b[39mTCIITensorConversion v0.1.4\n",
      "  \u001b[90m[b261b2ec] \u001b[39mTensorCrossInterpolation v0.9.10\n",
      "\u001b[36m\u001b[1mInfo\u001b[22m\u001b[39m Packages marked with \u001b[32m⌃\u001b[39m and \u001b[33m⌅\u001b[39m have new versions available. Those with \u001b[32m⌃\u001b[39m may be upgradable, but those with \u001b[33m⌅\u001b[39m are restricted by compatibility constraints from upgrading. To see why use `status --outdated`\n"
     ]
    }
   ],
   "source": [
    "using Dates;\n",
    "now(UTC);\n",
    "VERSION # display Julia version\n",
    "using Pkg;\n",
    "Pkg.status();"
   ]
  }
 ],
 "metadata": {
  "jupytext": {
   "custom_cell_magics": "kql",
   "formats": "ipynb,jl:percent"
  },
  "kernelspec": {
   "display_name": "Julia 1.10.4",
   "language": "julia",
   "name": "julia-1.10"
  },
  "language_info": {
   "file_extension": ".jl",
   "mimetype": "application/julia",
   "name": "julia",
   "version": "1.10.4"
  }
 },
 "nbformat": 4,
 "nbformat_minor": 5
}