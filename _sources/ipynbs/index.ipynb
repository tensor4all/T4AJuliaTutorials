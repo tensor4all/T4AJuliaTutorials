{
 "cells": [
  {
   "cell_type": "markdown",
   "id": "1087359f",
   "metadata": {},
   "source": [
    "# T4A Julia Tutorials\n",
    "\n",
    "This documentation provides a comprehensive tutorials/examples\n",
    "on quantics and tensor cross interpolation (TCI) and their combinations (QTCI).\n",
    "These technologies allow us to reveal low-rank tensor network representation (TNR) hidden in data or a function,\n",
    "and perform computation such as Fourier transform and convolution.\n",
    "Please refer [xfacpaper]() for a more detailed introduction of these concepts.\n",
    "\n",
    "The T4A group hosts various Julia libraries for performing such operations.\n",
    "The folowing list is given in the order of low-level to high-level libraries:\n",
    "\n",
    "- [TensorCrossInterpolation.jl](https://github.com/tensor4all/TensorCrossInterpolation.jl/) provides implementations of TCI.\n",
    "- [QuanticsGrids.jl](https://github.com/tensor4all/QuanticsGrids.jl/) provides utilities for handling quantics representations, e.g., creating a quantics grid and transformation between the original coordinate system and the quantics representation.\n",
    "- [QuanticsTCI.jl](https://github.com/tensor4all/QuanticsTCI.jl/) is a thin wrapper around `TensorCrossInterpolation.jl` and `QuanticsGrids.jl`, providing valuable functionalities for non-expert users' performing quantics TCI (QTCI).\n",
    "- [TCIITensorConversion.jl](https://github.com/tensor4all/TCIITensorConversion.jl/) provides conversions of tensor trains between `TensorCrossInterpolation.jl` and `ITensors.jl`.\n",
    "\n",
    "Additionally, we provide some topics on Julia packages such as:\n",
    "\n",
    "- [PythonPlot.jl](pythonplot.ipynb). This may be helpful for those who are new to Julia and come from Python.\n",
    "\n",
    "This documentation provides examples of using these libraries to perform QTCI and other operations.\n",
    "\n",
    "## Preparation\n",
    "\n",
    "### Install Julia\n",
    "\n",
    "Install `julia` command using [juliaup](https://github.com/JuliaLang/juliaup).\n",
    "\n",
    "On Windows Julia and Juliaup can be installed directly from the Windows store. One can also install exactly the same version by executing\n"
   ]
  },
  {
   "cell_type": "markdown",
   "id": "ad5a4545",
   "metadata": {},
   "source": [
    "```powershell\n",
    "PS> winget install julia -s msstore\n",
    "```\n"
   ]
  },
  {
   "cell_type": "markdown",
   "id": "e2dc2e25",
   "metadata": {},
   "source": [
    "on a command line.\n",
    "\n",
    "Juliaup can be installed on Linux or Mac by executing\n"
   ]
  },
  {
   "cell_type": "markdown",
   "id": "243ee353",
   "metadata": {},
   "source": [
    "```sh\n",
    "$ curl -fsSL https://install.julialang.org | sh\n",
    "```\n"
   ]
  },
  {
   "cell_type": "markdown",
   "id": "5ae5c282",
   "metadata": {},
   "source": [
    "in a shell.\n",
    "\n",
    "You can check that `julia` is installed correctly by simply running `julia` in your terminal:\n",
    "\n",
    "```julia-repl\n",
    "               _\n",
    "   _       _ _(_)_     |  Documentation: https://docs.julialang.org\n",
    "  (_)     | (_) (_)    |\n",
    "   _ _   _| |_  __ _   |  Type \"?\" for help, \"]?\" for Pkg help.\n",
    "  | | | | | | |/ _` |  |\n",
    "  | | |_| | | | (_| |  |  Version 1.10.1 (2024-02-13)\n",
    " _/ |\\__'_|_|_|\\__'_|  |  Official https://julialang.org/ release\n",
    "|__/                   |\n",
    "\n",
    "julia>\n",
    "```\n",
    "\n",
    "The REPL greets you with a banner and a `julia>` prompt. Let's display \"Hello World\":\n",
    "\n",
    "```julia-repl\n",
    "julia> println(\"Hello World\")\n",
    "```\n",
    "\n",
    "To see the environment in which Julia is running, you can use `versioninfo()`.\n",
    "\n",
    "```julia-repl\n",
    "julia> versioninfo()\n",
    "```\n",
    "\n",
    "To exit the interactive session, type `exit()` followed by the return or enter key:\n",
    "\n",
    "```julia-repl\n",
    "julia> exit()\n",
    "```\n",
    "\n",
    "See the official documentation at [The Julia REPL](https://docs.julialang.org/en/v1/stdlib/REPL/) to learn more.\n",
    "\n",
    "### Install required packages\n",
    "\n",
    "One can install required packages by running the following command on your shell:\n"
   ]
  },
  {
   "cell_type": "markdown",
   "id": "8b163b78",
   "metadata": {},
   "source": [
    "```sh\n",
    "$ julia -e 'using Pkg; Pkg.add([\"QuanticsTCI\", \"QuanticsGrids\", \"TensorCrossInterpolation\", \"TCIITensorConversion\", \"ITensors\", \"Plots\", \"PythonPlot\", \"LaTeXStrings\"])'\n",
    "```\n"
   ]
  },
  {
   "cell_type": "markdown",
   "id": "1a310260",
   "metadata": {},
   "source": [
    "This will install required packages to Julia's global envrironment.\n"
   ]
  },
  {
   "cell_type": "markdown",
   "id": "e918594f",
   "metadata": {},
   "source": [
    "### Print out the status of the project\n",
    "\n",
    "Having trouble? Try the following command in your Julia's REPL. On GitHub Actions instance we'll get:\n"
   ]
  },
  {
   "cell_type": "code",
   "execution_count": 1,
   "id": "c6194df5",
   "metadata": {},
   "outputs": [
    {
     "name": "stdout",
     "output_type": "stream",
     "text": [
      "\u001b[32m\u001b[1mStatus\u001b[22m\u001b[39m `~/work/T4AJuliaTutorials/T4AJuliaTutorials/Project.toml`\n",
      "  \u001b[90m[992eb4ea] \u001b[39mCondaPkg v0.2.22\n",
      "  \u001b[90m[e30172f5] \u001b[39mDocumenter v1.5.0\n",
      "  \u001b[90m[28b8d3ca] \u001b[39mGR v0.73.6\n",
      "  \u001b[90m[7073ff75] \u001b[39mIJulia v1.25.0\n",
      "  \u001b[90m[9136182c] \u001b[39mITensors v0.6.16\n",
      "  \u001b[90m[b964fa9f] \u001b[39mLaTeXStrings v1.3.1\n",
      "  \u001b[90m[16fef848] \u001b[39mLiveServer v1.3.1\n",
      "  \u001b[90m[91a5bcdd] \u001b[39mPlots v1.40.4\n",
      "  \u001b[90m[6099a3de] \u001b[39mPythonCall v0.9.20\n",
      "\u001b[33m⌅\u001b[39m \u001b[90m[274fc56d] \u001b[39mPythonPlot v1.0.2\n",
      "  \u001b[90m[634c7f73] \u001b[39mQuanticsGrids v0.3.2\n",
      "  \u001b[90m[b11687fd] \u001b[39mQuanticsTCI v0.6.1\n",
      "  \u001b[90m[9f0aa9f4] \u001b[39mTCIITensorConversion v0.1.4\n",
      "  \u001b[90m[b261b2ec] \u001b[39mTensorCrossInterpolation v0.9.7\n",
      "\u001b[36m\u001b[1mInfo\u001b[22m\u001b[39m Packages marked with \u001b[33m⌅\u001b[39m have new versions available but compatibility constraints restrict them from upgrading. To see why use `status --outdated`\n"
     ]
    }
   ],
   "source": [
    "using Dates;\n",
    "now(UTC);\n",
    "VERSION # display Julia version\n",
    "using Pkg;\n",
    "Pkg.status();"
   ]
  }
 ],
 "metadata": {
  "jupytext": {
   "custom_cell_magics": "kql",
   "formats": "ipynb,jl:percent"
  },
  "kernelspec": {
   "display_name": "Julia 1.10.4",
   "language": "julia",
   "name": "julia-1.10"
  },
  "language_info": {
   "file_extension": ".jl",
   "mimetype": "application/julia",
   "name": "julia",
   "version": "1.10.4"
  }
 },
 "nbformat": 4,
 "nbformat_minor": 5
}