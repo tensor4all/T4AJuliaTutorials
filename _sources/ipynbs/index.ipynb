{
 "cells": [
  {
   "cell_type": "markdown",
   "id": "12ed1492",
   "metadata": {},
   "source": [
    "# T4F Examples\n",
    "This documentation provides a comprehensive tutorials/examples\n",
    "on quantics and tensor cross interpolation (TCI) and their combinations (QTCI).\n",
    "These technologies allow us to reveal low-rank tensor network representation (TNR) hidden in data or a function,\n",
    "and peform computation such as Fourier transform and convolution.\n",
    "Plesae refer [xfacpaper]() for a more detailed introduction of these concepts.\n",
    "\n",
    "The T4F group hosts various Julia libraries for performing such operations.\n",
    "The folowing list is given in the order of low-level to high-level libraries:\n",
    "\n",
    "* [TensorCrossInterpolation.jl](https://tensors4fields.gitlab.io/tensorcrossinterpolation.jl/dev/index.html) provides implementations of TCI.\n",
    "* [QuanticsGrids.jl](https://gitlab.com/tensors4fields/quanticstci.jl/-/blob/main/README.md?ref_type=heads) provides utilities for handing quantics representations, e.g., creating a quantics grid and transformation between the original coordinate system and the quantics representation.\n",
    "* [QuanticsTCI.jl](https://tensors4fields.gitlab.io/quanticstci.jl/dev/index.html) is a thin wrapper around `TensorCrossInterpolation.jl` and `QuanticsGrids.jl`, providing valuable functionalities for non-expert users' performing quantics TCI (QTCI).\n",
    "* [TCIITensorConversion.jl](https://gitlab.com/tensors4fields/tciitensorconversion.jl) provides conversions of tensor trains between `TensorCrossInterpolation.jl` and `ITensors.jl`.\n",
    "* [Quantics.jl](https://gitlab.com/tensors4fields/Quantics.jl) is an experimental library for performing various operations on quantics representations, e.g., Fourier transform, convolution, and multiplication. The interface is subject to change and not stable yet!\n",
    "\n",
    "This documentation provides examples of using these libraries to perform QTCI and other operations.\n",
    "\n",
    "## Preparation\n",
    "\n",
    "### Install Julia\n",
    "\n",
    "Install `julia` command using [juliaup](https://github.com/JuliaLang/juliaup).\n",
    "\n",
    "On Windows Julia and Juliaup can be installed directly from the Windows store. One can also install exactly the same version by executing"
   ]
  },
  {
   "cell_type": "markdown",
   "id": "a358a320",
   "metadata": {},
   "source": [
    "```powershell\n",
    "PS> winget install julia -s msstore\n",
    "```"
   ]
  },
  {
   "cell_type": "markdown",
   "id": "cf7e3f25",
   "metadata": {},
   "source": [
    "on a command line.\n",
    "\n",
    "Juliaup can be installed on Linux or Mac by executing"
   ]
  },
  {
   "cell_type": "markdown",
   "id": "143476f8",
   "metadata": {},
   "source": [
    "```sh\n",
    "$ curl -fsSL https://install.julialang.org | sh\n",
    "```"
   ]
  },
  {
   "cell_type": "markdown",
   "id": "5976a5a7",
   "metadata": {},
   "source": [
    "in a shell.\n",
    "\n",
    "You can check that `julia` is installed correctly by simply running `julia` in your terminal:\n",
    "\n",
    "```julia-repl\n",
    "               _\n",
    "   _       _ _(_)_     |  Documentation: https://docs.julialang.org\n",
    "  (_)     | (_) (_)    |\n",
    "   _ _   _| |_  __ _   |  Type \"?\" for help, \"]?\" for Pkg help.\n",
    "  | | | | | | |/ _` |  |\n",
    "  | | |_| | | | (_| |  |  Version 1.10.1 (2024-02-13)\n",
    " _/ |\\__'_|_|_|\\__'_|  |  Official https://julialang.org/ release\n",
    "|__/                   |\n",
    "\n",
    "julia>\n",
    "```\n",
    "\n",
    "The REPL greets you with a banner and a `julia>` prompt. Let's display \"Hello World\":\n",
    "\n",
    "```julia-repl\n",
    "julia> println(\"Hello World\")\n",
    "```\n",
    "\n",
    "To see the environment in which Julia is running, you can use `versioninfo()`.\n",
    "\n",
    "```julia-repl\n",
    "julia> versioninfo()\n",
    "```\n",
    "\n",
    "To exit the interactive session, type `exit()` followed by the return or enter key:\n",
    "\n",
    "```julia-repl\n",
    "julia> exit()\n",
    "```\n",
    "\n",
    "See the official documentation at [The Julia REPL](https://docs.julialang.org/en/v1/stdlib/REPL/) to learn more.\n",
    "\n",
    "### Install required packages\n",
    "\n",
    "One can install required packages by running the following command on your shell:"
   ]
  },
  {
   "cell_type": "markdown",
   "id": "c6719d85",
   "metadata": {},
   "source": [
    "```sh\n",
    "$ julia -e 'using Pkg; Pkg.add(PackageSpec(name=\"QuanticsTCI\", version=\"0.4.3\"))'\n",
    "$ julia -e 'using Pkg; Pkg.add(PackageSpec(name=\"QuanticsGrids\", version=\"0.2\"))'\n",
    "$ julia -e 'using Pkg; Pkg.add(PackageSpec(name=\"TensorCrossInterpolation\", version=\"0.8\"))'\n",
    "$ julia -e 'using Pkg; Pkg.add(PackageSpec(name=\"TCIITensorConversion\", version=\"0.1\"))'\n",
    "$ julia -e 'using Pkg; Pkg.add(\"ITensors\")'\n",
    "$ julia -e 'using Pkg; Pkg.add([\"Plots\", \"PythonPlot\", \"LaTeXStrings\"])'\n",
    "```"
   ]
  },
  {
   "cell_type": "markdown",
   "id": "2729bcf9",
   "metadata": {},
   "source": [
    "This will install required packages to Julia's global envrironment."
   ]
  },
  {
   "cell_type": "markdown",
   "id": "1e36c0e8",
   "metadata": {},
   "source": [
    "### Print out the status of the project\n",
    "\n",
    "Having trouble? Try the following command in your Julia's REPL. On GitHub Actions instance we'll get:"
   ]
  },
  {
   "cell_type": "code",
   "execution_count": null,
   "id": "bc6f898b",
   "metadata": {},
   "outputs": [],
   "source": [
    "using Dates; now(UTC)\n",
    "VERSION # display Julia version\n",
    "using Pkg; Pkg.status()"
   ]
  },
  {
   "cell_type": "markdown",
   "id": "8c0946a1",
   "metadata": {},
   "source": [
    "## Examples\n",
    "\n",
    "```\n",
    "Pages = [\n",
    "    \"quantics1d.md\",\n",
    "    \"quantics2d.md\",\n",
    "    \"interfacingwithitensors.md\",\n",
    "]\n",
    "Depth = 2\n",
    "```\n",
    "\n",
    "## For developers\n",
    "\n",
    "For those who want to build documentation for `T4FExample.jl`, run the following command:\n",
    "\n",
    "```sh\n",
    "$ git clone https://gitlab.com/tensors4fields/T4FExamples.jl.git\n",
    "$ cd T4FExamples.jl.git\n",
    "$ julia --project=docs -e 'using Pkg; Pkg.develop(path=pwd()); using LiveServer; servedocs()'\n",
    "```"
   ]
  }
 ],
 "metadata": {
  "jupytext": {
   "formats": "ipynb,jl:percent"
  },
  "kernelspec": {
   "display_name": "Julia 1.10.3",
   "language": "julia",
   "name": "julia-1.10"
  }
 },
 "nbformat": 4,
 "nbformat_minor": 5
}
