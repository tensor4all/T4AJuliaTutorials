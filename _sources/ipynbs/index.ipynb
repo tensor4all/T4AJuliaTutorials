{
 "cells": [
  {
   "cell_type": "markdown",
   "id": "c1a238e0",
   "metadata": {},
   "source": [
    "# T4A Julia Tutorials\n",
    "This documentation provides a comprehensive tutorials/examples\n",
    "on quantics and tensor cross interpolation (TCI) and their combinations (QTCI).\n",
    "These technologies allow us to reveal low-rank tensor network representation (TNR) hidden in data or a function,\n",
    "and perform computation such as Fourier transform and convolution.\n",
    "Please refer [xfacpaper]() for a more detailed introduction of these concepts.\n",
    "\n",
    "The T4A group hosts various Julia libraries for performing such operations.\n",
    "The folowing list is given in the order of low-level to high-level libraries:\n",
    "\n",
    "* [TensorCrossInterpolation.jl](https://github.com/tensor4all/TensorCrossInterpolation.jl/) provides implementations of TCI.\n",
    "* [QuanticsGrids.jl](https://github.com/tensor4all/QuanticsGrids.jl/) provides utilities for handling quantics representations, e.g., creating a quantics grid and transformation between the original coordinate system and the quantics representation.\n",
    "* [QuanticsTCI.jl](https://github.com/tensor4all/QuanticsTCI.jl/) is a thin wrapper around `TensorCrossInterpolation.jl` and `QuanticsGrids.jl`, providing valuable functionalities for non-expert users' performing quantics TCI (QTCI).\n",
    "* [TCIITensorConversion.jl](https://github.com/tensor4all/TCIITensorConversion.jl/) provides conversions of tensor trains between `TensorCrossInterpolation.jl` and `ITensors.jl`.\n",
    "\n",
    "This documentation provides examples of using these libraries to perform QTCI and other operations.\n",
    "\n",
    "## Preparation\n",
    "\n",
    "### Install Julia\n",
    "\n",
    "Install `julia` command using [juliaup](https://github.com/JuliaLang/juliaup).\n",
    "\n",
    "On Windows Julia and Juliaup can be installed directly from the Windows store. One can also install exactly the same version by executing"
   ]
  },
  {
   "cell_type": "markdown",
   "id": "5027559e",
   "metadata": {},
   "source": [
    "```powershell\n",
    "PS> winget install julia -s msstore\n",
    "```"
   ]
  },
  {
   "cell_type": "markdown",
   "id": "4f8b0d7c",
   "metadata": {},
   "source": [
    "on a command line.\n",
    "\n",
    "Juliaup can be installed on Linux or Mac by executing"
   ]
  },
  {
   "cell_type": "markdown",
   "id": "02dc47fd",
   "metadata": {},
   "source": [
    "```sh\n",
    "$ curl -fsSL https://install.julialang.org | sh\n",
    "```"
   ]
  },
  {
   "cell_type": "markdown",
   "id": "817d4893",
   "metadata": {},
   "source": [
    "in a shell.\n",
    "\n",
    "You can check that `julia` is installed correctly by simply running `julia` in your terminal:\n",
    "\n",
    "```julia-repl\n",
    "               _\n",
    "   _       _ _(_)_     |  Documentation: https://docs.julialang.org\n",
    "  (_)     | (_) (_)    |\n",
    "   _ _   _| |_  __ _   |  Type \"?\" for help, \"]?\" for Pkg help.\n",
    "  | | | | | | |/ _` |  |\n",
    "  | | |_| | | | (_| |  |  Version 1.10.1 (2024-02-13)\n",
    " _/ |\\__'_|_|_|\\__'_|  |  Official https://julialang.org/ release\n",
    "|__/                   |\n",
    "\n",
    "julia>\n",
    "```\n",
    "\n",
    "The REPL greets you with a banner and a `julia>` prompt. Let's display \"Hello World\":\n",
    "\n",
    "```julia-repl\n",
    "julia> println(\"Hello World\")\n",
    "```\n",
    "\n",
    "To see the environment in which Julia is running, you can use `versioninfo()`.\n",
    "\n",
    "```julia-repl\n",
    "julia> versioninfo()\n",
    "```\n",
    "\n",
    "To exit the interactive session, type `exit()` followed by the return or enter key:\n",
    "\n",
    "```julia-repl\n",
    "julia> exit()\n",
    "```\n",
    "\n",
    "See the official documentation at [The Julia REPL](https://docs.julialang.org/en/v1/stdlib/REPL/) to learn more.\n",
    "\n",
    "### Install required packages\n",
    "\n",
    "One can install required packages by running the following command on your shell:"
   ]
  },
  {
   "cell_type": "markdown",
   "id": "d1ace02c",
   "metadata": {},
   "source": [
    "```sh\n",
    "$ julia -e 'using Pkg; Pkg.add([\"QuanticsTCI\", \"QuanticsGrids\", \"TensorCrossInterpolation\", \"TCIITensorConversion\", \"ITensors\", \"Plots\", \"PythonPlot\", \"LaTeXStrings\"])'\n",
    "```"
   ]
  },
  {
   "cell_type": "markdown",
   "id": "4bc5b235",
   "metadata": {},
   "source": [
    "This will install required packages to Julia's global envrironment."
   ]
  },
  {
   "cell_type": "markdown",
   "id": "7dcbe275",
   "metadata": {},
   "source": [
    "### Print out the status of the project\n",
    "\n",
    "Having trouble? Try the following command in your Julia's REPL. On GitHub Actions instance we'll get:"
   ]
  },
  {
   "cell_type": "code",
   "execution_count": null,
   "id": "3e982ae6",
   "metadata": {},
   "outputs": [],
   "source": [
    "using Dates; now(UTC)\n",
    "VERSION # display Julia version\n",
    "using Pkg; Pkg.status()"
   ]
  }
 ],
 "metadata": {
  "jupytext": {
   "custom_cell_magics": "kql",
   "formats": "ipynb,jl:percent"
  },
  "kernelspec": {
   "display_name": "Julia 1.10.3",
   "language": "julia",
   "name": "julia-1.10"
  }
 },
 "nbformat": 4,
 "nbformat_minor": 5
}