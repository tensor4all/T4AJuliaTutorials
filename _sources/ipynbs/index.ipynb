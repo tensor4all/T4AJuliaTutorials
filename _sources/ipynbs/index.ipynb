{
 "cells": [
  {
   "cell_type": "markdown",
   "id": "1b9b931a",
   "metadata": {},
   "source": [
    "# T4A Julia Tutorials\n",
    "This documentation provides a comprehensive tutorials/examples\n",
    "on quantics and tensor cross interpolation (TCI) and their combinations (QTCI).\n",
    "These technologies allow us to reveal low-rank tensor network representation (TNR) hidden in data or a function,\n",
    "and peform computation such as Fourier transform and convolution.\n",
    "Plesae refer [xfacpaper]() for a more detailed introduction of these concepts.\n",
    "\n",
    "The T4F group hosts various Julia libraries for performing such operations.\n",
    "The folowing list is given in the order of low-level to high-level libraries:\n",
    "\n",
    "* [TensorCrossInterpolation.jl](https://tensors4fields.gitlab.io/tensorcrossinterpolation.jl/dev/index.html) provides implementations of TCI.\n",
    "* [QuanticsGrids.jl](https://gitlab.com/tensors4fields/quanticstci.jl/-/blob/main/README.md?ref_type=heads) provides utilities for handing quantics representations, e.g., creating a quantics grid and transformation between the original coordinate system and the quantics representation.\n",
    "* [QuanticsTCI.jl](https://tensors4fields.gitlab.io/quanticstci.jl/dev/index.html) is a thin wrapper around `TensorCrossInterpolation.jl` and `QuanticsGrids.jl`, providing valuable functionalities for non-expert users' performing quantics TCI (QTCI).\n",
    "* [TCIITensorConversion.jl](https://gitlab.com/tensors4fields/tciitensorconversion.jl) provides conversions of tensor trains between `TensorCrossInterpolation.jl` and `ITensors.jl`.\n",
    "\n",
    "This documentation provides examples of using these libraries to perform QTCI and other operations.\n",
    "\n",
    "## Preparation\n",
    "\n",
    "### Install Julia\n",
    "\n",
    "Install `julia` command using [juliaup](https://github.com/JuliaLang/juliaup).\n",
    "\n",
    "On Windows Julia and Juliaup can be installed directly from the Windows store. One can also install exactly the same version by executing"
   ]
  },
  {
   "cell_type": "markdown",
   "id": "dbefd0e8",
   "metadata": {},
   "source": [
    "```powershell\n",
    "PS> winget install julia -s msstore\n",
    "```"
   ]
  },
  {
   "cell_type": "markdown",
   "id": "0f7ca9ea",
   "metadata": {},
   "source": [
    "on a command line.\n",
    "\n",
    "Juliaup can be installed on Linux or Mac by executing"
   ]
  },
  {
   "cell_type": "markdown",
   "id": "d15abd0a",
   "metadata": {},
   "source": [
    "```sh\n",
    "$ curl -fsSL https://install.julialang.org | sh\n",
    "```"
   ]
  },
  {
   "cell_type": "markdown",
   "id": "5b307eb8",
   "metadata": {},
   "source": [
    "in a shell.\n",
    "\n",
    "You can check that `julia` is installed correctly by simply running `julia` in your terminal:\n",
    "\n",
    "```julia-repl\n",
    "               _\n",
    "   _       _ _(_)_     |  Documentation: https://docs.julialang.org\n",
    "  (_)     | (_) (_)    |\n",
    "   _ _   _| |_  __ _   |  Type \"?\" for help, \"]?\" for Pkg help.\n",
    "  | | | | | | |/ _` |  |\n",
    "  | | |_| | | | (_| |  |  Version 1.10.1 (2024-02-13)\n",
    " _/ |\\__'_|_|_|\\__'_|  |  Official https://julialang.org/ release\n",
    "|__/                   |\n",
    "\n",
    "julia>\n",
    "```\n",
    "\n",
    "The REPL greets you with a banner and a `julia>` prompt. Let's display \"Hello World\":\n",
    "\n",
    "```julia-repl\n",
    "julia> println(\"Hello World\")\n",
    "```\n",
    "\n",
    "To see the environment in which Julia is running, you can use `versioninfo()`.\n",
    "\n",
    "```julia-repl\n",
    "julia> versioninfo()\n",
    "```\n",
    "\n",
    "To exit the interactive session, type `exit()` followed by the return or enter key:\n",
    "\n",
    "```julia-repl\n",
    "julia> exit()\n",
    "```\n",
    "\n",
    "See the official documentation at [The Julia REPL](https://docs.julialang.org/en/v1/stdlib/REPL/) to learn more.\n",
    "\n",
    "### Install required packages\n",
    "\n",
    "One can install required packages by running the following command on your shell:"
   ]
  },
  {
   "cell_type": "markdown",
   "id": "850e1a74",
   "metadata": {},
   "source": [
    "```sh\n",
    "$ julia -e 'using Pkg; Pkg.add([\"QuanticsTCI\", \"QuanticsGrids\", \"TensorCrossInterpolation\", \"TCIITensorConversion\", \"ITensors\", \"Plots\", \"PythonPlot\", \"LaTeXStrings\"])'\n",
    "```"
   ]
  },
  {
   "cell_type": "markdown",
   "id": "a7ed55c4",
   "metadata": {},
   "source": [
    "This will install required packages to Julia's global envrironment."
   ]
  },
  {
   "cell_type": "markdown",
   "id": "27ca562c",
   "metadata": {},
   "source": [
    "### Print out the status of the project\n",
    "\n",
    "Having trouble? Try the following command in your Julia's REPL. On GitHub Actions instance we'll get:"
   ]
  },
  {
   "cell_type": "code",
   "execution_count": 1,
   "id": "08eb22c8",
   "metadata": {},
   "outputs": [
    {
     "name": "stdout",
     "output_type": "stream",
     "text": [
      "\u001b[32m\u001b[1mStatus\u001b[22m\u001b[39m `~/work/T4AJuliaTutorials/T4AJuliaTutorials/Project.toml`\n",
      "  \u001b[90m[992eb4ea] \u001b[39mCondaPkg v0.2.22\n",
      "  \u001b[90m[e30172f5] \u001b[39mDocumenter v1.4.1\n",
      "  \u001b[90m[28b8d3ca] \u001b[39mGR v0.73.5\n",
      "  \u001b[90m[7073ff75] \u001b[39mIJulia v1.24.2\n",
      "\u001b[33m⌅\u001b[39m \u001b[90m[9136182c] \u001b[39mITensors v0.3.68\n",
      "  \u001b[90m[b964fa9f] \u001b[39mLaTeXStrings v1.3.1\n",
      "  \u001b[90m[16fef848] \u001b[39mLiveServer v1.3.1\n",
      "  \u001b[90m[91a5bcdd] \u001b[39mPlots v1.40.4\n",
      "  \u001b[90m[6099a3de] \u001b[39mPythonCall v0.9.20\n",
      "\u001b[33m⌅\u001b[39m \u001b[90m[274fc56d] \u001b[39mPythonPlot v1.0.2\n",
      "  \u001b[90m[634c7f73] \u001b[39mQuanticsGrids v0.3.2\n",
      "  \u001b[90m[b11687fd] \u001b[39mQuanticsTCI v0.6.0\n",
      "  \u001b[90m[9f0aa9f4] \u001b[39mTCIITensorConversion v0.1.3\n",
      "  \u001b[90m[b261b2ec] \u001b[39mTensorCrossInterpolation v0.9.6\n",
      "\u001b[36m\u001b[1mInfo\u001b[22m\u001b[39m Packages marked with \u001b[33m⌅\u001b[39m have new versions available but compatibility constraints restrict them from upgrading. To see why use `status --outdated`\n"
     ]
    }
   ],
   "source": [
    "using Dates; now(UTC)\n",
    "VERSION # display Julia version\n",
    "using Pkg; Pkg.status()"
   ]
  }
 ],
 "metadata": {
  "jupytext": {
   "custom_cell_magics": "kql",
   "formats": "ipynb,jl:percent"
  },
  "kernelspec": {
   "display_name": "Julia 1.10.3",
   "language": "julia",
   "name": "julia-1.10"
  },
  "language_info": {
   "file_extension": ".jl",
   "mimetype": "application/julia",
   "name": "julia",
   "version": "1.10.3"
  }
 },
 "nbformat": 4,
 "nbformat_minor": 5
}