{
 "cells": [
  {
   "cell_type": "markdown",
   "id": "0dbbaa1c",
   "metadata": {},
   "source": [
    "Click [here](https://gitlab.com/api/v4/projects/56283350/jobs/artifacts/main/raw/notebooks/interfacingwithitensors.ipynb?job=pages) to download the notebook locally.\n"
   ]
  },
  {
   "cell_type": "markdown",
   "id": "ebe1fc30",
   "metadata": {},
   "source": [
    "# Interfacing with ITensors.jl\n",
    "\n",
    "You can convert a TCI object to an ITensor MPS object using the `TCIITensorConversion.jl` library. This library provides conversions of tensor trains between `TensorCrossInterpolation.jl` and `ITensors.jl`.\n",
    "\n",
    "We first construct a TCI object:\n"
   ]
  },
  {
   "cell_type": "code",
   "execution_count": null,
   "id": "d90862c4",
   "metadata": {},
   "outputs": [],
   "source": [
    "import QuanticsGrids as QG\n",
    "using QuanticsTCI: quanticscrossinterpolate\n",
    "\n",
    "B = 2^(-30) # global variable\n",
    "function f(x)\n",
    "    return cos(x / B) * cos(x / (4 * sqrt(5) * B)) * exp(-x^2) + 2 * exp(-x)\n",
    "end\n",
    "\n",
    "R = 40 # number of bits\n",
    "xmin = 0.0\n",
    "xmax = 3.0\n",
    "qgrid = QG.DiscretizedGrid{1}(R, xmin, xmax; includeendpoint=false)\n",
    "ci, ranks, errors = quanticscrossinterpolate(Float64, f, qgrid; maxbonddim=15)"
   ]
  },
  {
   "cell_type": "markdown",
   "id": "b8cdcdc8",
   "metadata": {},
   "source": [
    "One can create a tensor train object from the TCI object, and then convert it to an ITensor MPS:\n"
   ]
  },
  {
   "cell_type": "code",
   "execution_count": null,
   "id": "04e773d1",
   "metadata": {
    "lines_to_next_cell": 2
   },
   "outputs": [],
   "source": [
    "import TensorCrossInterpolation as TCI\n",
    "\n",
    "# Construct a TensorTrain object from the TensorCI2 object\n",
    "\n",
    "tt = TCI.TensorTrain(ci.tci)\n",
    "\n",
    "# Convert the TensorTrain object to an ITensor MPS object\n",
    "\n",
    "using TCIITensorConversion\n",
    "using ITensors\n",
    "\n",
    "M = ITensors.MPS(tt)"
   ]
  }
 ],
 "metadata": {
  "jupytext": {
   "cell_metadata_filter": "-all",
   "custom_cell_magics": "kql"
  },
  "kernelspec": {
   "display_name": "Julia 1.10.3",
   "language": "julia",
   "name": "julia-1.10"
  }
 },
 "nbformat": 4,
 "nbformat_minor": 5
}