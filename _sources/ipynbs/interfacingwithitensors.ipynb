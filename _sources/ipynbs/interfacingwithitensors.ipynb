{
 "cells": [
  {
   "cell_type": "markdown",
   "id": "58c41ec0",
   "metadata": {},
   "source": [
    "Click [here](https://tensor4all.org/T4AJuliaTutorials/_sources/ipynbs/interfacingwithitensors.ipynb) to download the notebook locally.\n"
   ]
  },
  {
   "cell_type": "markdown",
   "id": "c18dc6cf",
   "metadata": {},
   "source": [
    "# Interfacing with ITensors.jl\n",
    "\n",
    "You can convert a TCI object to an ITensor MPS object using the `TCIITensorConversion.jl` library. This library provides conversions of tensor trains between `TensorCrossInterpolation.jl` and `ITensors.jl`.\n",
    "\n",
    "We first construct a TCI object:\n"
   ]
  },
  {
   "cell_type": "code",
   "execution_count": 1,
   "id": "c6470e8f",
   "metadata": {},
   "outputs": [
    {
     "data": {
      "text/plain": [
       "(QuanticsTCI.QuanticsTensorCI2{Float64}(TensorCrossInterpolation.TensorCI2{Float64} with rank 15, QuanticsGrids.DiscretizedGrid{1}(40, (0.0,), (3.0,), 2, :fused, false), TensorCrossInterpolation.CachedFunction{Float64, UInt128} with 28328 entries), [19, 17, 19], [5.589874021530762e-7, 5.736693833725287e-7, 5.736693833725287e-7])"
      ]
     },
     "execution_count": 1,
     "metadata": {},
     "output_type": "execute_result"
    }
   ],
   "source": [
    "import QuanticsGrids as QG\n",
    "using QuanticsTCI: quanticscrossinterpolate\n",
    "\n",
    "B = 2^(-30) # global variable\n",
    "function f(x)\n",
    "    return cos(x / B) * cos(x / (4 * sqrt(5) * B)) * exp(-x^2) + 2 * exp(-x)\n",
    "end\n",
    "\n",
    "R = 40 # number of bits\n",
    "xmin = 0.0\n",
    "xmax = 3.0\n",
    "qgrid = QG.DiscretizedGrid{1}(R, xmin, xmax; includeendpoint=false)\n",
    "ci, ranks, errors = quanticscrossinterpolate(Float64, f, qgrid; maxbonddim=15)"
   ]
  },
  {
   "cell_type": "markdown",
   "id": "7f0bf333",
   "metadata": {},
   "source": [
    "One can create a tensor train object from the TCI object, and then convert it to an ITensor MPS:\n"
   ]
  },
  {
   "cell_type": "code",
   "execution_count": 2,
   "id": "6987c3d0",
   "metadata": {
    "lines_to_next_cell": 2
   },
   "outputs": [
    {
     "data": {
      "text/plain": [
       "MPS\n",
       "[1] ((dim=2|id=251|\"n=1\"), (dim=2|id=6|\"l=1,link\"))\n",
       "[2] ((dim=2|id=6|\"l=1,link\"), (dim=2|id=545|\"n=2\"), (dim=4|id=897|\"l=2,link\"))\n",
       "[3] ((dim=4|id=897|\"l=2,link\"), (dim=2|id=362|\"n=3\"), (dim=8|id=707|\"l=3,link\"))\n",
       "[4] ((dim=8|id=707|\"l=3,link\"), (dim=2|id=200|\"n=4\"), (dim=15|id=887|\"l=4,link\"))\n",
       "[5] ((dim=15|id=887|\"l=4,link\"), (dim=2|id=515|\"n=5\"), (dim=15|id=136|\"l=5,link\"))\n",
       "[6] ((dim=15|id=136|\"l=5,link\"), (dim=2|id=582|\"n=6\"), (dim=15|id=437|\"l=6,link\"))\n",
       "[7] ((dim=15|id=437|\"l=6,link\"), (dim=2|id=683|\"n=7\"), (dim=15|id=692|\"l=7,link\"))\n",
       "[8] ((dim=15|id=692|\"l=7,link\"), (dim=2|id=895|\"n=8\"), (dim=13|id=621|\"l=8,link\"))\n",
       "[9] ((dim=13|id=621|\"l=8,link\"), (dim=2|id=107|\"n=9\"), (dim=13|id=445|\"l=9,link\"))\n",
       "[10] ((dim=13|id=445|\"l=9,link\"), (dim=2|id=84|\"n=10\"), (dim=13|id=879|\"l=10,link\"))\n",
       "[11] ((dim=13|id=879|\"l=10,link\"), (dim=2|id=217|\"n=11\"), (dim=13|id=233|\"l=11,link\"))\n",
       "[12] ((dim=13|id=233|\"l=11,link\"), (dim=2|id=341|\"n=12\"), (dim=11|id=6|\"l=12,link\"))\n",
       "[13] ((dim=11|id=6|\"l=12,link\"), (dim=2|id=487|\"n=13\"), (dim=9|id=659|\"l=13,link\"))\n",
       "[14] ((dim=9|id=659|\"l=13,link\"), (dim=2|id=41|\"n=14\"), (dim=9|id=304|\"l=14,link\"))\n",
       "[15] ((dim=9|id=304|\"l=14,link\"), (dim=2|id=855|\"n=15\"), (dim=9|id=258|\"l=15,link\"))\n",
       "[16] ((dim=9|id=258|\"l=15,link\"), (dim=2|id=627|\"n=16\"), (dim=9|id=644|\"l=16,link\"))\n",
       "[17] ((dim=9|id=644|\"l=16,link\"), (dim=2|id=216|\"n=17\"), (dim=9|id=918|\"l=17,link\"))\n",
       "[18] ((dim=9|id=918|\"l=17,link\"), (dim=2|id=253|\"n=18\"), (dim=9|id=380|\"l=18,link\"))\n",
       "[19] ((dim=9|id=380|\"l=18,link\"), (dim=2|id=312|\"n=19\"), (dim=9|id=737|\"l=19,link\"))\n",
       "[20] ((dim=9|id=737|\"l=19,link\"), (dim=2|id=698|\"n=20\"), (dim=9|id=810|\"l=20,link\"))\n",
       "[21] ((dim=9|id=810|\"l=20,link\"), (dim=2|id=392|\"n=21\"), (dim=9|id=194|\"l=21,link\"))\n",
       "[22] ((dim=9|id=194|\"l=21,link\"), (dim=2|id=206|\"n=22\"), (dim=9|id=238|\"l=22,link\"))\n",
       "[23] ((dim=9|id=238|\"l=22,link\"), (dim=2|id=716|\"n=23\"), (dim=9|id=558|\"l=23,link\"))\n",
       "[24] ((dim=9|id=558|\"l=23,link\"), (dim=2|id=688|\"n=24\"), (dim=9|id=934|\"l=24,link\"))\n",
       "[25] ((dim=9|id=934|\"l=24,link\"), (dim=2|id=867|\"n=25\"), (dim=8|id=55|\"l=25,link\"))\n",
       "[26] ((dim=8|id=55|\"l=25,link\"), (dim=2|id=618|\"n=26\"), (dim=5|id=624|\"l=26,link\"))\n",
       "[27] ((dim=5|id=624|\"l=26,link\"), (dim=2|id=599|\"n=27\"), (dim=5|id=227|\"l=27,link\"))\n",
       "[28] ((dim=5|id=227|\"l=27,link\"), (dim=2|id=428|\"n=28\"), (dim=5|id=651|\"l=28,link\"))\n",
       "[29] ((dim=5|id=651|\"l=28,link\"), (dim=2|id=786|\"n=29\"), (dim=5|id=176|\"l=29,link\"))\n",
       "[30] ((dim=5|id=176|\"l=29,link\"), (dim=2|id=887|\"n=30\"), (dim=5|id=382|\"l=30,link\"))\n",
       "[31] ((dim=5|id=382|\"l=30,link\"), (dim=2|id=276|\"n=31\"), (dim=5|id=917|\"l=31,link\"))\n",
       "[32] ((dim=5|id=917|\"l=31,link\"), (dim=2|id=962|\"n=32\"), (dim=5|id=594|\"l=32,link\"))\n",
       "[33] ((dim=5|id=594|\"l=32,link\"), (dim=2|id=870|\"n=33\"), (dim=5|id=281|\"l=33,link\"))\n",
       "[34] ((dim=5|id=281|\"l=33,link\"), (dim=2|id=878|\"n=34\"), (dim=5|id=193|\"l=34,link\"))\n",
       "[35] ((dim=5|id=193|\"l=34,link\"), (dim=2|id=260|\"n=35\"), (dim=4|id=671|\"l=35,link\"))\n",
       "[36] ((dim=4|id=671|\"l=35,link\"), (dim=2|id=244|\"n=36\"), (dim=4|id=598|\"l=36,link\"))\n",
       "[37] ((dim=4|id=598|\"l=36,link\"), (dim=2|id=478|\"n=37\"), (dim=3|id=891|\"l=37,link\"))\n",
       "[38] ((dim=3|id=891|\"l=37,link\"), (dim=2|id=635|\"n=38\"), (dim=3|id=229|\"l=38,link\"))\n",
       "[39] ((dim=3|id=229|\"l=38,link\"), (dim=2|id=144|\"n=39\"), (dim=2|id=771|\"l=39,link\"))\n",
       "[40] ((dim=2|id=771|\"l=39,link\"), (dim=2|id=396|\"n=40\"))\n"
      ]
     },
     "execution_count": 2,
     "metadata": {},
     "output_type": "execute_result"
    }
   ],
   "source": [
    "import TensorCrossInterpolation as TCI\n",
    "\n",
    "# Construct a TensorTrain object from the TensorCI2 object\n",
    "\n",
    "tt = TCI.TensorTrain(ci.tci)\n",
    "\n",
    "# Convert the TensorTrain object to an ITensor MPS object\n",
    "\n",
    "using TCIITensorConversion\n",
    "using ITensors\n",
    "\n",
    "M = ITensors.MPS(tt)"
   ]
  }
 ],
 "metadata": {
  "jupytext": {
   "cell_metadata_filter": "-all",
   "custom_cell_magics": "kql"
  },
  "kernelspec": {
   "display_name": "Julia 1.10.4",
   "language": "julia",
   "name": "julia-1.10"
  },
  "language_info": {
   "file_extension": ".jl",
   "mimetype": "application/julia",
   "name": "julia",
   "version": "1.10.4"
  }
 },
 "nbformat": 4,
 "nbformat_minor": 5
}