{
 "cells": [
  {
   "cell_type": "markdown",
   "id": "d488d7e4",
   "metadata": {},
   "source": [
    "Click [here](https://tensor4all.org/T4AJuliaTutorials/_sources/ipynbs/interfacingwithitensors.ipynb) to download the notebook locally.\n"
   ]
  },
  {
   "cell_type": "markdown",
   "id": "4011501c",
   "metadata": {},
   "source": [
    "# Interfacing with ITensors.jl\n",
    "\n",
    "You can convert a TCI object to an ITensor MPS object using the `TCIITensorConversion.jl` library. This library provides conversions of tensor trains between `TensorCrossInterpolation.jl` and `ITensors.jl`.\n",
    "\n",
    "We first construct a TCI object:\n"
   ]
  },
  {
   "cell_type": "code",
   "execution_count": 1,
   "id": "8293d1b9",
   "metadata": {},
   "outputs": [
    {
     "data": {
      "text/plain": [
       "(QuanticsTCI.QuanticsTensorCI2{Float64}(TensorCrossInterpolation.TensorCI2{Float64} with rank 15, QuanticsGrids.DiscretizedGrid{1}(40, (0.0,), (3.0,), 2, :fused, false), TensorCrossInterpolation.CachedFunction{Float64, UInt128} with 28524 entries), [18, 19, 20], [6.952448947941417e-7, 7.910625534662039e-7, 7.799600978879655e-7])"
      ]
     },
     "execution_count": 1,
     "metadata": {},
     "output_type": "execute_result"
    }
   ],
   "source": [
    "import QuanticsGrids as QG\n",
    "using QuanticsTCI: quanticscrossinterpolate\n",
    "\n",
    "B = 2^(-30) # global variable\n",
    "function f(x)\n",
    "    return cos(x / B) * cos(x / (4 * sqrt(5) * B)) * exp(-x^2) + 2 * exp(-x)\n",
    "end\n",
    "\n",
    "R = 40 # number of bits\n",
    "xmin = 0.0\n",
    "xmax = 3.0\n",
    "qgrid = QG.DiscretizedGrid{1}(R, xmin, xmax; includeendpoint=false)\n",
    "ci, ranks, errors = quanticscrossinterpolate(Float64, f, qgrid; maxbonddim=15)"
   ]
  },
  {
   "cell_type": "markdown",
   "id": "d57831f0",
   "metadata": {},
   "source": [
    "One can create a tensor train object from the TCI object, and then convert it to an ITensor MPS:\n"
   ]
  },
  {
   "cell_type": "code",
   "execution_count": 2,
   "id": "d547ee60",
   "metadata": {
    "lines_to_next_cell": 2
   },
   "outputs": [
    {
     "data": {
      "text/plain": [
       "MPS\n",
       "[1] ((dim=2|id=882|\"n=1\"), (dim=2|id=158|\"l=1,link\"))\n",
       "[2] ((dim=2|id=158|\"l=1,link\"), (dim=2|id=522|\"n=2\"), (dim=4|id=63|\"l=2,link\"))\n",
       "[3] ((dim=4|id=63|\"l=2,link\"), (dim=2|id=211|\"n=3\"), (dim=8|id=66|\"l=3,link\"))\n",
       "[4] ((dim=8|id=66|\"l=3,link\"), (dim=2|id=203|\"n=4\"), (dim=15|id=745|\"l=4,link\"))\n",
       "[5] ((dim=15|id=745|\"l=4,link\"), (dim=2|id=873|\"n=5\"), (dim=15|id=809|\"l=5,link\"))\n",
       "[6] ((dim=15|id=809|\"l=5,link\"), (dim=2|id=29|\"n=6\"), (dim=15|id=438|\"l=6,link\"))\n",
       "[7] ((dim=15|id=438|\"l=6,link\"), (dim=2|id=316|\"n=7\"), (dim=15|id=601|\"l=7,link\"))\n",
       "[8] ((dim=15|id=601|\"l=7,link\"), (dim=2|id=411|\"n=8\"), (dim=13|id=844|\"l=8,link\"))\n",
       "[9] ((dim=13|id=844|\"l=8,link\"), (dim=2|id=915|\"n=9\"), (dim=13|id=688|\"l=9,link\"))\n",
       "[10] ((dim=13|id=688|\"l=9,link\"), (dim=2|id=997|\"n=10\"), (dim=13|id=968|\"l=10,link\"))\n",
       "[11] ((dim=13|id=968|\"l=10,link\"), (dim=2|id=209|\"n=11\"), (dim=13|id=803|\"l=11,link\"))\n",
       "[12] ((dim=13|id=803|\"l=11,link\"), (dim=2|id=596|\"n=12\"), (dim=10|id=800|\"l=12,link\"))\n",
       "[13] ((dim=10|id=800|\"l=12,link\"), (dim=2|id=974|\"n=13\"), (dim=9|id=432|\"l=13,link\"))\n",
       "[14] ((dim=9|id=432|\"l=13,link\"), (dim=2|id=337|\"n=14\"), (dim=9|id=89|\"l=14,link\"))\n",
       "[15] ((dim=9|id=89|\"l=14,link\"), (dim=2|id=528|\"n=15\"), (dim=9|id=383|\"l=15,link\"))\n",
       "[16] ((dim=9|id=383|\"l=15,link\"), (dim=2|id=707|\"n=16\"), (dim=9|id=92|\"l=16,link\"))\n",
       "[17] ((dim=9|id=92|\"l=16,link\"), (dim=2|id=327|\"n=17\"), (dim=9|id=585|\"l=17,link\"))\n",
       "[18] ((dim=9|id=585|\"l=17,link\"), (dim=2|id=589|\"n=18\"), (dim=9|id=517|\"l=18,link\"))\n",
       "[19] ((dim=9|id=517|\"l=18,link\"), (dim=2|id=768|\"n=19\"), (dim=9|id=814|\"l=19,link\"))\n",
       "[20] ((dim=9|id=814|\"l=19,link\"), (dim=2|id=251|\"n=20\"), (dim=9|id=175|\"l=20,link\"))\n",
       "[21] ((dim=9|id=175|\"l=20,link\"), (dim=2|id=113|\"n=21\"), (dim=9|id=901|\"l=21,link\"))\n",
       "[22] ((dim=9|id=901|\"l=21,link\"), (dim=2|id=669|\"n=22\"), (dim=9|id=244|\"l=22,link\"))\n",
       "[23] ((dim=9|id=244|\"l=22,link\"), (dim=2|id=168|\"n=23\"), (dim=9|id=882|\"l=23,link\"))\n",
       "[24] ((dim=9|id=882|\"l=23,link\"), (dim=2|id=867|\"n=24\"), (dim=9|id=234|\"l=24,link\"))\n",
       "[25] ((dim=9|id=234|\"l=24,link\"), (dim=2|id=624|\"n=25\"), (dim=8|id=192|\"l=25,link\"))\n",
       "[26] ((dim=8|id=192|\"l=25,link\"), (dim=2|id=101|\"n=26\"), (dim=5|id=397|\"l=26,link\"))\n",
       "[27] ((dim=5|id=397|\"l=26,link\"), (dim=2|id=52|\"n=27\"), (dim=5|id=195|\"l=27,link\"))\n",
       "[28] ((dim=5|id=195|\"l=27,link\"), (dim=2|id=975|\"n=28\"), (dim=5|id=162|\"l=28,link\"))\n",
       "[29] ((dim=5|id=162|\"l=28,link\"), (dim=2|id=969|\"n=29\"), (dim=5|id=134|\"l=29,link\"))\n",
       "[30] ((dim=5|id=134|\"l=29,link\"), (dim=2|id=409|\"n=30\"), (dim=5|id=252|\"l=30,link\"))\n",
       "[31] ((dim=5|id=252|\"l=30,link\"), (dim=2|id=749|\"n=31\"), (dim=5|id=563|\"l=31,link\"))\n",
       "[32] ((dim=5|id=563|\"l=31,link\"), (dim=2|id=975|\"n=32\"), (dim=5|id=268|\"l=32,link\"))\n",
       "[33] ((dim=5|id=268|\"l=32,link\"), (dim=2|id=388|\"n=33\"), (dim=5|id=582|\"l=33,link\"))\n",
       "[34] ((dim=5|id=582|\"l=33,link\"), (dim=2|id=152|\"n=34\"), (dim=5|id=567|\"l=34,link\"))\n",
       "[35] ((dim=5|id=567|\"l=34,link\"), (dim=2|id=217|\"n=35\"), (dim=4|id=42|\"l=35,link\"))\n",
       "[36] ((dim=4|id=42|\"l=35,link\"), (dim=2|id=937|\"n=36\"), (dim=4|id=990|\"l=36,link\"))\n",
       "[37] ((dim=4|id=990|\"l=36,link\"), (dim=2|id=158|\"n=37\"), (dim=3|id=440|\"l=37,link\"))\n",
       "[38] ((dim=3|id=440|\"l=37,link\"), (dim=2|id=193|\"n=38\"), (dim=3|id=232|\"l=38,link\"))\n",
       "[39] ((dim=3|id=232|\"l=38,link\"), (dim=2|id=293|\"n=39\"), (dim=2|id=630|\"l=39,link\"))\n",
       "[40] ((dim=2|id=630|\"l=39,link\"), (dim=2|id=709|\"n=40\"))\n"
      ]
     },
     "execution_count": 2,
     "metadata": {},
     "output_type": "execute_result"
    }
   ],
   "source": [
    "import TensorCrossInterpolation as TCI\n",
    "\n",
    "# Construct a TensorTrain object from the TensorCI2 object\n",
    "\n",
    "tt = TCI.TensorTrain(ci.tci)\n",
    "\n",
    "# Convert the TensorTrain object to an ITensor MPS object\n",
    "\n",
    "using TCIITensorConversion\n",
    "using ITensors\n",
    "\n",
    "M = ITensors.MPS(tt)"
   ]
  }
 ],
 "metadata": {
  "jupytext": {
   "cell_metadata_filter": "-all",
   "custom_cell_magics": "kql"
  },
  "kernelspec": {
   "display_name": "Julia 1.10.4",
   "language": "julia",
   "name": "julia-1.10"
  },
  "language_info": {
   "file_extension": ".jl",
   "mimetype": "application/julia",
   "name": "julia",
   "version": "1.10.4"
  }
 },
 "nbformat": 4,
 "nbformat_minor": 5
}