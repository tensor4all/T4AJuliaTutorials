{
 "cells": [
  {
   "cell_type": "markdown",
   "id": "f20a5ee9",
   "metadata": {},
   "source": [
    "Click [here](https://gitlab.com/api/v4/projects/56283350/jobs/artifacts/main/raw/notebooks/interfacingwithitensors.ipynb?job=pages) to download the notebook locally.\n"
   ]
  },
  {
   "cell_type": "markdown",
   "id": "e4d5bc23",
   "metadata": {},
   "source": [
    "# Interfacing with ITensors.jl\n",
    "\n",
    "You can convert a TCI object to an ITensor MPS object using the `TCIITensorConversion.jl` library. This library provides conversions of tensor trains between `TensorCrossInterpolation.jl` and `ITensors.jl`.\n",
    "\n",
    "We first construct a TCI object:\n"
   ]
  },
  {
   "cell_type": "code",
   "execution_count": 1,
   "id": "6b0edaa6",
   "metadata": {},
   "outputs": [
    {
     "data": {
      "text/plain": [
       "(QuanticsTCI.QuanticsTensorCI2{Float64}(TensorCrossInterpolation.TensorCI2{Float64} with rank 15, QuanticsGrids.DiscretizedGrid{1}(40, (0.0,), (3.0,), 2, :fused, false), TensorCrossInterpolation.CachedFunction{Float64, UInt128} with 29576 entries), [20, 18, 19], [4.792661786793327e-7, 9.737065948156875e-7, 9.737065948156875e-7])"
      ]
     },
     "execution_count": 1,
     "metadata": {},
     "output_type": "execute_result"
    }
   ],
   "source": [
    "import QuanticsGrids as QG\n",
    "using QuanticsTCI: quanticscrossinterpolate\n",
    "\n",
    "B = 2^(-30) # global variable\n",
    "function f(x)\n",
    "    return cos(x / B) * cos(x / (4 * sqrt(5) * B)) * exp(-x^2) + 2 * exp(-x)\n",
    "end\n",
    "\n",
    "R = 40 # number of bits\n",
    "xmin = 0.0\n",
    "xmax = 3.0\n",
    "qgrid = QG.DiscretizedGrid{1}(R, xmin, xmax; includeendpoint=false)\n",
    "ci, ranks, errors = quanticscrossinterpolate(Float64, f, qgrid; maxbonddim=15)"
   ]
  },
  {
   "cell_type": "markdown",
   "id": "2c01e175",
   "metadata": {},
   "source": [
    "One can create a tensor train object from the TCI object, and then convert it to an ITensor MPS:\n"
   ]
  },
  {
   "cell_type": "code",
   "execution_count": 2,
   "id": "6a511d90",
   "metadata": {
    "lines_to_next_cell": 2
   },
   "outputs": [
    {
     "data": {
      "text/plain": [
       "MPS\n",
       "[1] ((dim=2|id=32|\"n=1\"), (dim=2|id=719|\"l=1,link\"))\n",
       "[2] ((dim=2|id=719|\"l=1,link\"), (dim=2|id=979|\"n=2\"), (dim=4|id=918|\"l=2,link\"))\n",
       "[3] ((dim=4|id=918|\"l=2,link\"), (dim=2|id=211|\"n=3\"), (dim=8|id=464|\"l=3,link\"))\n",
       "[4] ((dim=8|id=464|\"l=3,link\"), (dim=2|id=191|\"n=4\"), (dim=15|id=300|\"l=4,link\"))\n",
       "[5] ((dim=15|id=300|\"l=4,link\"), (dim=2|id=600|\"n=5\"), (dim=15|id=510|\"l=5,link\"))\n",
       "[6] ((dim=15|id=510|\"l=5,link\"), (dim=2|id=89|\"n=6\"), (dim=15|id=690|\"l=6,link\"))\n",
       "[7] ((dim=15|id=690|\"l=6,link\"), (dim=2|id=191|\"n=7\"), (dim=15|id=100|\"l=7,link\"))\n",
       "[8] ((dim=15|id=100|\"l=7,link\"), (dim=2|id=367|\"n=8\"), (dim=13|id=35|\"l=8,link\"))\n",
       "[9] ((dim=13|id=35|\"l=8,link\"), (dim=2|id=995|\"n=9\"), (dim=13|id=404|\"l=9,link\"))\n",
       "[10] ((dim=13|id=404|\"l=9,link\"), (dim=2|id=791|\"n=10\"), (dim=13|id=527|\"l=10,link\"))\n",
       "[11] ((dim=13|id=527|\"l=10,link\"), (dim=2|id=776|\"n=11\"), (dim=13|id=772|\"l=11,link\"))\n",
       "[12] ((dim=13|id=772|\"l=11,link\"), (dim=2|id=943|\"n=12\"), (dim=10|id=929|\"l=12,link\"))\n",
       "[13] ((dim=10|id=929|\"l=12,link\"), (dim=2|id=587|\"n=13\"), (dim=9|id=537|\"l=13,link\"))\n",
       "[14] ((dim=9|id=537|\"l=13,link\"), (dim=2|id=303|\"n=14\"), (dim=9|id=603|\"l=14,link\"))\n",
       "[15] ((dim=9|id=603|\"l=14,link\"), (dim=2|id=477|\"n=15\"), (dim=9|id=439|\"l=15,link\"))\n",
       "[16] ((dim=9|id=439|\"l=15,link\"), (dim=2|id=77|\"n=16\"), (dim=9|id=940|\"l=16,link\"))\n",
       "[17] ((dim=9|id=940|\"l=16,link\"), (dim=2|id=203|\"n=17\"), (dim=9|id=175|\"l=17,link\"))\n",
       "[18] ((dim=9|id=175|\"l=17,link\"), (dim=2|id=753|\"n=18\"), (dim=9|id=29|\"l=18,link\"))\n",
       "[19] ((dim=9|id=29|\"l=18,link\"), (dim=2|id=192|\"n=19\"), (dim=9|id=932|\"l=19,link\"))\n",
       "[20] ((dim=9|id=932|\"l=19,link\"), (dim=2|id=947|\"n=20\"), (dim=9|id=380|\"l=20,link\"))\n",
       "[21] ((dim=9|id=380|\"l=20,link\"), (dim=2|id=395|\"n=21\"), (dim=9|id=534|\"l=21,link\"))\n",
       "[22] ((dim=9|id=534|\"l=21,link\"), (dim=2|id=820|\"n=22\"), (dim=9|id=505|\"l=22,link\"))\n",
       "[23] ((dim=9|id=505|\"l=22,link\"), (dim=2|id=467|\"n=23\"), (dim=9|id=27|\"l=23,link\"))\n",
       "[24] ((dim=9|id=27|\"l=23,link\"), (dim=2|id=634|\"n=24\"), (dim=9|id=23|\"l=24,link\"))\n",
       "[25] ((dim=9|id=23|\"l=24,link\"), (dim=2|id=930|\"n=25\"), (dim=8|id=863|\"l=25,link\"))\n",
       "[26] ((dim=8|id=863|\"l=25,link\"), (dim=2|id=643|\"n=26\"), (dim=5|id=613|\"l=26,link\"))\n",
       "[27] ((dim=5|id=613|\"l=26,link\"), (dim=2|id=330|\"n=27\"), (dim=5|id=258|\"l=27,link\"))\n",
       "[28] ((dim=5|id=258|\"l=27,link\"), (dim=2|id=216|\"n=28\"), (dim=5|id=375|\"l=28,link\"))\n",
       "[29] ((dim=5|id=375|\"l=28,link\"), (dim=2|id=513|\"n=29\"), (dim=5|id=506|\"l=29,link\"))\n",
       "[30] ((dim=5|id=506|\"l=29,link\"), (dim=2|id=479|\"n=30\"), (dim=5|id=213|\"l=30,link\"))\n",
       "[31] ((dim=5|id=213|\"l=30,link\"), (dim=2|id=945|\"n=31\"), (dim=5|id=768|\"l=31,link\"))\n",
       "[32] ((dim=5|id=768|\"l=31,link\"), (dim=2|id=523|\"n=32\"), (dim=5|id=525|\"l=32,link\"))\n",
       "[33] ((dim=5|id=525|\"l=32,link\"), (dim=2|id=11|\"n=33\"), (dim=5|id=560|\"l=33,link\"))\n",
       "[34] ((dim=5|id=560|\"l=33,link\"), (dim=2|id=358|\"n=34\"), (dim=5|id=436|\"l=34,link\"))\n",
       "[35] ((dim=5|id=436|\"l=34,link\"), (dim=2|id=949|\"n=35\"), (dim=4|id=116|\"l=35,link\"))\n",
       "[36] ((dim=4|id=116|\"l=35,link\"), (dim=2|id=578|\"n=36\"), (dim=4|id=388|\"l=36,link\"))\n",
       "[37] ((dim=4|id=388|\"l=36,link\"), (dim=2|id=519|\"n=37\"), (dim=3|id=380|\"l=37,link\"))\n",
       "[38] ((dim=3|id=380|\"l=37,link\"), (dim=2|id=237|\"n=38\"), (dim=3|id=660|\"l=38,link\"))\n",
       "[39] ((dim=3|id=660|\"l=38,link\"), (dim=2|id=839|\"n=39\"), (dim=2|id=861|\"l=39,link\"))\n",
       "[40] ((dim=2|id=861|\"l=39,link\"), (dim=2|id=108|\"n=40\"))\n"
      ]
     },
     "execution_count": 2,
     "metadata": {},
     "output_type": "execute_result"
    }
   ],
   "source": [
    "import TensorCrossInterpolation as TCI\n",
    "\n",
    "# Construct a TensorTrain object from the TensorCI2 object\n",
    "\n",
    "tt = TCI.TensorTrain(ci.tci)\n",
    "\n",
    "# Convert the TensorTrain object to an ITensor MPS object\n",
    "\n",
    "using TCIITensorConversion\n",
    "using ITensors\n",
    "\n",
    "M = ITensors.MPS(tt)"
   ]
  }
 ],
 "metadata": {
  "jupytext": {
   "cell_metadata_filter": "-all",
   "custom_cell_magics": "kql"
  },
  "kernelspec": {
   "display_name": "Julia 1.10.3",
   "language": "julia",
   "name": "julia-1.10"
  },
  "language_info": {
   "file_extension": ".jl",
   "mimetype": "application/julia",
   "name": "julia",
   "version": "1.10.3"
  }
 },
 "nbformat": 4,
 "nbformat_minor": 5
}