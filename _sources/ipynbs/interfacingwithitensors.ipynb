{
 "cells": [
  {
   "cell_type": "markdown",
   "id": "11ec6a1d",
   "metadata": {},
   "source": [
    "Click [here](https://gitlab.com/api/v4/projects/56283350/jobs/artifacts/main/raw/notebooks/interfacingwithitensors.ipynb?job=pages) to download the notebook locally.\n"
   ]
  },
  {
   "cell_type": "markdown",
   "id": "5a477a05",
   "metadata": {},
   "source": [
    "# Interfacing with ITensors.jl\n",
    "\n",
    "You can convert a TCI object to an ITensor MPS object using the `TCIITensorConversion.jl` library. This library provides conversions of tensor trains between `TensorCrossInterpolation.jl` and `ITensors.jl`.\n",
    "\n",
    "We first construct a TCI object:\n"
   ]
  },
  {
   "cell_type": "code",
   "execution_count": 1,
   "id": "3523818a",
   "metadata": {},
   "outputs": [
    {
     "data": {
      "text/plain": [
       "(QuanticsTCI.QuanticsTensorCI2{Float64}(TensorCrossInterpolation.TensorCI2{Float64} with rank 15, QuanticsGrids.DiscretizedGrid{1}(40, (0.0,), (3.0,), 2, :fused, false), TensorCrossInterpolation.CachedFunction{Float64, UInt128} with 31433 entries), [19, 19, 19], [5.598765445606434e-7, 4.833398883835796e-7, 9.263177001610134e-7])"
      ]
     },
     "execution_count": 1,
     "metadata": {},
     "output_type": "execute_result"
    }
   ],
   "source": [
    "import QuanticsGrids as QG\n",
    "using QuanticsTCI: quanticscrossinterpolate\n",
    "\n",
    "B = 2^(-30) # global variable\n",
    "function f(x)\n",
    "    return cos(x / B) * cos(x / (4 * sqrt(5) * B)) * exp(-x^2) + 2 * exp(-x)\n",
    "end\n",
    "\n",
    "R = 40 # number of bits\n",
    "xmin = 0.0\n",
    "xmax = 3.0\n",
    "qgrid = QG.DiscretizedGrid{1}(R, xmin, xmax; includeendpoint=false)\n",
    "ci, ranks, errors = quanticscrossinterpolate(Float64, f, qgrid; maxbonddim=15)"
   ]
  },
  {
   "cell_type": "markdown",
   "id": "609c6f39",
   "metadata": {},
   "source": [
    "One can create a tensor train object from the TCI object, and then convert it to an ITensor MPS:\n"
   ]
  },
  {
   "cell_type": "code",
   "execution_count": 2,
   "id": "812511a1",
   "metadata": {
    "lines_to_next_cell": 2
   },
   "outputs": [
    {
     "data": {
      "text/plain": [
       "MPS\n",
       "[1] ((dim=2|id=308|\"n=1\"), (dim=2|id=593|\"l=1,link\"))\n",
       "[2] ((dim=2|id=593|\"l=1,link\"), (dim=2|id=995|\"n=2\"), (dim=4|id=993|\"l=2,link\"))\n",
       "[3] ((dim=4|id=993|\"l=2,link\"), (dim=2|id=625|\"n=3\"), (dim=8|id=395|\"l=3,link\"))\n",
       "[4] ((dim=8|id=395|\"l=3,link\"), (dim=2|id=494|\"n=4\"), (dim=15|id=210|\"l=4,link\"))\n",
       "[5] ((dim=15|id=210|\"l=4,link\"), (dim=2|id=72|\"n=5\"), (dim=15|id=310|\"l=5,link\"))\n",
       "[6] ((dim=15|id=310|\"l=5,link\"), (dim=2|id=632|\"n=6\"), (dim=15|id=373|\"l=6,link\"))\n",
       "[7] ((dim=15|id=373|\"l=6,link\"), (dim=2|id=571|\"n=7\"), (dim=15|id=407|\"l=7,link\"))\n",
       "[8] ((dim=15|id=407|\"l=7,link\"), (dim=2|id=257|\"n=8\"), (dim=13|id=290|\"l=8,link\"))\n",
       "[9] ((dim=13|id=290|\"l=8,link\"), (dim=2|id=7|\"n=9\"), (dim=13|id=275|\"l=9,link\"))\n",
       "[10] ((dim=13|id=275|\"l=9,link\"), (dim=2|id=285|\"n=10\"), (dim=13|id=434|\"l=10,link\"))\n",
       "[11] ((dim=13|id=434|\"l=10,link\"), (dim=2|id=143|\"n=11\"), (dim=13|id=145|\"l=11,link\"))\n",
       "[12] ((dim=13|id=145|\"l=11,link\"), (dim=2|id=962|\"n=12\"), (dim=11|id=9|\"l=12,link\"))\n",
       "[13] ((dim=11|id=9|\"l=12,link\"), (dim=2|id=770|\"n=13\"), (dim=9|id=114|\"l=13,link\"))\n",
       "[14] ((dim=9|id=114|\"l=13,link\"), (dim=2|id=367|\"n=14\"), (dim=9|id=237|\"l=14,link\"))\n",
       "[15] ((dim=9|id=237|\"l=14,link\"), (dim=2|id=494|\"n=15\"), (dim=9|id=385|\"l=15,link\"))\n",
       "[16] ((dim=9|id=385|\"l=15,link\"), (dim=2|id=527|\"n=16\"), (dim=9|id=585|\"l=16,link\"))\n",
       "[17] ((dim=9|id=585|\"l=16,link\"), (dim=2|id=978|\"n=17\"), (dim=9|id=696|\"l=17,link\"))\n",
       "[18] ((dim=9|id=696|\"l=17,link\"), (dim=2|id=529|\"n=18\"), (dim=9|id=377|\"l=18,link\"))\n",
       "[19] ((dim=9|id=377|\"l=18,link\"), (dim=2|id=719|\"n=19\"), (dim=9|id=151|\"l=19,link\"))\n",
       "[20] ((dim=9|id=151|\"l=19,link\"), (dim=2|id=806|\"n=20\"), (dim=9|id=900|\"l=20,link\"))\n",
       "[21] ((dim=9|id=900|\"l=20,link\"), (dim=2|id=6|\"n=21\"), (dim=9|id=568|\"l=21,link\"))\n",
       "[22] ((dim=9|id=568|\"l=21,link\"), (dim=2|id=499|\"n=22\"), (dim=9|id=311|\"l=22,link\"))\n",
       "[23] ((dim=9|id=311|\"l=22,link\"), (dim=2|id=682|\"n=23\"), (dim=9|id=928|\"l=23,link\"))\n",
       "[24] ((dim=9|id=928|\"l=23,link\"), (dim=2|id=754|\"n=24\"), (dim=9|id=953|\"l=24,link\"))\n",
       "[25] ((dim=9|id=953|\"l=24,link\"), (dim=2|id=625|\"n=25\"), (dim=9|id=757|\"l=25,link\"))\n",
       "[26] ((dim=9|id=757|\"l=25,link\"), (dim=2|id=161|\"n=26\"), (dim=5|id=581|\"l=26,link\"))\n",
       "[27] ((dim=5|id=581|\"l=26,link\"), (dim=2|id=882|\"n=27\"), (dim=5|id=475|\"l=27,link\"))\n",
       "[28] ((dim=5|id=475|\"l=27,link\"), (dim=2|id=15|\"n=28\"), (dim=5|id=358|\"l=28,link\"))\n",
       "[29] ((dim=5|id=358|\"l=28,link\"), (dim=2|id=97|\"n=29\"), (dim=5|id=23|\"l=29,link\"))\n",
       "[30] ((dim=5|id=23|\"l=29,link\"), (dim=2|id=654|\"n=30\"), (dim=5|id=182|\"l=30,link\"))\n",
       "[31] ((dim=5|id=182|\"l=30,link\"), (dim=2|id=671|\"n=31\"), (dim=5|id=605|\"l=31,link\"))\n",
       "[32] ((dim=5|id=605|\"l=31,link\"), (dim=2|id=479|\"n=32\"), (dim=5|id=25|\"l=32,link\"))\n",
       "[33] ((dim=5|id=25|\"l=32,link\"), (dim=2|id=525|\"n=33\"), (dim=5|id=429|\"l=33,link\"))\n",
       "[34] ((dim=5|id=429|\"l=33,link\"), (dim=2|id=170|\"n=34\"), (dim=5|id=496|\"l=34,link\"))\n",
       "[35] ((dim=5|id=496|\"l=34,link\"), (dim=2|id=571|\"n=35\"), (dim=4|id=62|\"l=35,link\"))\n",
       "[36] ((dim=4|id=62|\"l=35,link\"), (dim=2|id=408|\"n=36\"), (dim=4|id=191|\"l=36,link\"))\n",
       "[37] ((dim=4|id=191|\"l=36,link\"), (dim=2|id=465|\"n=37\"), (dim=3|id=226|\"l=37,link\"))\n",
       "[38] ((dim=3|id=226|\"l=37,link\"), (dim=2|id=891|\"n=38\"), (dim=3|id=205|\"l=38,link\"))\n",
       "[39] ((dim=3|id=205|\"l=38,link\"), (dim=2|id=9|\"n=39\"), (dim=2|id=16|\"l=39,link\"))\n",
       "[40] ((dim=2|id=16|\"l=39,link\"), (dim=2|id=333|\"n=40\"))\n"
      ]
     },
     "execution_count": 2,
     "metadata": {},
     "output_type": "execute_result"
    }
   ],
   "source": [
    "import TensorCrossInterpolation as TCI\n",
    "\n",
    "# Construct a TensorTrain object from the TensorCI2 object\n",
    "\n",
    "tt = TCI.TensorTrain(ci.tci)\n",
    "\n",
    "# Convert the TensorTrain object to an ITensor MPS object\n",
    "\n",
    "using TCIITensorConversion\n",
    "using ITensors\n",
    "\n",
    "M = ITensors.MPS(tt)"
   ]
  }
 ],
 "metadata": {
  "jupytext": {
   "cell_metadata_filter": "-all",
   "custom_cell_magics": "kql"
  },
  "kernelspec": {
   "display_name": "Julia 1.10.3",
   "language": "julia",
   "name": "julia-1.10"
  },
  "language_info": {
   "file_extension": ".jl",
   "mimetype": "application/julia",
   "name": "julia",
   "version": "1.10.3"
  }
 },
 "nbformat": 4,
 "nbformat_minor": 5
}