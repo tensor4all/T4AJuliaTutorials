{
 "cells": [
  {
   "cell_type": "markdown",
   "id": "5fab45ac",
   "metadata": {},
   "source": [
    "Click [here](https://tensor4all.org/T4AJuliaTutorials/_sources/ipynbs/interfacingwithitensors.ipynb) to download the notebook locally.\n"
   ]
  },
  {
   "cell_type": "markdown",
   "id": "de22be45",
   "metadata": {},
   "source": [
    "# Interfacing with ITensors.jl\n",
    "\n",
    "You can convert a TCI object to an ITensor MPS object using the `TCIITensorConversion.jl` library. This library provides conversions of tensor trains between `TensorCrossInterpolation.jl` and `ITensors.jl`.\n",
    "\n",
    "We first construct a TCI object:\n"
   ]
  },
  {
   "cell_type": "code",
   "execution_count": 1,
   "id": "5e1bb9dc",
   "metadata": {},
   "outputs": [
    {
     "data": {
      "text/plain": [
       "(QuanticsTCI.QuanticsTensorCI2{Float64}(TensorCrossInterpolation.TensorCI2{Float64} with rank 15, QuanticsGrids.DiscretizedGrid{1}(40, (0.0,), (3.0,), 2, :fused, false), TensorCrossInterpolation.CachedFunction{Float64, UInt128} with 30867 entries), [19, 20, 19], [4.305331593531038e-7, 6.264957033623628e-7, 9.477894803280217e-7])"
      ]
     },
     "execution_count": 1,
     "metadata": {},
     "output_type": "execute_result"
    }
   ],
   "source": [
    "import QuanticsGrids as QG\n",
    "using QuanticsTCI: quanticscrossinterpolate\n",
    "\n",
    "B = 2^(-30) # global variable\n",
    "function f(x)\n",
    "    return cos(x / B) * cos(x / (4 * sqrt(5) * B)) * exp(-x^2) + 2 * exp(-x)\n",
    "end\n",
    "\n",
    "R = 40 # number of bits\n",
    "xmin = 0.0\n",
    "xmax = 3.0\n",
    "qgrid = QG.DiscretizedGrid{1}(R, xmin, xmax; includeendpoint=false)\n",
    "ci, ranks, errors = quanticscrossinterpolate(Float64, f, qgrid; maxbonddim=15)"
   ]
  },
  {
   "cell_type": "markdown",
   "id": "8bff22ea",
   "metadata": {},
   "source": [
    "One can create a tensor train object from the TCI object, and then convert it to an ITensor MPS:\n"
   ]
  },
  {
   "cell_type": "code",
   "execution_count": 2,
   "id": "50cad223",
   "metadata": {
    "lines_to_next_cell": 2
   },
   "outputs": [
    {
     "data": {
      "text/plain": [
       "MPS\n",
       "[1] ((dim=2|id=949|\"n=1\"), (dim=2|id=487|\"l=1,link\"))\n",
       "[2] ((dim=2|id=487|\"l=1,link\"), (dim=2|id=696|\"n=2\"), (dim=4|id=408|\"l=2,link\"))\n",
       "[3] ((dim=4|id=408|\"l=2,link\"), (dim=2|id=840|\"n=3\"), (dim=8|id=336|\"l=3,link\"))\n",
       "[4] ((dim=8|id=336|\"l=3,link\"), (dim=2|id=151|\"n=4\"), (dim=15|id=179|\"l=4,link\"))\n",
       "[5] ((dim=15|id=179|\"l=4,link\"), (dim=2|id=21|\"n=5\"), (dim=15|id=480|\"l=5,link\"))\n",
       "[6] ((dim=15|id=480|\"l=5,link\"), (dim=2|id=850|\"n=6\"), (dim=15|id=968|\"l=6,link\"))\n",
       "[7] ((dim=15|id=968|\"l=6,link\"), (dim=2|id=148|\"n=7\"), (dim=15|id=543|\"l=7,link\"))\n",
       "[8] ((dim=15|id=543|\"l=7,link\"), (dim=2|id=872|\"n=8\"), (dim=13|id=861|\"l=8,link\"))\n",
       "[9] ((dim=13|id=861|\"l=8,link\"), (dim=2|id=246|\"n=9\"), (dim=13|id=558|\"l=9,link\"))\n",
       "[10] ((dim=13|id=558|\"l=9,link\"), (dim=2|id=319|\"n=10\"), (dim=13|id=424|\"l=10,link\"))\n",
       "[11] ((dim=13|id=424|\"l=10,link\"), (dim=2|id=130|\"n=11\"), (dim=13|id=505|\"l=11,link\"))\n",
       "[12] ((dim=13|id=505|\"l=11,link\"), (dim=2|id=163|\"n=12\"), (dim=11|id=597|\"l=12,link\"))\n",
       "[13] ((dim=11|id=597|\"l=12,link\"), (dim=2|id=315|\"n=13\"), (dim=9|id=648|\"l=13,link\"))\n",
       "[14] ((dim=9|id=648|\"l=13,link\"), (dim=2|id=606|\"n=14\"), (dim=9|id=39|\"l=14,link\"))\n",
       "[15] ((dim=9|id=39|\"l=14,link\"), (dim=2|id=848|\"n=15\"), (dim=9|id=39|\"l=15,link\"))\n",
       "[16] ((dim=9|id=39|\"l=15,link\"), (dim=2|id=318|\"n=16\"), (dim=9|id=518|\"l=16,link\"))\n",
       "[17] ((dim=9|id=518|\"l=16,link\"), (dim=2|id=613|\"n=17\"), (dim=9|id=296|\"l=17,link\"))\n",
       "[18] ((dim=9|id=296|\"l=17,link\"), (dim=2|id=612|\"n=18\"), (dim=9|id=927|\"l=18,link\"))\n",
       "[19] ((dim=9|id=927|\"l=18,link\"), (dim=2|id=381|\"n=19\"), (dim=9|id=792|\"l=19,link\"))\n",
       "[20] ((dim=9|id=792|\"l=19,link\"), (dim=2|id=47|\"n=20\"), (dim=9|id=329|\"l=20,link\"))\n",
       "[21] ((dim=9|id=329|\"l=20,link\"), (dim=2|id=267|\"n=21\"), (dim=9|id=491|\"l=21,link\"))\n",
       "[22] ((dim=9|id=491|\"l=21,link\"), (dim=2|id=907|\"n=22\"), (dim=9|id=239|\"l=22,link\"))\n",
       "[23] ((dim=9|id=239|\"l=22,link\"), (dim=2|id=465|\"n=23\"), (dim=9|id=631|\"l=23,link\"))\n",
       "[24] ((dim=9|id=631|\"l=23,link\"), (dim=2|id=307|\"n=24\"), (dim=9|id=72|\"l=24,link\"))\n",
       "[25] ((dim=9|id=72|\"l=24,link\"), (dim=2|id=409|\"n=25\"), (dim=8|id=206|\"l=25,link\"))\n",
       "[26] ((dim=8|id=206|\"l=25,link\"), (dim=2|id=276|\"n=26\"), (dim=5|id=912|\"l=26,link\"))\n",
       "[27] ((dim=5|id=912|\"l=26,link\"), (dim=2|id=256|\"n=27\"), (dim=5|id=674|\"l=27,link\"))\n",
       "[28] ((dim=5|id=674|\"l=27,link\"), (dim=2|id=811|\"n=28\"), (dim=5|id=7|\"l=28,link\"))\n",
       "[29] ((dim=5|id=7|\"l=28,link\"), (dim=2|id=79|\"n=29\"), (dim=5|id=590|\"l=29,link\"))\n",
       "[30] ((dim=5|id=590|\"l=29,link\"), (dim=2|id=483|\"n=30\"), (dim=5|id=353|\"l=30,link\"))\n",
       "[31] ((dim=5|id=353|\"l=30,link\"), (dim=2|id=843|\"n=31\"), (dim=5|id=319|\"l=31,link\"))\n",
       "[32] ((dim=5|id=319|\"l=31,link\"), (dim=2|id=242|\"n=32\"), (dim=5|id=265|\"l=32,link\"))\n",
       "[33] ((dim=5|id=265|\"l=32,link\"), (dim=2|id=418|\"n=33\"), (dim=5|id=76|\"l=33,link\"))\n",
       "[34] ((dim=5|id=76|\"l=33,link\"), (dim=2|id=248|\"n=34\"), (dim=5|id=920|\"l=34,link\"))\n",
       "[35] ((dim=5|id=920|\"l=34,link\"), (dim=2|id=39|\"n=35\"), (dim=4|id=991|\"l=35,link\"))\n",
       "[36] ((dim=4|id=991|\"l=35,link\"), (dim=2|id=597|\"n=36\"), (dim=4|id=763|\"l=36,link\"))\n",
       "[37] ((dim=4|id=763|\"l=36,link\"), (dim=2|id=877|\"n=37\"), (dim=3|id=476|\"l=37,link\"))\n",
       "[38] ((dim=3|id=476|\"l=37,link\"), (dim=2|id=969|\"n=38\"), (dim=3|id=734|\"l=38,link\"))\n",
       "[39] ((dim=3|id=734|\"l=38,link\"), (dim=2|id=131|\"n=39\"), (dim=2|id=113|\"l=39,link\"))\n",
       "[40] ((dim=2|id=113|\"l=39,link\"), (dim=2|id=9|\"n=40\"))\n"
      ]
     },
     "execution_count": 2,
     "metadata": {},
     "output_type": "execute_result"
    }
   ],
   "source": [
    "import TensorCrossInterpolation as TCI\n",
    "\n",
    "# Construct a TensorTrain object from the TensorCI2 object\n",
    "\n",
    "tt = TCI.TensorTrain(ci.tci)\n",
    "\n",
    "# Convert the TensorTrain object to an ITensor MPS object\n",
    "\n",
    "using TCIITensorConversion\n",
    "using ITensors\n",
    "\n",
    "M = ITensors.MPS(tt)"
   ]
  }
 ],
 "metadata": {
  "jupytext": {
   "cell_metadata_filter": "-all",
   "custom_cell_magics": "kql"
  },
  "kernelspec": {
   "display_name": "Julia 1.10.4",
   "language": "julia",
   "name": "julia-1.10"
  },
  "language_info": {
   "file_extension": ".jl",
   "mimetype": "application/julia",
   "name": "julia",
   "version": "1.10.4"
  }
 },
 "nbformat": 4,
 "nbformat_minor": 5
}