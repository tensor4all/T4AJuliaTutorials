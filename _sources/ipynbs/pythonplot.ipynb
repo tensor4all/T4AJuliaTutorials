{
 "cells": [
  {
   "cell_type": "markdown",
   "id": "1549c8b6",
   "metadata": {},
   "source": [
    "Click [here](https://tensor4all.org/T4AJuliaTutorials/_sources/ipynbs/pythonplot.ipynb) to download the notebook locally.\n"
   ]
  },
  {
   "cell_type": "markdown",
   "id": "05da18a3",
   "metadata": {},
   "source": [
    "# PythonPlot\n",
    "\n",
    "[JuliaPy/PythonPlot.jl](https://github.com/JuliaPy/PythonPlot.jl) provides a Julia interface to the [Matplotlib](https://matplotlib.org/) plotting library from Python, and specifically to the matplotlib.pyplot module. This may be helpful for those who are new to Julia and come from Python.\n",
    "\n",
    "Consider that we have source code written in Python for plotting data like below:\n",
    "\n",
    "```python\n",
    "from matplotlib import pyplot as plt\n",
    "\n",
    "fig, ax = plt.subplots()\n",
    "x = [1, 2, 3]\n",
    "y = [3, 1, 2]\n",
    "ax.plot(x, y, marker=\"+\")\n",
    "```\n",
    "\n",
    "With PythonPlot, porting this code to Julia is as simple as replacing the line `from matplotlib import pyplot as plt` with:\n",
    "\n",
    "```julia\n",
    "using PythonPlot: pyplot as plt\n",
    "```\n",
    "\n",
    "This allows us to use the familiar \"plt syntax\" within your Julia code.\n"
   ]
  },
  {
   "cell_type": "code",
   "execution_count": 1,
   "id": "fe118880",
   "metadata": {},
   "outputs": [
    {
     "ename": "LoadError",
     "evalue": "InitError: Python: AttributeError: module 'matplotlib.cm' has no attribute 'get_cmap'\nduring initialization of module PythonPlot",
     "output_type": "error",
     "traceback": [
      "InitError: Python: AttributeError: module 'matplotlib.cm' has no attribute 'get_cmap'\nduring initialization of module PythonPlot",
      "",
      "Stacktrace:",
      "  [1] pythrow()",
      "    @ PythonCall.Core ~/.julia/packages/PythonCall/S5MOg/src/Core/err.jl:92",
      "  [2] errcheck",
      "    @ ~/.julia/packages/PythonCall/S5MOg/src/Core/err.jl:10 [inlined]",
      "  [3] pygetattr(x::PythonCall.Core.Py, k::String)",
      "    @ PythonCall.Core ~/.julia/packages/PythonCall/S5MOg/src/Core/builtins.jl:62",
      "  [4] getproperty",
      "    @ ~/.julia/packages/PythonCall/S5MOg/src/Core/Py.jl:257 [inlined]",
      "  [5] init_colormaps()",
      "    @ PythonPlot ~/.julia/packages/PythonPlot/f591M/src/colormaps.jl:51",
      "  [6] __init__()",
      "    @ PythonPlot ~/.julia/packages/PythonPlot/f591M/src/init.jl:179",
      "  [7] run_module_init(mod::Module, i::Int64)",
      "    @ Base ./loading.jl:1134",
      "  [8] register_restored_modules(sv::Core.SimpleVector, pkg::Base.PkgId, path::String)",
      "    @ Base ./loading.jl:1122",
      "  [9] _include_from_serialized(pkg::Base.PkgId, path::String, ocachepath::String, depmods::Vector{Any})",
      "    @ Base ./loading.jl:1067",
      " [10] _require_search_from_serialized(pkg::Base.PkgId, sourcepath::String, build_id::UInt128)",
      "    @ Base ./loading.jl:1581",
      " [11] _require(pkg::Base.PkgId, env::String)",
      "    @ Base ./loading.jl:1938",
      " [12] __require_prelocked(uuidkey::Base.PkgId, env::String)",
      "    @ Base ./loading.jl:1812",
      " [13] #invoke_in_world#3",
      "    @ ./essentials.jl:926 [inlined]",
      " [14] invoke_in_world",
      "    @ ./essentials.jl:923 [inlined]",
      " [15] _require_prelocked(uuidkey::Base.PkgId, env::String)",
      "    @ Base ./loading.jl:1803",
      " [16] macro expansion",
      "    @ ./loading.jl:1790 [inlined]",
      " [17] macro expansion",
      "    @ ./lock.jl:267 [inlined]",
      " [18] __require(into::Module, mod::Symbol)",
      "    @ Base ./loading.jl:1753",
      " [19] #invoke_in_world#3",
      "    @ ./essentials.jl:926 [inlined]",
      " [20] invoke_in_world",
      "    @ ./essentials.jl:923 [inlined]",
      " [21] require(into::Module, mod::Symbol)",
      "    @ Base ./loading.jl:1746"
     ]
    }
   ],
   "source": [
    "using PythonPlot: pyplot as plt\n",
    "\n",
    "fig, ax = plt.subplots()\n",
    "x = [1, 2, 3]\n",
    "y = [3, 1, 2]\n",
    "ax.plot(x, y, marker=\"+\")\n",
    "# use display(fig) as necessary."
   ]
  },
  {
   "cell_type": "markdown",
   "id": "f78705ea",
   "metadata": {},
   "source": [
    "As explained above, PythonPlot facilitates a smooth transition from Python to Julia for data visualization tasks. In this section, we provide valuable tips and tricks for experimenting with Julia and Jupyter Notebook or VS Code.\n"
   ]
  },
  {
   "cell_type": "markdown",
   "id": "3df4a437",
   "metadata": {},
   "source": [
    "## TL;DR\n",
    "\n",
    "Place the following code snippet at the beginning of your Jupyter notebook cell.\n",
    "\n",
    "```julia\n",
    "using PythonPlot: PythonPlot, pyplot as plt, Figure\n",
    "_display(fig::PythonPlot.Figure) = isinteractive() ? (fig; plt.show(); nothing) : display(fig)\n",
    "_display(fig) = _display(Figure(fig))\n",
    "```\n",
    "\n",
    "The explanation for why we need the above snippet is provided below.\n"
   ]
  },
  {
   "cell_type": "markdown",
   "id": "20dcb836",
   "metadata": {},
   "source": [
    "## Preventing slow figure rendering\n",
    "\n",
    "In some cases, Julia scripts using [`pcolor`](https://matplotlib.org/stable/api/_as_gen/matplotlib.pyplot.pcolor.html) or [pcolormesh](https://matplotlib.org/stable/api/_as_gen/matplotlib.pyplot.pcolormesh.html) causes slow figure rendering. Below is a minimum working example to reproduce it:\n",
    "\n",
    "```julia\n",
    "using PythonCall: PythonCall\n",
    "using PythonPlot: pyplot as plt\n",
    "fig, ax = plt.subplots()\n",
    "data = rand(513, 513)\n",
    "c = ax.pcolor(data, cmap=\"RdBu_r\", vmin=-1, vmax=1)\n",
    "fig.colorbar(c, ax=ax)\n",
    "fig\n",
    "```\n",
    "\n",
    "If we try the code above, your Web client including VS Code freezes under heavy load.\n"
   ]
  },
  {
   "cell_type": "markdown",
   "id": "b522375a",
   "metadata": {},
   "source": [
    "### Workaround: Converting `fig` to `Figure(fig)::PythonPlot.Figure`\n",
    "\n",
    "We found that converting `fig` in the line `fig, ax = plt.subplots()` to `Figure(fig)` solves the slow figure rendering issue. Namely, write code as below:\n"
   ]
  },
  {
   "cell_type": "code",
   "execution_count": null,
   "id": "1ce99e84",
   "metadata": {},
   "outputs": [],
   "source": [
    "using PythonCall: PythonCall\n",
    "using PythonPlot: pyplot as plt, Figure\n",
    "fig, ax = plt.subplots()\n",
    "data = rand(513, 513)\n",
    "c = ax.pcolor(data, cmap=\"RdBu_r\", vmin=-1, vmax=1)\n",
    "fig.colorbar(c, ax=ax)\n",
    "Figure(fig)"
   ]
  },
  {
   "cell_type": "markdown",
   "id": "7b4f6931",
   "metadata": {},
   "source": [
    "The type of `fig` is `PyhonCall.Py` which handles generic Python objects. It seems that `PythonPlot.Figure` provides a better method to display figure object. Note that we can add `display(PythonPlot.gcf())` at the end of a cell instead of `display(Figure(fig))` since `gcf()` gets the current figure object as a value of `PythonCall.Figure`.\n"
   ]
  },
  {
   "cell_type": "code",
   "execution_count": null,
   "id": "47a3ab92",
   "metadata": {},
   "outputs": [],
   "source": [
    "using PythonPlot: gcf, Figure\n",
    "\n",
    "fig, ax = plt.subplots()\n",
    "@show typeof(fig) typeof(Figure(fig)) typeof(gcf())"
   ]
  },
  {
   "cell_type": "markdown",
   "id": "bcd5ccc7",
   "metadata": {},
   "source": [
    "## Better plot handling\n",
    "\n",
    "As explained above, PythonPlot facilitates a smooth transition from Python to Julia for data visualization tasks. In this section, we provide valuable tips and tricks for experimenting with Julia and Jupyter Notebook or VS Code.\n"
   ]
  },
  {
   "cell_type": "markdown",
   "id": "8a65d6c4",
   "metadata": {},
   "source": [
    "### Difference between interactive and non-interactive session\n",
    "\n",
    "Normally, Julia running on Jupyter Notebook uses interactive session. The `isinteractive()` function\n",
    "tells us whether we are using interactive session or not.\n"
   ]
  },
  {
   "cell_type": "code",
   "execution_count": null,
   "id": "3d460c24",
   "metadata": {},
   "outputs": [],
   "source": [
    "# Check the following link for VS Code users\n",
    "# https://github.com/microsoft/vscode-jupyter/issues/13493#issuecomment-1696484283\n",
    "@doc isinteractive()"
   ]
  },
  {
   "cell_type": "markdown",
   "id": "c34b41cd",
   "metadata": {},
   "source": [
    "Let's see the output or `isinteractive()`\n"
   ]
  },
  {
   "cell_type": "code",
   "execution_count": null,
   "id": "6b2b8654",
   "metadata": {},
   "outputs": [],
   "source": [
    "@show isinteractive();"
   ]
  },
  {
   "cell_type": "markdown",
   "id": "2f98e005",
   "metadata": {},
   "source": [
    "Most users, including those viewing this notebook (generated by Jupyter Book) from a browser, will get `isinteractive() = true`.\n",
    "However there is one enrivonment that outputs `isinteractive() = false`. If we've installed Julia via [juliaup](https://github.com/JuliaLang/juliaup) and using Jupyter kernel named `Julia release channel`, we might see `isinteractive()` is `false`. The difference in the result of `isinteractive()` can affect the output of a data visualization program after execution, leading to confusion for Tensors4Fields developers.\n",
    "\n",
    "If we select kernel as a non-isinteractive session e.g., `Julia release channel`, the following code should displays a single plot. If we select kernel as an interactive session e.g., `Julia 1.10.3` which comes from IJulia it will display a same plot twice.\n"
   ]
  },
  {
   "cell_type": "code",
   "execution_count": null,
   "id": "b4252f8e",
   "metadata": {},
   "outputs": [],
   "source": [
    "fig, ax = plt.subplots()\n",
    "data = rand(513, 513)\n",
    "c = ax.pcolor(data, cmap=\"RdBu_r\", vmin=-1, vmax=1)\n",
    "fig.colorbar(c, ax=ax)\n",
    "display(Figure(fig))"
   ]
  },
  {
   "cell_type": "markdown",
   "id": "c4429b3d",
   "metadata": {},
   "source": [
    "To avoid ambiguity in the resulting output by selecting the kernel of Julia, we should add the following conditional branch:\n"
   ]
  },
  {
   "cell_type": "code",
   "execution_count": null,
   "id": "c57b791e",
   "metadata": {},
   "outputs": [],
   "source": [
    "fig, ax = plt.subplots()\n",
    "data = rand(513, 513)\n",
    "c = ax.pcolor(data, cmap=\"RdBu_r\", vmin=-1, vmax=1)\n",
    "fig.colorbar(c, ax=ax)\n",
    "\n",
    "if isinteractive()\n",
    "    ax.set_title(\"isinteractive()=$(isinteractive())\")\n",
    "    fig\n",
    "    plt.show()\n",
    "    #=\n",
    "    Add suppress redundant output such as \"Python: Text(0.5, 1.0, 'isinteractive()=true')\".\n",
    "    This is an optional.\n",
    "    =#\n",
    "    nothing\n",
    "else\n",
    "    ax.set_title(\"isinteractive()=$(isinteractive())\")\n",
    "    display(Figure(fig)) # This line is required to output results on non-interactive sessions\n",
    "end"
   ]
  },
  {
   "cell_type": "markdown",
   "id": "2e420043",
   "metadata": {},
   "source": [
    "This can be challenging for those who want to focus on research rather than writing code. To address this, we provide a function named `_display` that handles differences in output due to the environment.\n"
   ]
  },
  {
   "cell_type": "code",
   "execution_count": null,
   "id": "7ba0928b",
   "metadata": {},
   "outputs": [],
   "source": [
    "using PythonPlot: PythonPlot, pyplot as plt, Figure\n",
    "_display(fig::PythonPlot.Figure) = isinteractive() ? (fig; plt.show(); nothing) : display(fig)\n",
    "_display(fig) = _display(Figure(fig))"
   ]
  },
  {
   "cell_type": "markdown",
   "id": "23be89c1",
   "metadata": {},
   "source": [
    "Here is a usage of `_display` function:\n"
   ]
  },
  {
   "cell_type": "code",
   "execution_count": null,
   "id": "022dbdd1",
   "metadata": {},
   "outputs": [],
   "source": [
    "fig, ax = plt.subplots()\n",
    "data = rand(513, 513)\n",
    "c = ax.pcolor(data, cmap=\"RdBu_r\", vmin=-1, vmax=1)\n",
    "fig.colorbar(c, ax=ax)\n",
    "_display(fig)"
   ]
  }
 ],
 "metadata": {
  "jupytext": {
   "cell_metadata_filter": "-all",
   "custom_cell_magics": "kql"
  },
  "kernelspec": {
   "display_name": "Julia 1.10.4",
   "language": "julia",
   "name": "julia-1.10"
  },
  "language_info": {
   "file_extension": ".jl",
   "mimetype": "application/julia",
   "name": "julia",
   "version": "1.10.4"
  }
 },
 "nbformat": 4,
 "nbformat_minor": 5
}