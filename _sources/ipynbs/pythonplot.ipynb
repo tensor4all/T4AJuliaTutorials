{
 "cells": [
  {
   "cell_type": "markdown",
   "id": "7f39af2d",
   "metadata": {},
   "source": [
    "Click [here](https://tensor4all.org/T4AJuliaTutorials/_sources/ipynbs/pythonplot.ipynb) to download the notebook locally.\n"
   ]
  },
  {
   "cell_type": "markdown",
   "id": "ee98cc52",
   "metadata": {},
   "source": [
    "# PythonPlot\n",
    "\n",
    "[JuliaPy/PythonPlot.jl](https://github.com/JuliaPy/PythonPlot.jl) provides a Julia interface to the [Matplotlib](https://matplotlib.org/) plotting library from Python, and specifically to the matplotlib.pyplot module. This may be helpful for those who are new to Julia and come from Python.\n",
    "\n",
    "Consider that we have source code written in Python for plotting data like below:\n",
    "\n",
    "```python\n",
    "from matplotlib import pyplot as plt\n",
    "\n",
    "fig, ax = plt.subplots()\n",
    "x = [1, 2, 3]\n",
    "y = [3, 1, 2]\n",
    "ax.plot(x, y, marker=\"+\")\n",
    "```\n",
    "\n",
    "With PythonPlot, porting this code to Julia is as simple as replacing the line `from matplotlib import pyplot as plt` with:\n",
    "\n",
    "```julia\n",
    "using PythonPlot: pyplot as plt\n",
    "```\n",
    "\n",
    "This allows us to use the familiar \"plt syntax\" within your Julia code.\n"
   ]
  },
  {
   "cell_type": "code",
   "execution_count": null,
   "id": "adf6701f",
   "metadata": {},
   "outputs": [],
   "source": [
    "using PythonPlot: pyplot as plt\n",
    "\n",
    "fig, ax = plt.subplots()\n",
    "x = [1, 2, 3]\n",
    "y = [3, 1, 2]\n",
    "ax.plot(x, y, marker=\"+\")\n",
    "# use display(fig) as necessary."
   ]
  },
  {
   "cell_type": "markdown",
   "id": "22dd6291",
   "metadata": {},
   "source": [
    "As explained above, PythonPlot facilitates a smooth transition from Python to Julia for data visualization tasks. In this section, we provide valuable tips and tricks for experimenting with Julia and Jupyter Notebook or VS Code.\n"
   ]
  },
  {
   "cell_type": "markdown",
   "id": "ef855046",
   "metadata": {},
   "source": [
    "## TL;DR\n",
    "\n",
    "Place the following code snippet at the beginning of your Jupyter notebook cell.\n",
    "\n",
    "```julia\n",
    "using PythonPlot: PythonPlot, pyplot as plt, Figure\n",
    "_display(fig::PythonPlot.Figure) = isinteractive() ? (fig; plt.show(); nothing) : display(fig)\n",
    "_display(fig) = _display(Figure(fig))\n",
    "```\n",
    "\n",
    "The explanation for why we need the above snippet is provided below.\n"
   ]
  },
  {
   "cell_type": "markdown",
   "id": "a159cded",
   "metadata": {},
   "source": [
    "## Preventing slow figure rendering\n",
    "\n",
    "In some cases, Julia scripts using [`pcolor`](https://matplotlib.org/stable/api/_as_gen/matplotlib.pyplot.pcolor.html) or [pcolormesh](https://matplotlib.org/stable/api/_as_gen/matplotlib.pyplot.pcolormesh.html) causes slow figure rendering. Below is a minimum working example to reproduce it:\n",
    "\n",
    "```julia\n",
    "using PythonCall: PythonCall\n",
    "using PythonPlot: pyplot as plt\n",
    "fig, ax = plt.subplots()\n",
    "data = rand(513, 513)\n",
    "c = ax.pcolor(data, cmap=\"RdBu_r\", vmin=-1, vmax=1)\n",
    "fig.colorbar(c, ax=ax)\n",
    "fig\n",
    "```\n",
    "\n",
    "If we try the code above, your Web client including VS Code freezes under heavy load.\n"
   ]
  },
  {
   "cell_type": "markdown",
   "id": "edf0b494",
   "metadata": {},
   "source": [
    "### Workaround: Converting `fig` to `Figure(fig)::PythonPlot.Figure`\n",
    "\n",
    "We found that converting `fig` in the line `fig, ax = plt.subplots()` to `Figure(fig)` solves the slow figure rendering issue. Namely, write code as below:\n"
   ]
  },
  {
   "cell_type": "code",
   "execution_count": null,
   "id": "0e75e719",
   "metadata": {},
   "outputs": [],
   "source": [
    "using PythonCall: PythonCall\n",
    "using PythonPlot: pyplot as plt, Figure\n",
    "fig, ax = plt.subplots()\n",
    "data = rand(513, 513)\n",
    "c = ax.pcolor(data, cmap=\"RdBu_r\", vmin=-1, vmax=1)\n",
    "fig.colorbar(c, ax=ax)\n",
    "Figure(fig)"
   ]
  },
  {
   "cell_type": "markdown",
   "id": "18154e8e",
   "metadata": {},
   "source": [
    "The type of `fig` is `PyhonCall.Py` which handles generic Python objects. It seems that `PythonPlot.Figure` provides a better method to display figure object. Note that we can add `display(PythonPlot.gcf())` at the end of a cell instead of `display(Figure(fig))` since `gcf()` gets the current figure object as a value of `PythonCall.Figure`.\n"
   ]
  },
  {
   "cell_type": "code",
   "execution_count": null,
   "id": "fb78ce00",
   "metadata": {},
   "outputs": [],
   "source": [
    "using PythonPlot: gcf, Figure\n",
    "\n",
    "fig, ax = plt.subplots()\n",
    "@show typeof(fig) typeof(Figure(fig)) typeof(gcf())"
   ]
  },
  {
   "cell_type": "markdown",
   "id": "2206c2ac",
   "metadata": {},
   "source": [
    "## Better plot handling\n",
    "\n",
    "As explained above, PythonPlot facilitates a smooth transition from Python to Julia for data visualization tasks. In this section, we provide valuable tips and tricks for experimenting with Julia and Jupyter Notebook or VS Code.\n"
   ]
  },
  {
   "cell_type": "markdown",
   "id": "27e1b22b",
   "metadata": {},
   "source": [
    "### Difference between interactive and non-interactive session\n",
    "\n",
    "Normally, Julia running on Jupyter Notebook uses interactive session. The `isinteractive()` function\n",
    "tells us whether we are using interactive session or not.\n"
   ]
  },
  {
   "cell_type": "code",
   "execution_count": null,
   "id": "0628e175",
   "metadata": {},
   "outputs": [],
   "source": [
    "# Check the following link for VS Code users\n",
    "# https://github.com/microsoft/vscode-jupyter/issues/13493#issuecomment-1696484283\n",
    "@doc isinteractive()"
   ]
  },
  {
   "cell_type": "markdown",
   "id": "1ea2ef9f",
   "metadata": {},
   "source": [
    "Let's see the output or `isinteractive()`\n"
   ]
  },
  {
   "cell_type": "code",
   "execution_count": null,
   "id": "e3cabde5",
   "metadata": {},
   "outputs": [],
   "source": [
    "@show isinteractive();"
   ]
  },
  {
   "cell_type": "markdown",
   "id": "46c25fb9",
   "metadata": {},
   "source": [
    "Most users, including those viewing this notebook (generated by Jupyter Book) from a browser, will get `isinteractive() = true`.\n",
    "However there is one enrivonment that outputs `isinteractive() = false`. If we've installed Julia via [juliaup](https://github.com/JuliaLang/juliaup) and using Jupyter kernel named `Julia release channel`, we might see `isinteractive()` is `false`. The difference in the result of `isinteractive()` can affect the output of a data visualization program after execution, leading to confusion for Tensors4Fields developers.\n",
    "\n",
    "If we select kernel as a non-isinteractive session e.g., `Julia release channel`, the following code should displays a single plot. If we select kernel as an interactive session e.g., `Julia 1.10.3` which comes from IJulia it will display a same plot twice.\n"
   ]
  },
  {
   "cell_type": "code",
   "execution_count": null,
   "id": "0e940c84",
   "metadata": {},
   "outputs": [],
   "source": [
    "fig, ax = plt.subplots()\n",
    "data = rand(513, 513)\n",
    "c = ax.pcolor(data, cmap=\"RdBu_r\", vmin=-1, vmax=1)\n",
    "fig.colorbar(c, ax=ax)\n",
    "display(Figure(fig))"
   ]
  },
  {
   "cell_type": "markdown",
   "id": "19412a10",
   "metadata": {},
   "source": [
    "To avoid ambiguity in the resulting output by selecting the kernel of Julia, we should add the following conditional branch:\n"
   ]
  },
  {
   "cell_type": "code",
   "execution_count": null,
   "id": "9d78d14a",
   "metadata": {},
   "outputs": [],
   "source": [
    "fig, ax = plt.subplots()\n",
    "data = rand(513, 513)\n",
    "c = ax.pcolor(data, cmap=\"RdBu_r\", vmin=-1, vmax=1)\n",
    "fig.colorbar(c, ax=ax)\n",
    "\n",
    "if isinteractive()\n",
    "    ax.set_title(\"isinteractive()=$(isinteractive())\")\n",
    "    fig\n",
    "    plt.show()\n",
    "    #=\n",
    "    Add suppress redundant output such as \"Python: Text(0.5, 1.0, 'isinteractive()=true')\".\n",
    "    This is an optional.\n",
    "    =#\n",
    "    nothing\n",
    "else\n",
    "    ax.set_title(\"isinteractive()=$(isinteractive())\")\n",
    "    display(Figure(fig)) # This line is required to output results on non-interactive sessions\n",
    "end"
   ]
  },
  {
   "cell_type": "markdown",
   "id": "5420a54d",
   "metadata": {},
   "source": [
    "This can be challenging for those who want to focus on research rather than writing code. To address this, we provide a function named `_display` that handles differences in output due to the environment.\n"
   ]
  },
  {
   "cell_type": "code",
   "execution_count": null,
   "id": "cd99f975",
   "metadata": {},
   "outputs": [],
   "source": [
    "using PythonPlot: PythonPlot, pyplot as plt, Figure\n",
    "_display(fig::PythonPlot.Figure) = isinteractive() ? (fig; plt.show(); nothing) : display(fig)\n",
    "_display(fig) = _display(Figure(fig))"
   ]
  },
  {
   "cell_type": "markdown",
   "id": "5b49d4d5",
   "metadata": {},
   "source": [
    "Here is a usage of `_display` function:\n"
   ]
  },
  {
   "cell_type": "code",
   "execution_count": null,
   "id": "b210a6c8",
   "metadata": {},
   "outputs": [],
   "source": [
    "fig, ax = plt.subplots()\n",
    "data = rand(513, 513)\n",
    "c = ax.pcolor(data, cmap=\"RdBu_r\", vmin=-1, vmax=1)\n",
    "fig.colorbar(c, ax=ax)\n",
    "_display(fig)"
   ]
  }
 ],
 "metadata": {
  "jupytext": {
   "cell_metadata_filter": "-all",
   "custom_cell_magics": "kql"
  },
  "kernelspec": {
   "display_name": "Julia 1.10.4",
   "language": "julia",
   "name": "julia-1.10"
  }
 },
 "nbformat": 4,
 "nbformat_minor": 5
}