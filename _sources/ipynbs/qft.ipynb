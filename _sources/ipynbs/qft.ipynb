{
 "cells": [
  {
   "cell_type": "markdown",
   "id": "36e4632c",
   "metadata": {},
   "source": [
    "Click [here](https://tensor4all.org/T4AJuliaTutorials/_sources/ipynbs/qft.ipynb) to download the notebook locally.\n"
   ]
  },
  {
   "cell_type": "markdown",
   "id": "a9dfa7db",
   "metadata": {},
   "source": [
    "# Quantum Fourier Transform\n"
   ]
  },
  {
   "cell_type": "code",
   "execution_count": null,
   "id": "90766292",
   "metadata": {},
   "outputs": [],
   "source": [
    "using PythonCall: PythonCall\n",
    "using PythonPlot: pyplot as plt, Figure\n",
    "using LaTeXStrings\n",
    "\n",
    "# Displays the matplotlib figure object `fig` and avoids duplicate plots.\n",
    "_display(fig::Figure) = isinteractive() ? (fig; plt.show(); nothing) : Base.display(fig)\n",
    "_display(fig::PythonCall.Py) = _display(Figure(fig))\n",
    "\n",
    "import QuanticsGrids as QG\n",
    "import TensorCrossInterpolation as TCI\n",
    "using QuanticsTCI: quanticscrossinterpolate, quanticsfouriermpo"
   ]
  },
  {
   "cell_type": "markdown",
   "id": "8a298e1c",
   "metadata": {},
   "source": [
    "## 1D Fourier transform\n",
    "\n",
    "$$\n",
    "%\\newcommand{\\hf}{\\hat{f}}   %Fourier transform of \\bff\n",
    "%\\newcommand{\\hF}{\\hat{F}}\n",
    "$$\n",
    "\n",
    "\n",
    "Consider a discrete function $f_m \\in \\mathbb{C}^M$, e.g. the \n",
    "discretization, $f_m = f(x(m))$, of a one-dimensional function $f(x)$ on a grid $x(m)$. \n",
    "Its discrete Fourier transform (DFT) is\n",
    "\n",
    "$$\n",
    "\\hat{f}_k = \\sum_{m=0}^{M-1}   T_{km} f_m , \\qquad \n",
    "T_{km} =  \\tfrac{1}{\\sqrt{M}}  e^{- i 2 \\pi k \\cdot m /M} .\n",
    "$$\n",
    "\n",
    "For a quantics grid, $M = 2^\\mathcal{R}$ is exponentially large and the (naive) DFT exponentially expensive to evaluate.\n",
    "However, the QTT representation of $T$ is known to have a low-rank structure and can be represented as a tensor train with small bond dimensions.\n",
    "\n",
    "Thus, if the input function $f$ is given in the quantics representation as\n",
    "\n",
    "<img src=\"https://raw.githubusercontent.com/tensor4all/T4AJuliaTutorials/main/qft1.png\" alt=\"qft1\" width=\"30%\">,\n",
    "\n",
    "$\\hat{f} = T f$ can be computed by efficiently contracting the tensor trains for $T$ and $f$ and recompressing the result:\n",
    "\n",
    "<img src=\"https://raw.githubusercontent.com/tensor4all/T4AJuliaTutorials/main/qft2.png\" alt=\"qft contraction\" width=\"60%\">.\n",
    "\n",
    "Note that after the Fourier transform, the quantics indices $\\sigma_1,\\cdots,\\sigma_\\mathcal{R}$ are ordered in the inverse order of the input indices $\\sigma'_1,\\cdots,\\sigma'_\\mathcal{R}$.\n",
    "This allows construction of the DFT operator with small bond dimensions."
   ]
  },
  {
   "cell_type": "markdown",
   "id": "1c255a86",
   "metadata": {},
   "source": [
    "\n",
    "\n",
    "We consider a function $f(x)$, which is the sum of exponential functions, defined on interval $[0,1]$:\n",
    "\n",
    "$$\n",
    "f(x) = \\sum_p \\frac{c_p}{1 - e^{-\\epsilon_p}} e^{-\\epsilon_p x}.\n",
    "$$\n",
    "\n",
    "Its Fourier transform is given by\n",
    "\n",
    "$$\n",
    "\\hat{f}_k = \\int_0^1 dx \\, f(x) e^{i \\omega_k x} = - \\sum_p \\frac{c_p}{i\\omega_k - \\epsilon_p}.\n",
    "$$\n",
    "\n",
    "for $k = 0, 1, \\cdots $ and $\\omega_k = 2\\pi k$.\n",
    "\n",
    "If you are familiar with quantum field theory, you can think of $f(x)$ as a bosonic correlation function."
   ]
  },
  {
   "cell_type": "code",
   "execution_count": null,
   "id": "8f481a81",
   "metadata": {},
   "outputs": [],
   "source": [
    "coeffs = [1.0, 1.0]\n",
    "ϵs = [100.0, -50.0]\n",
    "\n",
    "_exp(x, ϵ) = exp(-ϵ * x)/ (1 - exp(-ϵ))\n",
    "\n",
    "fx(x) = sum(coeffs .* _exp.(x, ϵs))"
   ]
  },
  {
   "cell_type": "code",
   "execution_count": null,
   "id": "5b472cd3",
   "metadata": {},
   "outputs": [],
   "source": [
    "plotx = range(0, 1; length=1000)\n",
    "\n",
    "fig, ax = plt.subplots()\n",
    "\n",
    "ax.plot(plotx, fx.(plotx))\n",
    "ax.set_xlabel(L\"x\")\n",
    "ax.set_ylabel(L\"f(x)\")\n",
    "_display(fig)"
   ]
  },
  {
   "cell_type": "markdown",
   "id": "db78c885",
   "metadata": {},
   "source": [
    "First, we construct a QTT representation of the function $f(x)$."
   ]
  },
  {
   "cell_type": "code",
   "execution_count": null,
   "id": "9d518060",
   "metadata": {},
   "outputs": [],
   "source": [
    "R = 40\n",
    "xgrid = QG.DiscretizedGrid{1}(R, 0, 1)\n",
    "\n",
    "qtci, ranks, errors = quanticscrossinterpolate(Float64, fx, xgrid; tolerance=1e-10)"
   ]
  },
  {
   "cell_type": "markdown",
   "id": "5a592cca",
   "metadata": {},
   "source": [
    "Second, we compute the Fourier transform of $f(x)$ using the QTT representation of $f(x)$ and the QTT representation of the DFT operator $T$:\n",
    "\n",
    "$$\n",
    "\\hat{f}_k = \\int_0^1 dx \\, f(x) e^{i \\omega_k x} \\approx \\frac{1}{M} \\sum_{m=0}^{M-1} f_m e^{i 2 \\pi k m / M} =  \\frac{1}{\\sqrt{M}} \\sum_{m=0}^{M-1} T_{km} f_m.\n",
    "$$\n",
    "\n",
    "for $k = 0, \\ldots, M-1$ and $\\omega_k = 2\\pi k$.\n",
    "This can be implemented as follows."
   ]
  },
  {
   "cell_type": "code",
   "execution_count": null,
   "id": "39f548a1",
   "metadata": {},
   "outputs": [],
   "source": [
    "# Construct QTT representation of T_{km}\n",
    "fouriertt = quanticsfouriermpo(R; sign=1.0, normalize=true)\n",
    "\n",
    "# Apply T_{km} to the QTT representation of f(x)\n",
    "sitedims = [[2,1] for _ in 1:R]\n",
    "ftt = TCI.TensorTrain(qtci.tci)\n",
    "hftt = TCI.contract(fouriertt, ftt; algorithm=:naive, tolerance=1e-8)\n",
    "\n",
    "hftt *= 1/sqrt(2)^R\n",
    "\n",
    "@show hftt\n",
    ";"
   ]
  },
  {
   "cell_type": "markdown",
   "id": "37a68494",
   "metadata": {},
   "source": [
    "Let us compare the result with the exact Fourier transform of $f(x)$."
   ]
  },
  {
   "cell_type": "code",
   "execution_count": null,
   "id": "af64a155",
   "metadata": {},
   "outputs": [],
   "source": [
    "kgrid = QG.InherentDiscreteGrid{1}(R, 0) # 0, 1, ..., 2^R-1\n",
    "\n",
    "_expk(k, ϵ) = -1 / (2π * k * im - ϵ)\n",
    "hfk(k) = sum(coeffs .* _expk.(k, ϵs)) # k = 0, 1, 2, ..., 2^R-1\n",
    "\n",
    "fig, (ax1, ax2) = plt.subplots(1, 2, figsize=(12, 4))\n",
    "\n",
    "plotk = collect(0:300)\n",
    "y = [hftt(reverse(QG.origcoord_to_quantics(kgrid, x))) for x in plotk] # Note: revert the order of the quantics indices\n",
    "\n",
    "ax1.plot(plotk, real.(y), marker=\"+\", label=\"QFT\")\n",
    "ax1.plot(plotk, real.(hfk.(plotk)), marker=\"x\", label=\"Reference\")\n",
    "ax1.set_xlabel(L\"k\")\n",
    "ax1.set_ylabel(L\"\\mathrm{Re}~\\hat{f}(k)\")\n",
    "ax1.legend()\n",
    "\n",
    "ax2.plot(plotk, imag.(y), marker=\"+\", label=\"QFT\")\n",
    "ax2.plot(plotk, imag.(hfk.(plotk)), marker=\"x\", label=\"Reference\")\n",
    "ax2.set_xlabel(L\"k\")\n",
    "ax2.set_ylabel(L\"\\mathrm{Im}~\\hat{f}(k)\")\n",
    "ax2.legend()\n",
    "\n",
    "_display(fig)"
   ]
  },
  {
   "cell_type": "markdown",
   "id": "282e7c37",
   "metadata": {},
   "source": [
    "The exponentially large quantics grid allows to compute the Fourier transform with high accuracy at high frequencies.\n",
    "To check this, let us compare the results at high frequencies."
   ]
  },
  {
   "cell_type": "code",
   "execution_count": null,
   "id": "27baf502",
   "metadata": {},
   "outputs": [],
   "source": [
    "fig, (ax1, ax2) = plt.subplots(1, 2, figsize=(12, 4))\n",
    "\n",
    "plotk = [10^n for n in 1:5]\n",
    "@assert maximum(plotk) <= 2^R-1\n",
    "y = [hftt(reverse(QG.origcoord_to_quantics(kgrid, x))) for x in plotk] # Note: revert the order of the quantics indices\n",
    "\n",
    "ax1.loglog(plotk, abs.(real.(y)), marker=\"+\", label=\"QFT\")\n",
    "ax1.loglog(plotk, abs.(real.(hfk.(plotk))), marker=\"x\", label=\"Reference\")\n",
    "ax1.set_xlabel(L\"k\")\n",
    "ax1.set_ylabel(L\"\\mathrm{Re}~\\hat{f}(k)\")\n",
    "ax1.legend()\n",
    "\n",
    "ax2.loglog(plotk, abs.(imag.(y)), marker=\"+\", label=\"QFT\")\n",
    "ax2.loglog(plotk, abs.(imag.(hfk.(plotk))), marker=\"x\", label=\"Reference\")\n",
    "ax2.set_xlabel(L\"k\")\n",
    "ax2.set_ylabel(L\"\\mathrm{Im}~\\hat{f}(k)\")\n",
    "ax2.legend()\n",
    "\n",
    "_display(fig)"
   ]
  },
  {
   "cell_type": "markdown",
   "id": "244c4562",
   "metadata": {},
   "source": [
    "You may use ITensors.jl to compute the Fourier transform of the function $f(x)$.\n",
    "The following code explains how to do this."
   ]
  },
  {
   "cell_type": "code",
   "execution_count": null,
   "id": "aea5e889",
   "metadata": {},
   "outputs": [],
   "source": [
    "import TCIITensorConversion\n",
    "using ITensors\n",
    "import Quantics: fouriertransform, Quantics\n",
    "\n",
    "sites_m = [Index(2, \"Qubit,m=$m\") for m in 1:R]\n",
    "sites_k = [Index(2, \"Qubit,k=$k\") for k in 1:R]\n",
    "\n",
    "fmps = MPS(ftt; sites=sites_m)\n",
    "\n",
    "# Apply T_{km} to the MPS representation of f(x) and reply the result by 1/sqrt(M)\n",
    "# tag=\"m\" is used to indicate that the MPS is in the \"m\" basis.\n",
    "hfmps = (1/sqrt(2)^R) * fouriertransform(fmps; sign=1, tag=\"m\", sitesdst=sites_k)"
   ]
  },
  {
   "cell_type": "code",
   "execution_count": null,
   "id": "bfa2361a",
   "metadata": {},
   "outputs": [],
   "source": [
    "# Evaluate Ψ for a given index\n",
    "_evaluate(Ψ::MPS, sites, index::Vector{Int}) = only(reduce(*, Ψ[n] * onehot(sites[n] => index[n]) for n in 1:length(Ψ)))"
   ]
  },
  {
   "cell_type": "code",
   "execution_count": null,
   "id": "d8b38e82",
   "metadata": {},
   "outputs": [],
   "source": [
    "fig, (ax1, ax2) = plt.subplots(1, 2, figsize=(12, 4))\n",
    "\n",
    "plotk = [10^n for n in 1:5]\n",
    "@assert maximum(plotk) <= 2^R-1\n",
    "y = [_evaluate(hfmps, reverse(sites_k), reverse(QG.origcoord_to_quantics(kgrid, x))) for x in plotk] # Note: revert the order of the quantics indices\n",
    "\n",
    "ax1.loglog(plotk, abs.(real.(y)), marker=\"+\", label=\"QFT\")\n",
    "ax1.loglog(plotk, abs.(real.(hfk.(plotk))), marker=\"x\", label=\"Reference\")\n",
    "ax1.set_xlabel(L\"k\")\n",
    "ax1.set_ylabel(L\"\\mathrm{Re}~\\hat{f}(k)\")\n",
    "ax1.legend()\n",
    "\n",
    "ax2.loglog(plotk, abs.(imag.(y)), marker=\"+\", label=\"QFT\")\n",
    "ax2.loglog(plotk, abs.(imag.(hfk.(plotk))), marker=\"x\", label=\"Reference\")\n",
    "ax2.set_xlabel(L\"k\")\n",
    "ax2.set_ylabel(L\"\\mathrm{Im}~\\hat{f}(k)\")\n",
    "ax2.legend()\n",
    "\n",
    "_display(fig)"
   ]
  },
  {
   "cell_type": "markdown",
   "id": "bb20bbf3",
   "metadata": {},
   "source": [
    "## 2D Fourier transform\n",
    "\n",
    "We now consider a two-dimensional function $f(x, y) = \\frac{1}{(1 - e^{-\\epsilon})(1 - e^{-\\epsilon'})} e^{-\\epsilon x - \\epsilon' y}$ defined on the interval $[0,1]^2$.\n",
    "\n",
    "Its Fourier transform is given by\n",
    "\n",
    "$$\n",
    "\\hat{f}_{kl} = \\int_0^1  \\int_0^1 dx dy \\, f(x, y) e^{i \\omega_k x + i\\omega_l y} \\approx \\frac{1}{M^2} \\sum_{m,n=0}^{M-1} f_{mn} e^{i 2 \\pi (k m + l n) / M} =  \\frac{1}{M} \\sum_{m,n=0}^{M-1} T_{km} T_{ln} f_{mn}.\n",
    "$$\n",
    "\n",
    "The exact form of the Fourier transform is\n",
    "\n",
    "$$\n",
    "\\hat{f}_{kl} = \\frac{1}{(i\\omega_k - \\epsilon) (i\\omega_l - \\epsilon')}.\n",
    "$$\n",
    "\n",
    "for $k, l = 0, 1, \\cdots $, $\\omega_k = 2\\pi k$ and $\\omega_l = 2\\pi l$.\n",
    "\n",
    "The 2D Fourier transform can be numerically computed in QTT format (with interleaved representation) in a straightforward way using Quantics.jl.\n"
   ]
  },
  {
   "cell_type": "code",
   "execution_count": null,
   "id": "494e506a",
   "metadata": {},
   "outputs": [],
   "source": [
    "ϵ = 1.0\n",
    "ϵprime = 2.0\n",
    "fxy(x, y) = _exp(x, ϵ) * _exp(y, ϵprime)\n",
    "\n",
    "# 2D quantics grid using interleaved unfolding scheme\n",
    "xygrid = QG.DiscretizedGrid{2}(R, (0, 0), (1, 1); unfoldingscheme=:interleaved)\n",
    "\n",
    "# Resultant QTT representation of f(x, y) has bond dimension of 1.\n",
    "qtci_xy, ranks_xy, errors_xy = quanticscrossinterpolate(Float64, fxy, xygrid; tolerance=1e-10)"
   ]
  },
  {
   "cell_type": "code",
   "execution_count": null,
   "id": "b40c14bd",
   "metadata": {},
   "outputs": [],
   "source": [
    "# for discretizing `y`\n",
    "sites_n = [Index(2, \"Qubit,n=$n\") for n in 1:R]\n",
    "\n",
    "sites_l = [Index(2, \"Qubit,l=$l\") for l in 1:R]\n",
    "\n",
    "sites_mn = collect(Iterators.flatten(zip(sites_m, sites_n)))\n",
    "\n",
    "fmps2 = MPS(TCI.TensorTrain(qtci_xy.tci); sites=sites_mn)\n",
    "siteinds(fmps2)"
   ]
  },
  {
   "cell_type": "code",
   "execution_count": null,
   "id": "5df62ce4",
   "metadata": {},
   "outputs": [],
   "source": [
    "# Fourier transform for x\n",
    "tmp_ = (1/sqrt(2)^R) * fouriertransform(fmps2; sign=1, tag=\"m\", sitesdst=sites_k, cutoff=1e-20)\n",
    "\n",
    "# Fourier transform for y\n",
    "hfmps2 = (1/sqrt(2)^R) * fouriertransform(tmp_; sign=1, tag=\"n\", sitesdst=sites_l, cutoff=1e-20)\n",
    "\n",
    "siteinds(hfmps2)"
   ]
  },
  {
   "cell_type": "markdown",
   "id": "9024cc7a",
   "metadata": {},
   "source": [
    "For convinience, we swap the order of the indices.\n"
   ]
  },
  {
   "cell_type": "code",
   "execution_count": null,
   "id": "4bd5ff6c",
   "metadata": {},
   "outputs": [],
   "source": [
    "# Convert to fused representation and swap the order of the indices\n",
    "hfmps2_fused = MPS(reverse([hfmps2[2*n-1] * hfmps2[2*n] for n in 1:R]))\n",
    "\n",
    "# From fused to interleaved representation\n",
    "sites_kl = collect(Iterators.flatten(zip(sites_k, sites_l)))\n",
    "hfmps2_reverse = Quantics.rearrange_siteinds(hfmps2_fused, [[x] for x in sites_kl])\n",
    "siteinds(hfmps2_reverse)"
   ]
  },
  {
   "cell_type": "code",
   "execution_count": null,
   "id": "422c1df2",
   "metadata": {},
   "outputs": [],
   "source": [
    "fig, (ax1, ax2, ax3) = plt.subplots(1, 3, figsize=(15, 4))\n",
    "\n",
    "klgrid = QG.InherentDiscreteGrid{2}(R, (0, 0); unfoldingscheme=:interleaved)\n",
    "\n",
    "sparse1dgrid = collect(0:4)\n",
    "\n",
    "reconstdata = [\n",
    "    _evaluate(hfmps2_reverse, sites_kl, QG.origcoord_to_quantics(klgrid, (k, l)))\n",
    "    for k in sparse1dgrid, l in sparse1dgrid]\n",
    "\n",
    "hfkl(k::Integer, l::Integer) = _expk(k, ϵ) * _expk(l, ϵprime)\n",
    "\n",
    "exactdata = [hfkl(k, l) for k in sparse1dgrid, l in sparse1dgrid]\n",
    "\n",
    "c = ax1.pcolor(real.(exactdata))\n",
    "fig.colorbar(c, ax=ax1)\n",
    "ax1.set_xlabel(L\"k\")\n",
    "ax1.set_ylabel(L\"l\")\n",
    "ax1.set_title(\"Real part of Exact data\")\n",
    "\n",
    "c = ax2.pcolor(real.(reconstdata))\n",
    "fig.colorbar(c, ax=ax2)\n",
    "ax2.set_xlabel(L\"k\")\n",
    "ax2.set_ylabel(L\"l\")\n",
    "ax2.set_title(\"Real part of Reconstructed data\")\n",
    "\n",
    "c = ax3.pcolor(abs.(exactdata .- reconstdata))\n",
    "fig.colorbar(c, ax=ax3)\n",
    "ax3.set_xlabel(L\"k\")\n",
    "ax3.set_ylabel(L\"l\")\n",
    "ax3.set_title(\"Error\")\n",
    "\n",
    "_display(fig)"
   ]
  }
 ],
 "metadata": {
  "jupytext": {
   "custom_cell_magics": "kql",
   "encoding": "# -*- coding: utf-8 -*-",
   "formats": "ipynb,jl:percent"
  },
  "kernelspec": {
   "display_name": "Julia 1.10.4",
   "language": "julia",
   "name": "julia-1.10"
  }
 },
 "nbformat": 4,
 "nbformat_minor": 5
}