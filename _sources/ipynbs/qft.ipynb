{
 "cells": [
  {
   "cell_type": "markdown",
   "id": "6605ce63",
   "metadata": {},
   "source": [
    "Click [here](https://tensor4all.org/T4AJuliaTutorials/_sources/ipynbs/qft.ipynb) to download the notebook locally.\n"
   ]
  },
  {
   "cell_type": "markdown",
   "id": "e6573412",
   "metadata": {},
   "source": [
    "# Quantum Fourier Transform\n"
   ]
  },
  {
   "cell_type": "code",
   "execution_count": 1,
   "id": "32693090",
   "metadata": {},
   "outputs": [
    {
     "ename": "LoadError",
     "evalue": "InitError: Python: AttributeError: module 'matplotlib.cm' has no attribute 'get_cmap'\nduring initialization of module PythonPlot",
     "output_type": "error",
     "traceback": [
      "InitError: Python: AttributeError: module 'matplotlib.cm' has no attribute 'get_cmap'\nduring initialization of module PythonPlot",
      "",
      "Stacktrace:",
      "  [1] pythrow()",
      "    @ PythonCall.Core ~/.julia/packages/PythonCall/S5MOg/src/Core/err.jl:92",
      "  [2] errcheck",
      "    @ ~/.julia/packages/PythonCall/S5MOg/src/Core/err.jl:10 [inlined]",
      "  [3] pygetattr(x::PythonCall.Core.Py, k::String)",
      "    @ PythonCall.Core ~/.julia/packages/PythonCall/S5MOg/src/Core/builtins.jl:62",
      "  [4] getproperty",
      "    @ ~/.julia/packages/PythonCall/S5MOg/src/Core/Py.jl:257 [inlined]",
      "  [5] init_colormaps()",
      "    @ PythonPlot ~/.julia/packages/PythonPlot/f591M/src/colormaps.jl:51",
      "  [6] __init__()",
      "    @ PythonPlot ~/.julia/packages/PythonPlot/f591M/src/init.jl:179",
      "  [7] run_module_init(mod::Module, i::Int64)",
      "    @ Base ./loading.jl:1134",
      "  [8] register_restored_modules(sv::Core.SimpleVector, pkg::Base.PkgId, path::String)",
      "    @ Base ./loading.jl:1122",
      "  [9] _include_from_serialized(pkg::Base.PkgId, path::String, ocachepath::String, depmods::Vector{Any})",
      "    @ Base ./loading.jl:1067",
      " [10] _require_search_from_serialized(pkg::Base.PkgId, sourcepath::String, build_id::UInt128)",
      "    @ Base ./loading.jl:1581",
      " [11] _require(pkg::Base.PkgId, env::String)",
      "    @ Base ./loading.jl:1938",
      " [12] __require_prelocked(uuidkey::Base.PkgId, env::String)",
      "    @ Base ./loading.jl:1812",
      " [13] #invoke_in_world#3",
      "    @ ./essentials.jl:926 [inlined]",
      " [14] invoke_in_world",
      "    @ ./essentials.jl:923 [inlined]",
      " [15] _require_prelocked(uuidkey::Base.PkgId, env::String)",
      "    @ Base ./loading.jl:1803",
      " [16] macro expansion",
      "    @ ./loading.jl:1790 [inlined]",
      " [17] macro expansion",
      "    @ ./lock.jl:267 [inlined]",
      " [18] __require(into::Module, mod::Symbol)",
      "    @ Base ./loading.jl:1753",
      " [19] #invoke_in_world#3",
      "    @ ./essentials.jl:926 [inlined]",
      " [20] invoke_in_world",
      "    @ ./essentials.jl:923 [inlined]",
      " [21] require(into::Module, mod::Symbol)",
      "    @ Base ./loading.jl:1746"
     ]
    }
   ],
   "source": [
    "using PythonCall: PythonCall\n",
    "using PythonPlot: pyplot as plt, Figure\n",
    "using LaTeXStrings\n",
    "\n",
    "# Displays the matplotlib figure object `fig` and avoids duplicate plots.\n",
    "_display(fig::Figure) = isinteractive() ? (fig; plt.show(); nothing) : Base.display(fig)\n",
    "_display(fig::PythonCall.Py) = _display(Figure(fig))\n",
    "\n",
    "import QuanticsGrids as QG\n",
    "import TensorCrossInterpolation as TCI\n",
    "using QuanticsTCI: quanticscrossinterpolate, quanticsfouriermpo"
   ]
  },
  {
   "cell_type": "markdown",
   "id": "af8d1d7c",
   "metadata": {},
   "source": [
    "$$\n",
    "%\\newcommand{\\hf}{\\hat{f}}   %Fourier transform of \\bff\n",
    "%\\newcommand{\\hF}{\\hat{F}}\n",
    "$$\n",
    "\n",
    "\n",
    "Consider a discrete function $f_m \\in \\mathbb{C}^M$, e.g. the \n",
    "discretization, $f_m = f(x(m))$, of a one-dimensional function $f(x)$ on a grid $x(m)$. \n",
    "Its discrete Fourier transform (DFT) is\n",
    "\n",
    "$$\n",
    "\\hat{f}_k = \\sum_{m=0}^{M-1}   T_{km} f_m , \\qquad \n",
    "T_{km} =  \\tfrac{1}{\\sqrt{M}}  e^{- i 2 \\pi k \\cdot m /M} .\n",
    "$$\n",
    "\n",
    "For a quantics grid, $M = 2^\\mathcal{R}$ is exponentially large and the (naive) DFT exponentially expensive to evaluate.\n",
    "However, the QTT representation of $T$ is known to have a low-rank structure and can be represented as a tensor train with small bond dimensions.\n",
    "\n",
    "Thus, if the input function $f$ is given in the quantics representation as\n",
    "\n",
    "<img src=\"qft1.png\" alt=\"qft1\" width=\"30%\">,\n",
    "\n",
    "$\\hat{f} = T f$ can be computed by efficiently contracting the tensor trains for $T$ and $f$ and recompressing the result:\n",
    "\n",
    "<img src=\"qft2.png\" alt=\"qft contraction\" width=\"60%\">.\n",
    "\n",
    "Note that after the Fourier transform, the quantics indices $\\sigma_1,\\cdots,\\sigma_\\mathcal{R}$ are ordered in the inverse order of the input indices $\\sigma'_1,\\cdots,\\sigma'_\\mathcal{R}$.\n",
    "This allows construction of the DFT operator with small bond dimensions."
   ]
  },
  {
   "cell_type": "markdown",
   "id": "204d7462",
   "metadata": {},
   "source": [
    "\n",
    "\n",
    "We consider a function $f(x)$, which is the sum of exponential functions, defined on interval $[0,1]$:\n",
    "\n",
    "$$\n",
    "f(x) = \\sum_p \\frac{c_p}{1 - e^{-\\epsilon_p}} e^{-\\epsilon_p x}.\n",
    "$$\n",
    "\n",
    "Its Fourier transform is given by\n",
    "\n",
    "$$\n",
    "\\hat{f}(k) = \\int_0^1 dx \\, f(x) e^{i \\omega_k x} = - \\sum_p \\frac{c_p}{i\\omega_k - \\epsilon_p}.\n",
    "$$\n",
    "\n",
    "for $k = 0, 1, \\cdots $ and $\\omega_k = 2\\pi k$.\n",
    "\n",
    "If you are familiar with quantum field theory, you can think of $f(x)$ as a bosonic correlation function."
   ]
  },
  {
   "cell_type": "code",
   "execution_count": null,
   "id": "76c496f5",
   "metadata": {},
   "outputs": [],
   "source": [
    "coeffs = [1.0, 1.0]\n",
    "ωs = [100.0, -50.0]\n",
    "\n",
    "_exp(x, ω) = exp(-ω * x)/ (1 - exp(-ω))\n",
    "\n",
    "fx(x) = sum(coeffs .* _exp.(x, ωs))"
   ]
  },
  {
   "cell_type": "code",
   "execution_count": null,
   "id": "f76c2d5e",
   "metadata": {},
   "outputs": [],
   "source": [
    "plotx = range(0, 1; length=1000)\n",
    "\n",
    "fig, ax = plt.subplots()\n",
    "\n",
    "ax.plot(plotx, fx.(plotx))\n",
    "ax.set_xlabel(L\"x\")\n",
    "ax.set_ylabel(L\"f(x)\")\n",
    "_display(fig)"
   ]
  },
  {
   "cell_type": "markdown",
   "id": "f81cd311",
   "metadata": {},
   "source": [
    "First, we construct a QTT representation of the function $f(x)$."
   ]
  },
  {
   "cell_type": "code",
   "execution_count": null,
   "id": "2a9dc1dc",
   "metadata": {},
   "outputs": [],
   "source": [
    "R = 40\n",
    "xgrid = QG.DiscretizedGrid{1}(R, 0, 1)\n",
    "\n",
    "qtci, ranks, errors = quanticscrossinterpolate(Float64, fx, xgrid; tolerance=1e-10)"
   ]
  },
  {
   "cell_type": "markdown",
   "id": "2fa34a7c",
   "metadata": {},
   "source": [
    "Second, we compute the Fourier transform of $f(x)$ using the QTT representation of $f(x)$ and the QTT representation of the DFT operator $T$:\n",
    "\n",
    "$$\n",
    "\\hat{f}_k = \\int_0^1 dx \\, f(x) e^{i \\omega_k x} \\approx \\frac{1}{M} \\sum_{m=0}^{M-1} f_m e^{i 2 \\pi k m / M} =  \\frac{1}{\\sqrt{M}} \\sum_{m=0}^{M-1} T_{km} f_m.\n",
    "$$\n",
    "\n",
    "for $k = 0, \\ldots, M-1$ and $\\omega_k = 2\\pi k$.\n",
    "This can be implemented as follows."
   ]
  },
  {
   "cell_type": "code",
   "execution_count": null,
   "id": "8900401f",
   "metadata": {},
   "outputs": [],
   "source": [
    "# Construct QTT representation of T_{km}\n",
    "fouriertt = quanticsfouriermpo(R; sign=1.0, normalize=true)\n",
    "\n",
    "# Apply T_{km} to the QTT representation of f(x)\n",
    "sitedims = [[2,1] for _ in 1:R]\n",
    "ftt = TCI.TensorTrain(qtci.tci)\n",
    "hftt = TCI.contract(fouriertt, ftt; algorithm=:naive, tolerance=1e-8)\n",
    "\n",
    "hftt *= 1/sqrt(2)^R\n",
    "\n",
    "@show hftt\n",
    ";"
   ]
  },
  {
   "cell_type": "markdown",
   "id": "770d90e5",
   "metadata": {},
   "source": [
    "Let us compare the result with the exact Fourier transform of $f(x)$."
   ]
  },
  {
   "cell_type": "code",
   "execution_count": null,
   "id": "a3a2af3d",
   "metadata": {},
   "outputs": [],
   "source": [
    "kgrid = QG.InherentDiscreteGrid{1}(R, 0) # 0, 1, ..., 2^R-1\n",
    "\n",
    "_expk(k, ω) = -1 / (2π * k * im - ω)\n",
    "hfk(k) = sum(coeffs .* _expk.(k, ωs)) # k = 0, 1, 2, ..., 2^R-1\n",
    "\n",
    "fig, (ax1, ax2) = plt.subplots(1, 2, figsize=(12, 4))\n",
    "\n",
    "plotk = collect(0:300)\n",
    "y = [hftt(reverse(QG.origcoord_to_quantics(kgrid, x))) for x in plotk] # Note: revert the order of the quantics indices\n",
    "\n",
    "ax1.plot(plotk, real.(y), marker=\"+\", label=\"QFT\")\n",
    "ax1.plot(plotk, real.(hfk.(plotk)), marker=\"x\", label=\"Reference\")\n",
    "ax1.set_xlabel(L\"k\")\n",
    "ax1.set_ylabel(L\"\\mathrm{Re}~\\hat{f}(k)\")\n",
    "ax1.legend()\n",
    "\n",
    "ax2.plot(plotk, imag.(y), marker=\"+\", label=\"QFT\")\n",
    "ax2.plot(plotk, imag.(hfk.(plotk)), marker=\"x\", label=\"Reference\")\n",
    "ax2.set_xlabel(L\"k\")\n",
    "ax2.set_ylabel(L\"\\mathrm{Im}~\\hat{f}(k)\")\n",
    "ax2.legend()\n",
    "\n",
    "_display(fig)"
   ]
  },
  {
   "cell_type": "markdown",
   "id": "fbe8af1e",
   "metadata": {},
   "source": [
    "The exponentially large quantics grid allows to compute the Fourier transform with high accuracy at high frequencies.\n",
    "To check this, let us compare the results at high frequencies."
   ]
  },
  {
   "cell_type": "code",
   "execution_count": null,
   "id": "e9f46901",
   "metadata": {},
   "outputs": [],
   "source": [
    "fig, (ax1, ax2) = plt.subplots(1, 2, figsize=(12, 4))\n",
    "\n",
    "plotk = [10^n for n in 1:5]\n",
    "@assert maximum(plotk) <= 2^R-1\n",
    "y = [hftt(reverse(QG.origcoord_to_quantics(kgrid, x))) for x in plotk] # Note: revert the order of the quantics indices\n",
    "\n",
    "ax1.loglog(plotk, abs.(real.(y)), marker=\"+\", label=\"QFT\")\n",
    "ax1.loglog(plotk, abs.(real.(hfk.(plotk))), marker=\"x\", label=\"Reference\")\n",
    "ax1.set_xlabel(L\"k\")\n",
    "ax1.set_ylabel(L\"\\mathrm{Re}~\\hat{f}(k)\")\n",
    "ax1.legend()\n",
    "\n",
    "ax2.loglog(plotk, abs.(imag.(y)), marker=\"+\", label=\"QFT\")\n",
    "ax2.loglog(plotk, abs.(imag.(hfk.(plotk))), marker=\"x\", label=\"Reference\")\n",
    "ax2.set_xlabel(L\"k\")\n",
    "ax2.set_ylabel(L\"\\mathrm{Im}~\\hat{f}(k)\")\n",
    "ax2.legend()\n",
    "\n",
    "_display(fig)"
   ]
  }
 ],
 "metadata": {
  "jupytext": {
   "custom_cell_magics": "kql",
   "encoding": "# -*- coding: utf-8 -*-",
   "formats": "ipynb,jl:percent"
  },
  "kernelspec": {
   "display_name": "Julia 1.10.4",
   "language": "julia",
   "name": "julia-1.10"
  },
  "language_info": {
   "file_extension": ".jl",
   "mimetype": "application/julia",
   "name": "julia",
   "version": "1.10.4"
  }
 },
 "nbformat": 4,
 "nbformat_minor": 5
}