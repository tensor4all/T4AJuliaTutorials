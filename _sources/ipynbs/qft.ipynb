{
 "cells": [
  {
   "cell_type": "markdown",
   "id": "665f24e8",
   "metadata": {},
   "source": [
    "Click [here](https://tensor4all.org/T4AJuliaTutorials/_sources/ipynbs/qft.ipynb) to download the notebook locally.\n"
   ]
  },
  {
   "cell_type": "markdown",
   "id": "a3c9d0d3",
   "metadata": {},
   "source": [
    "# Quantum Fourier Transform\n"
   ]
  },
  {
   "cell_type": "code",
   "execution_count": 1,
   "id": "9beb6381",
   "metadata": {},
   "outputs": [],
   "source": [
    "using PythonCall: PythonCall\n",
    "using PythonPlot: pyplot as plt, Figure\n",
    "using LaTeXStrings\n",
    "\n",
    "# Displays the matplotlib figure object `fig` and avoids duplicate plots.\n",
    "_display(fig::Figure) = isinteractive() ? (fig; plt.show(); nothing) : Base.display(fig)\n",
    "_display(fig::PythonCall.Py) = _display(Figure(fig))\n",
    "\n",
    "import QuanticsGrids as QG\n",
    "import TensorCrossInterpolation as TCI\n",
    "using QuanticsTCI: quanticscrossinterpolate, quanticsfouriermpo"
   ]
  },
  {
   "cell_type": "markdown",
   "id": "bf165871",
   "metadata": {},
   "source": [
    "$$\n",
    "%\\newcommand{\\hf}{\\hat{f}}   %Fourier transform of \\bff\n",
    "%\\newcommand{\\hF}{\\hat{F}}\n",
    "$$\n",
    "\n",
    "\n",
    "Consider a discrete function $f_m \\in \\mathbb{C}^M$, e.g. the \n",
    "discretization, $f_m = f(x(m))$, of a one-dimensional function $f(x)$ on a grid $x(m)$. \n",
    "Its discrete Fourier transform (DFT) is\n",
    "\n",
    "$$\n",
    "\\hat{f}_k = \\sum_{m=0}^{M-1}   T_{km} f_m , \\qquad \n",
    "T_{km} =  \\tfrac{1}{\\sqrt{M}}  e^{- i 2 \\pi k \\cdot m /M} .\n",
    "$$\n",
    "\n",
    "For a quantics grid, $M = 2^\\mathcal{R}$ is exponentially large and the (naive) DFT exponentially expensive to evaluate.\n",
    "However, the QTT representation of $T$ is known to have a low-rank structure and can be represented as a tensor train with small bond dimensions.\n",
    "\n",
    "Thus, if the input function $f$ is given in the quantics representation as\n",
    "\n",
    "<img src=\"qft1.png\" alt=\"qft1\" width=\"30%\">,\n",
    "\n",
    "$\\hat{f} = T f$ can be computed by efficiently contracting the tensor trains for $T$ and $f$ and recompressing the result:\n",
    "\n",
    "<img src=\"qft2.png\" alt=\"qft contraction\" width=\"60%\">.\n",
    "\n",
    "Note that after the Fourier transform, the quantics indices $\\sigma_1,\\cdots,\\sigma_\\mathcal{R}$ are ordered in the inverse order of the input indices $\\sigma'_1,\\cdots,\\sigma'_\\mathcal{R}$.\n",
    "This allows construction of the DFT operator with small bond dimensions."
   ]
  },
  {
   "cell_type": "markdown",
   "id": "2fca43bd",
   "metadata": {},
   "source": [
    "\n",
    "\n",
    "We consider a function $f(x)$, which is the sum of exponential functions, defined on interval $[0,1]$:\n",
    "\n",
    "$$\n",
    "f(x) = \\sum_p \\frac{c_p}{1 - e^{-\\epsilon_p}} e^{-\\epsilon_p x}.\n",
    "$$\n",
    "\n",
    "Its Fourier transform is given by\n",
    "\n",
    "$$\n",
    "\\hat{f}(k) = \\int_0^1 dx \\, f(x) e^{i \\omega_k x} = - \\sum_p \\frac{c_p}{i\\omega_k - \\epsilon_p}.\n",
    "$$\n",
    "\n",
    "for $k = 0, 1, \\cdots $ and $\\omega_k = 2\\pi k$.\n",
    "\n",
    "If you are familiar with quantum field theory, you can think of $f(x)$ as a bosonic correlation function."
   ]
  },
  {
   "cell_type": "code",
   "execution_count": 2,
   "id": "f155e45f",
   "metadata": {},
   "outputs": [
    {
     "data": {
      "text/plain": [
       "fx (generic function with 1 method)"
      ]
     },
     "execution_count": 2,
     "metadata": {},
     "output_type": "execute_result"
    }
   ],
   "source": [
    "coeffs = [1.0, 1.0]\n",
    "ωs = [100.0, -50.0]\n",
    "\n",
    "_exp(x, ω) = exp(-ω * x)/ (1 - exp(-ω))\n",
    "\n",
    "fx(x) = sum(coeffs .* _exp.(x, ωs))"
   ]
  },
  {
   "cell_type": "code",
   "execution_count": 3,
   "id": "da4539b4",
   "metadata": {},
   "outputs": [
    {
     "data": {
      "image/png": "[encoded data removed]",
      "text/plain": [
       "Figure(<py Figure size 640x480 with 1 Axes>)"
      ]
     },
     "metadata": {},
     "output_type": "display_data"
    }
   ],
   "source": [
    "plotx = range(0, 1; length=1000)\n",
    "\n",
    "fig, ax = plt.subplots()\n",
    "\n",
    "ax.plot(plotx, fx.(plotx))\n",
    "ax.set_xlabel(L\"x\")\n",
    "ax.set_ylabel(L\"f(x)\")\n",
    "_display(fig)"
   ]
  },
  {
   "cell_type": "markdown",
   "id": "1e6e8126",
   "metadata": {},
   "source": [
    "First, we construct a QTT representation of the function $f(x)$."
   ]
  },
  {
   "cell_type": "code",
   "execution_count": 4,
   "id": "bd3c0af8",
   "metadata": {},
   "outputs": [
    {
     "data": {
      "text/plain": [
       "(QuanticsTCI.QuanticsTensorCI2{Float64}(TensorCrossInterpolation.TensorCI2{Float64} with rank 2, QuanticsGrids.DiscretizedGrid{1}(40, (0.0,), (1.0,), 2, :fused, false), TensorCrossInterpolation.CachedFunction{Float64, UInt128} with 2676 entries), [2, 2, 2], [2.793464338512118e-16, 2.220446049250313e-16, 2.220446049250313e-16])"
      ]
     },
     "execution_count": 4,
     "metadata": {},
     "output_type": "execute_result"
    }
   ],
   "source": [
    "R = 40\n",
    "xgrid = QG.DiscretizedGrid{1}(R, 0, 1)\n",
    "\n",
    "qtci, ranks, errors = quanticscrossinterpolate(Float64, fx, xgrid; tolerance=1e-10)"
   ]
  },
  {
   "cell_type": "markdown",
   "id": "306da854",
   "metadata": {},
   "source": [
    "Second, we compute the Fourier transform of $f(x)$ using the QTT representation of $f(x)$ and the QTT representation of the DFT operator $T$:\n",
    "\n",
    "$$\n",
    "\\hat{f}_k = \\int_0^1 dx \\, f(x) e^{i \\omega_k x} \\approx \\frac{1}{M} \\sum_{m=0}^{M-1} f_m e^{i 2 \\pi k m / M} =  \\frac{1}{\\sqrt{M}} \\sum_{m=0}^{M-1} T_{km} f_m.\n",
    "$$\n",
    "\n",
    "for $k = 0, \\ldots, M-1$ and $\\omega_k = 2\\pi k$.\n",
    "This can be implemented as follows."
   ]
  },
  {
   "cell_type": "code",
   "execution_count": 5,
   "id": "225259e0",
   "metadata": {},
   "outputs": [
    {
     "ename": "LoadError",
     "evalue": "MethodError: no method matching contract(::TensorCrossInterpolation.TensorTrain{ComplexF64, 4}, ::TensorCrossInterpolation.TensorTrain{Float64, 3}; algorithm::Symbol, tolerance::Float64)\n\n\u001b[0mClosest candidates are:\n\u001b[0m  contract(::TensorCrossInterpolation.TensorTrain{V, 4}, \u001b[91m::Union{TensorCrossInterpolation.TensorCI1{V}, TensorCrossInterpolation.TensorCI2{V}, TensorCrossInterpolation.TensorTrain{V, 3}}\u001b[39m; kwargs...) where V\n\u001b[0m\u001b[90m   @\u001b[39m \u001b[35mTensorCrossInterpolation\u001b[39m \u001b[90m~/.julia/packages/TensorCrossInterpolation/hDtWQ/src/\u001b[39m\u001b[90m\u001b[4mcontraction.jl:550\u001b[24m\u001b[39m\n\u001b[0m  contract(::TensorCrossInterpolation.TensorTrain{ValueType, 4}, \u001b[91m::TensorCrossInterpolation.TensorTrain{ValueType, 4}\u001b[39m; algorithm, tolerance, maxbonddim, f, kwargs...) where ValueType\n\u001b[0m\u001b[90m   @\u001b[39m \u001b[35mTensorCrossInterpolation\u001b[39m \u001b[90m~/.julia/packages/TensorCrossInterpolation/hDtWQ/src/\u001b[39m\u001b[90m\u001b[4mcontraction.jl:515\u001b[24m\u001b[39m\n",
     "output_type": "error",
     "traceback": [
      "MethodError: no method matching contract(::TensorCrossInterpolation.TensorTrain{ComplexF64, 4}, ::TensorCrossInterpolation.TensorTrain{Float64, 3}; algorithm::Symbol, tolerance::Float64)\n\n\u001b[0mClosest candidates are:\n\u001b[0m  contract(::TensorCrossInterpolation.TensorTrain{V, 4}, \u001b[91m::Union{TensorCrossInterpolation.TensorCI1{V}, TensorCrossInterpolation.TensorCI2{V}, TensorCrossInterpolation.TensorTrain{V, 3}}\u001b[39m; kwargs...) where V\n\u001b[0m\u001b[90m   @\u001b[39m \u001b[35mTensorCrossInterpolation\u001b[39m \u001b[90m~/.julia/packages/TensorCrossInterpolation/hDtWQ/src/\u001b[39m\u001b[90m\u001b[4mcontraction.jl:550\u001b[24m\u001b[39m\n\u001b[0m  contract(::TensorCrossInterpolation.TensorTrain{ValueType, 4}, \u001b[91m::TensorCrossInterpolation.TensorTrain{ValueType, 4}\u001b[39m; algorithm, tolerance, maxbonddim, f, kwargs...) where ValueType\n\u001b[0m\u001b[90m   @\u001b[39m \u001b[35mTensorCrossInterpolation\u001b[39m \u001b[90m~/.julia/packages/TensorCrossInterpolation/hDtWQ/src/\u001b[39m\u001b[90m\u001b[4mcontraction.jl:515\u001b[24m\u001b[39m\n",
      "",
      "Stacktrace:",
      " [1] top-level scope",
      "   @ In[5]:7"
     ]
    }
   ],
   "source": [
    "# Construct QTT representation of T_{km}\n",
    "fouriertt = quanticsfouriermpo(R; sign=1.0, normalize=true)\n",
    "\n",
    "# Apply T_{km} to the QTT representation of f(x)\n",
    "sitedims = [[2,1] for _ in 1:R]\n",
    "ftt = TCI.TensorTrain(qtci.tci)\n",
    "hftt = TCI.contract(fouriertt, ftt; algorithm=:naive, tolerance=1e-8)\n",
    "\n",
    "hftt *= 1/sqrt(2)^R\n",
    "\n",
    "@show hftt\n",
    ";"
   ]
  },
  {
   "cell_type": "markdown",
   "id": "0ca7cad9",
   "metadata": {},
   "source": [
    "Let us compare the result with the exact Fourier transform of $f(x)$."
   ]
  },
  {
   "cell_type": "code",
   "execution_count": null,
   "id": "b8998b2b",
   "metadata": {},
   "outputs": [],
   "source": [
    "kgrid = QG.InherentDiscreteGrid{1}(R, 0) # 0, 1, ..., 2^R-1\n",
    "\n",
    "_expk(k, ω) = -1 / (2π * k * im - ω)\n",
    "hfk(k) = sum(coeffs .* _expk.(k, ωs)) # k = 0, 1, 2, ..., 2^R-1\n",
    "\n",
    "fig, (ax1, ax2) = plt.subplots(1, 2, figsize=(12, 4))\n",
    "\n",
    "plotk = collect(0:300)\n",
    "y = [hftt(reverse(QG.origcoord_to_quantics(kgrid, x))) for x in plotk] # Note: revert the order of the quantics indices\n",
    "\n",
    "ax1.plot(plotk, real.(y), marker=\"+\", label=\"QFT\")\n",
    "ax1.plot(plotk, real.(hfk.(plotk)), marker=\"x\", label=\"Reference\")\n",
    "ax1.set_xlabel(L\"k\")\n",
    "ax1.set_ylabel(L\"\\mathrm{Re}~\\hat{f}(k)\")\n",
    "ax1.legend()\n",
    "\n",
    "ax2.plot(plotk, imag.(y), marker=\"+\", label=\"QFT\")\n",
    "ax2.plot(plotk, imag.(hfk.(plotk)), marker=\"x\", label=\"Reference\")\n",
    "ax2.set_xlabel(L\"k\")\n",
    "ax2.set_ylabel(L\"\\mathrm{Im}~\\hat{f}(k)\")\n",
    "ax2.legend()\n",
    "\n",
    "_display(fig)"
   ]
  },
  {
   "cell_type": "markdown",
   "id": "9022ed30",
   "metadata": {},
   "source": [
    "The exponentially large quantics grid allows to compute the Fourier transform with high accuracy at high frequencies.\n",
    "To check this, let us compare the results at high frequencies."
   ]
  },
  {
   "cell_type": "code",
   "execution_count": null,
   "id": "ecaa82ea",
   "metadata": {},
   "outputs": [],
   "source": [
    "fig, (ax1, ax2) = plt.subplots(1, 2, figsize=(12, 4))\n",
    "\n",
    "plotk = [10^n for n in 1:5]\n",
    "@assert maximum(plotk) <= 2^R-1\n",
    "y = [hftt(reverse(QG.origcoord_to_quantics(kgrid, x))) for x in plotk] # Note: revert the order of the quantics indices\n",
    "\n",
    "ax1.loglog(plotk, abs.(real.(y)), marker=\"+\", label=\"QFT\")\n",
    "ax1.loglog(plotk, abs.(real.(hfk.(plotk))), marker=\"x\", label=\"Reference\")\n",
    "ax1.set_xlabel(L\"k\")\n",
    "ax1.set_ylabel(L\"\\mathrm{Re}~\\hat{f}(k)\")\n",
    "ax1.legend()\n",
    "\n",
    "ax2.loglog(plotk, abs.(imag.(y)), marker=\"+\", label=\"QFT\")\n",
    "ax2.loglog(plotk, abs.(imag.(hfk.(plotk))), marker=\"x\", label=\"Reference\")\n",
    "ax2.set_xlabel(L\"k\")\n",
    "ax2.set_ylabel(L\"\\mathrm{Im}~\\hat{f}(k)\")\n",
    "ax2.legend()\n",
    "\n",
    "_display(fig)"
   ]
  }
 ],
 "metadata": {
  "jupytext": {
   "custom_cell_magics": "kql",
   "encoding": "# -*- coding: utf-8 -*-",
   "formats": "ipynb,jl:percent"
  },
  "kernelspec": {
   "display_name": "Julia 1.10.4",
   "language": "julia",
   "name": "julia-1.10"
  },
  "language_info": {
   "file_extension": ".jl",
   "mimetype": "application/julia",
   "name": "julia",
   "version": "1.10.4"
  }
 },
 "nbformat": 4,
 "nbformat_minor": 5
}