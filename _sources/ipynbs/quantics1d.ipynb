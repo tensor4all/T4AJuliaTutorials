{
 "cells": [
  {
   "cell_type": "markdown",
   "id": "169a8f99",
   "metadata": {},
   "source": [
    "Click [here](https://tensor4all.org/T4AJuliaTutorials/_sources/ipynbs/quantics1d.ipynb) to download the notebook locally.\n"
   ]
  },
  {
   "cell_type": "markdown",
   "id": "9f56168b",
   "metadata": {},
   "source": [
    "# Quantics TCI of univariate funciton\n"
   ]
  },
  {
   "cell_type": "code",
   "execution_count": 1,
   "id": "11301c85",
   "metadata": {},
   "outputs": [
    {
     "ename": "LoadError",
     "evalue": "InitError: Python: AttributeError: module 'matplotlib.cm' has no attribute 'get_cmap'\nduring initialization of module PythonPlot",
     "output_type": "error",
     "traceback": [
      "InitError: Python: AttributeError: module 'matplotlib.cm' has no attribute 'get_cmap'\nduring initialization of module PythonPlot",
      "",
      "Stacktrace:",
      "  [1] pythrow()",
      "    @ PythonCall.Core ~/.julia/packages/PythonCall/S5MOg/src/Core/err.jl:92",
      "  [2] errcheck",
      "    @ ~/.julia/packages/PythonCall/S5MOg/src/Core/err.jl:10 [inlined]",
      "  [3] pygetattr(x::PythonCall.Core.Py, k::String)",
      "    @ PythonCall.Core ~/.julia/packages/PythonCall/S5MOg/src/Core/builtins.jl:62",
      "  [4] getproperty",
      "    @ ~/.julia/packages/PythonCall/S5MOg/src/Core/Py.jl:257 [inlined]",
      "  [5] init_colormaps()",
      "    @ PythonPlot ~/.julia/packages/PythonPlot/f591M/src/colormaps.jl:51",
      "  [6] __init__()",
      "    @ PythonPlot ~/.julia/packages/PythonPlot/f591M/src/init.jl:179",
      "  [7] run_module_init(mod::Module, i::Int64)",
      "    @ Base ./loading.jl:1134",
      "  [8] register_restored_modules(sv::Core.SimpleVector, pkg::Base.PkgId, path::String)",
      "    @ Base ./loading.jl:1122",
      "  [9] _include_from_serialized(pkg::Base.PkgId, path::String, ocachepath::String, depmods::Vector{Any})",
      "    @ Base ./loading.jl:1067",
      " [10] _require_search_from_serialized(pkg::Base.PkgId, sourcepath::String, build_id::UInt128)",
      "    @ Base ./loading.jl:1581",
      " [11] _require(pkg::Base.PkgId, env::String)",
      "    @ Base ./loading.jl:1938",
      " [12] __require_prelocked(uuidkey::Base.PkgId, env::String)",
      "    @ Base ./loading.jl:1812",
      " [13] #invoke_in_world#3",
      "    @ ./essentials.jl:926 [inlined]",
      " [14] invoke_in_world",
      "    @ ./essentials.jl:923 [inlined]",
      " [15] _require_prelocked(uuidkey::Base.PkgId, env::String)",
      "    @ Base ./loading.jl:1803",
      " [16] macro expansion",
      "    @ ./loading.jl:1790 [inlined]",
      " [17] macro expansion",
      "    @ ./lock.jl:267 [inlined]",
      " [18] __require(into::Module, mod::Symbol)",
      "    @ Base ./loading.jl:1753",
      " [19] #invoke_in_world#3",
      "    @ ./essentials.jl:926 [inlined]",
      " [20] invoke_in_world",
      "    @ ./essentials.jl:923 [inlined]",
      " [21] require(into::Module, mod::Symbol)",
      "    @ Base ./loading.jl:1746"
     ]
    }
   ],
   "source": [
    "using PythonCall: PythonCall\n",
    "using PythonPlot: pyplot as plt, Figure\n",
    "\n",
    "# Displays the matplotlib figure object `fig` and avoids duplicate plots.\n",
    "_display(fig::Figure) = isinteractive() ? (fig; plt.show(); nothing) : Base.display(fig)\n",
    "_display(fig::PythonCall.Py) = _display(Figure(fig))\n",
    "\n",
    "import QuanticsGrids as QG\n",
    "using QuanticsTCI: quanticscrossinterpolate"
   ]
  },
  {
   "cell_type": "markdown",
   "id": "247f410a",
   "metadata": {},
   "source": [
    "## Example 1\n",
    "\n",
    "The first example is taken from Fig. 1 in [Ritter2024](https://arxiv.org/abs/2303.11819).\n",
    "\n",
    "We are going to compute the integral $\\mathrm{I}[f] = \\int_0^{\\ln 20} \\mathrm{d}x f(x) $ of the function\n",
    "\n",
    "$$\n",
    "f(x) = \\cos\\left(\\frac{x}{B}\\right) \\cos\\left(\\frac{x}{4\\sqrt{5}B}\\right) e^{-x^2} + 2e^{-x},\n",
    "$$\n",
    "\n",
    "where $B = 2^{-30}$.\n",
    "The integral evaluates to $\\mathrm{I}[f] = 19/10 + O(e^{-1/(4B^2)})$.\n",
    "\n",
    "We first construct a QTT representation of the function $f(x)$ as follows:"
   ]
  },
  {
   "cell_type": "code",
   "execution_count": null,
   "id": "4e9e035d",
   "metadata": {},
   "outputs": [],
   "source": [
    "B = 2^(-30) # global variable\n",
    "function f(x)\n",
    "    return cos(x / B) * cos(x / (4 * sqrt(5) * B)) * exp(-x^2) + 2 * exp(-x)\n",
    "end\n",
    "\n",
    "println(f(0.2))"
   ]
  },
  {
   "cell_type": "markdown",
   "id": "050936ed",
   "metadata": {},
   "source": [
    "Let's examine the behaviour of $f(x)$. This function involves structure on widely different scales: rapid, incommensurate oscillations and a slowly decaying envelope. We'll use [PythonPlot.jl](https://github.com/JuliaPy/PythonPlot.jl) visualisation library which uses Python library [matplotlib](https://matplotlib.org/) behind the scenes.\n",
    "\n",
    "For small $x$ we have:\n"
   ]
  },
  {
   "cell_type": "code",
   "execution_count": null,
   "id": "e9b51264",
   "metadata": {},
   "outputs": [],
   "source": [
    "xs = LinRange(0, 2.0^(-23), 1000)\n",
    "\n",
    "fig, ax = plt.subplots()\n",
    "ax.plot(xs, f.(xs), label=\"$(nameof(f))\")\n",
    "ax.set_title(\"$(nameof(f))\")\n",
    "ax.legend()\n",
    "_display(fig)"
   ]
  },
  {
   "cell_type": "markdown",
   "id": "7141739e",
   "metadata": {},
   "source": [
    "For $x \\in (0, 3]$ we will get:\n"
   ]
  },
  {
   "cell_type": "code",
   "execution_count": null,
   "id": "9712f9df",
   "metadata": {},
   "outputs": [],
   "source": [
    "xs2 = LinRange(2.0^(-23), 3, 100000)\n",
    "fig, ax = plt.subplots()\n",
    "ax.plot(xs2, f.(xs2), label=\"$(nameof(f))\")\n",
    "ax.set_title(\"$(nameof(f))\")\n",
    "ax.legend()\n",
    "_display(fig)"
   ]
  },
  {
   "cell_type": "markdown",
   "id": "7220b0c0",
   "metadata": {},
   "source": [
    "### QTT representation\n",
    "\n",
    "One can construct a QTT representation of this function on the domain $[0, \\ln 20]$ a quantics grid of size $2^\\mathcal{R}$ where $\\mathcal{R}$ is $40$:\n"
   ]
  },
  {
   "cell_type": "code",
   "execution_count": null,
   "id": "0b861aff",
   "metadata": {},
   "outputs": [],
   "source": [
    "R = 40 # number of bits\n",
    "xmin = 0.0\n",
    "xmax = log(20.)\n",
    "N = 2^R # size of the grid\n",
    "# * Uniform grid (includeendpoint=false, default):\n",
    "#   -xmin, -xmin+dx, ...., -xmin + (2^R-1)*dx\n",
    "#     where dx = (xmax - xmin)/2^R.\n",
    "#   Note that the grid does not include the end point xmin.\n",
    "#\n",
    "# * Uniform grid (includeendpoint=true):\n",
    "#   -xmin, -xmin+dx, ...., xmin-dx, xmin,\n",
    "#     where dx = (xmax - xmin)/(2^R-1).\n",
    "qgrid = QG.DiscretizedGrid{1}(R, xmin, xmax; includeendpoint=false)\n",
    "ci, ranks, errors = quanticscrossinterpolate(Float64, f, qgrid; maxbonddim=15)"
   ]
  },
  {
   "cell_type": "markdown",
   "id": "aace933e",
   "metadata": {},
   "source": [
    "Here, we've created `ci` which is an object of `QuanticsTensorCI2{Float64}` in `QuanticsTCI.jl`. This can be evaluated at an linear index $i$ ($1 \\le i \\le 2^\\mathcal{R}$) as follows:\n"
   ]
  },
  {
   "cell_type": "code",
   "execution_count": null,
   "id": "d767225d",
   "metadata": {},
   "outputs": [],
   "source": [
    "for i in [1, 2, 3, 2^R] # Linear indices\n",
    "    # restore original coordinate `x` from linear index `i`\n",
    "    x = QG.grididx_to_origcoord(qgrid, i)\n",
    "    println(\"x: $(x), i: $(i), tci: $(ci(i)), ref: $(f(x))\")\n",
    "end"
   ]
  },
  {
   "cell_type": "markdown",
   "id": "de41ba11",
   "metadata": {},
   "source": [
    "We see that `ci(i)` approximates the original `f` at `x = QG.grididx_to_origcoord(qgrid, i)`. Let's plot them together.\n"
   ]
  },
  {
   "cell_type": "code",
   "execution_count": null,
   "id": "71f372b0",
   "metadata": {},
   "outputs": [],
   "source": [
    "xs = LinRange(0, 2.0^(-23), 1000)\n",
    "ys = f.(xs)\n",
    "\n",
    "yci = map(xs) do x\n",
    "    # Convert a coordinate in the original coordinate system to the corresponding grid index\n",
    "    i = QG.origcoord_to_grididx(qgrid, x)\n",
    "    ci(i)\n",
    "end\n",
    "\n",
    "fig, ax = plt.subplots()\n",
    "ax.plot(xs, ys, label=\"$(nameof(f))\")\n",
    "ax.plot(xs, yci, label=\"tci\", linestyle=\"dashed\", alpha=0.7)\n",
    "ax.set_title(\"$(nameof(f)) and TCI\")\n",
    "ax.set_xlabel(\"x\")\n",
    "ax.set_ylabel(\"y\")\n",
    "ax.legend()\n",
    "_display(fig)"
   ]
  },
  {
   "cell_type": "markdown",
   "id": "7456e7d9",
   "metadata": {},
   "source": [
    "Above, one can see that the original function is interpolated very accurately.\n",
    "\n",
    "Let's plot of $x$ vs interpolation error $\\log(|f(x) - \\mathrm{ci}(x)|)$ for small $x$\n"
   ]
  },
  {
   "cell_type": "code",
   "execution_count": null,
   "id": "7dfb25dc",
   "metadata": {},
   "outputs": [],
   "source": [
    "fig, ax = plt.subplots()\n",
    "\n",
    "xs = LinRange(0, 2.0^(-23), 1000)\n",
    "ys = f.(xs)\n",
    "yci = map(xs) do x\n",
    "    # Convert a coordinate in the original coordinate system to the corresponding grid index\n",
    "    i = QG.origcoord_to_grididx(qgrid, x)\n",
    "    ci(i)\n",
    "end\n",
    "\n",
    "ax.plot(xs, log.(abs.(ys .- yci)), label=\"log(|f(x) - ci(x)|)\")\n",
    "\n",
    "ax.set_title(\"x vs interpolation error: $(nameof(f))\")\n",
    "ax.set_xlabel(\"x\")\n",
    "ax.set_ylabel(\"interpolation error\")\n",
    "ax.legend()\n",
    "_display(fig)"
   ]
  },
  {
   "cell_type": "markdown",
   "id": "c21ad7c6",
   "metadata": {},
   "source": [
    "We are now ready to compute the integral $\\mathrm{I}[f] = \\int_0^{\\ln 20} \\mathrm{d}x f(x) \\simeq 19/10$ using the QTT representation of $f(x)$."
   ]
  },
  {
   "cell_type": "code",
   "execution_count": null,
   "id": "42888f8f",
   "metadata": {},
   "outputs": [],
   "source": [
    "integral(ci), 19/10"
   ]
  },
  {
   "cell_type": "markdown",
   "id": "4ab9e3c0",
   "metadata": {},
   "source": [
    "`integral(ci)` is equivalent to calling `QuanticsTCI.sum(ci)` and multiplying the result by the interval length divided by $2^\\mathcal{R}$."
   ]
  },
  {
   "cell_type": "code",
   "execution_count": null,
   "id": "73ea6528",
   "metadata": {},
   "outputs": [],
   "source": [
    "QuanticsTCI.sum(ci) * (log(20) - 0) / 2^R, 19/10"
   ]
  },
  {
   "cell_type": "markdown",
   "id": "f22c65d7",
   "metadata": {},
   "source": [
    "### About `ci::QuanticsTensorCI2{Float64}`\n",
    "\n",
    "Let's dive into the `ci` object:\n"
   ]
  },
  {
   "cell_type": "code",
   "execution_count": null,
   "id": "6555f9e4",
   "metadata": {},
   "outputs": [],
   "source": [
    "println(typeof(ci))"
   ]
  },
  {
   "cell_type": "markdown",
   "id": "8d3a6ff0",
   "metadata": {},
   "source": [
    "As we've seen before, `ci` is an object of `QuanticsTensorCI2{Float64}` in `QuanticsTCI.jl`, which is a thin wrapper of `TensorCI2{Float64}` in `TensorCrossInterpolation.jl`.\n",
    "The undering object of `TensorCI2{Float64}` type can be accessed as `ci.tci`. This will be useful for obtaining more detailed information on the TCI results.\n",
    "\n",
    "For instance, `ci.tci.maxsamplevalue` is an estimate of the abosolute maximum value of the function, and `ci.tci.pivoterrors` stores the error as function of the bond dimension computed by prrLU.\n",
    "In the following figure, we plot the normalized error vs. bond dimension, showing an exponential decay.\n"
   ]
  },
  {
   "cell_type": "code",
   "execution_count": null,
   "id": "774a156c",
   "metadata": {},
   "outputs": [],
   "source": [
    "# Plot error vs bond dimension obtained by prrLU\n",
    "fig, ax = plt.subplots()\n",
    "ax.plot(ci.tci.pivoterrors ./ ci.tci.maxsamplevalue, marker=\"x\")\n",
    "ax.set_xlabel(\"Bond dimension\")\n",
    "ax.set_ylabel(\"Normalization error\")\n",
    "ax.set_title(\"normalized error vs. bond dimension: $(nameof(f))\")\n",
    "ax.set_yscale(\"log\")\n",
    "_display(fig)"
   ]
  },
  {
   "cell_type": "markdown",
   "id": "ae101d20",
   "metadata": {},
   "source": [
    "### Function evaluations\n",
    "\n",
    "Our TCI algorithm does not call elements of the entire tensor, but constructs the TT (Tensor Train) from some elements chosen adaptively. On which points $x \\in [0, 3]$ was the function evaluated to construct a QTT representation of the function $f(x)$? Let's find out. One can retrieve the information on the function evaluations as follows.\n"
   ]
  },
  {
   "cell_type": "code",
   "execution_count": null,
   "id": "8000eea9",
   "metadata": {},
   "outputs": [],
   "source": [
    "import QuanticsTCI\n",
    "# Dict{Float64,Float64}\n",
    "# key: `x`\n",
    "# value: function value at `x`\n",
    "evaluated = QuanticsTCI.cachedata(ci)"
   ]
  },
  {
   "cell_type": "markdown",
   "id": "4953ca08",
   "metadata": {},
   "source": [
    "Let's plot `f` and the evaluated points together.\n"
   ]
  },
  {
   "cell_type": "code",
   "execution_count": null,
   "id": "6a0baeb5",
   "metadata": {},
   "outputs": [],
   "source": [
    "f̂(x) = ci(QG.origcoord_to_quantics(qgrid, x))\n",
    "xs = LinRange(0, 2.0^(-23), 1000)\n",
    "\n",
    "xs_evaluated = collect(keys(evaluated))\n",
    "fs_evaluated = [evaluated[x] for x in xs_evaluated]\n",
    "\n",
    "fig, ax = plt.subplots()\n",
    "ax.plot(xs, f.(xs), label=\"$(nameof(f))\")\n",
    "ax.scatter(xs_evaluated, fs_evaluated, marker=\"x\", label=\"evaluated points\")\n",
    "ax.set_title(\"$(nameof(f)) and TCI\")\n",
    "ax.set_xlabel(\"x\")\n",
    "ax.set_ylabel(\"y\")\n",
    "ax.set_xlim(0, maximum(xs))\n",
    "ax.legend()\n",
    "_display(fig)"
   ]
  },
  {
   "cell_type": "markdown",
   "id": "0d0109da",
   "metadata": {},
   "source": [
    "## Example 2\n",
    "\n",
    "We now consider the function:\n",
    "\n",
    "$$\n",
    "\\newcommand{\\sinc}{\\mathrm{sinc}}\n",
    "\\begin{align}\n",
    "f(x) &= \\sinc(x)+3e^{-0.3(x-4)^2}\\sinc(x-4) \\nonumber\\\\\n",
    "&\\quad - \\cos(4x)^2-2\\sinc(x+10)e^{-0.6(x+9)} + 4 \\cos(2x) e^{-|x+5|}\\nonumber \\\\\n",
    "&\\quad +\\frac{6}{x-11}+ \\sqrt{(|x|)}\\arctan(x/15).\\nonumber\n",
    "\\end{align}\n",
    "$$\n",
    "\n",
    "One can construct a QTT representation of this function on the domain $[-10, 10]$ using a quantics grid of size $2^\\mathcal{R}$ ($\\mathcal{R}=20$):\n"
   ]
  },
  {
   "cell_type": "code",
   "execution_count": null,
   "id": "e6f34daa",
   "metadata": {},
   "outputs": [],
   "source": [
    "import QuanticsGrids as QG\n",
    "using QuanticsTCI\n",
    "\n",
    "R = 20 # number of bits\n",
    "N = 2^R  # size of the grid\n",
    "\n",
    "qgrid = QG.DiscretizedGrid{1}(R, -10, 10; includeendpoint=false)\n",
    "\n",
    "# Function of interest\n",
    "function oscillation_fn(x)\n",
    "    return (\n",
    "        sinc(x) + 3 * exp(-0.3 * (x - 4)^2) * sinc(x - 4) - cos(4 * x)^2 -\n",
    "        2 * sinc(x + 10) * exp(-0.6 * (x + 9)) + 4 * cos(2 * x) * exp(-abs(x + 5)) +\n",
    "        6 * 1 / (x - 11) + sqrt(abs(x)) * atan(x / 15))\n",
    "end\n",
    "\n",
    "# Convert to quantics format and sweep\n",
    "ci, ranks, errors = quanticscrossinterpolate(Float64, oscillation_fn, qgrid; maxbonddim=15)"
   ]
  },
  {
   "cell_type": "code",
   "execution_count": null,
   "id": "c41a3afb",
   "metadata": {},
   "outputs": [],
   "source": [
    "for i in [1, 2, 2^R] # Linear indices\n",
    "    x = QG.grididx_to_origcoord(qgrid, i)\n",
    "    println(\"x: $(x), tci: $(ci(i)), ref: $(oscillation_fn(x))\")\n",
    "end"
   ]
  },
  {
   "cell_type": "markdown",
   "id": "ccfacc16",
   "metadata": {},
   "source": [
    "Above, one can see that the original function is interpolated very accurately. The function `grididx_to_origcoord` transforms a linear index to a coordinate point $x$ in the original domain ($-10 \\le x < 10$).\n",
    "\n",
    "In the following figure, we plot the normalized error vs. bond dimension, showing an exponential decay.\n"
   ]
  },
  {
   "cell_type": "code",
   "execution_count": null,
   "id": "e6c1c351",
   "metadata": {},
   "outputs": [],
   "source": [
    "# Plot error vs bond dimension obtained by prrLU\n",
    "using PythonPlot: pyplot as plt, gcf\n",
    "\n",
    "fig, ax = plt.subplots()\n",
    "ax.plot(ci.tci.pivoterrors ./ ci.tci.maxsamplevalue, marker=\"x\")\n",
    "ax.set_xlabel(\"Bond dimension\")\n",
    "ax.set_ylabel(\"Normalization error\")\n",
    "ax.set_title(\"normalized error vs. bond dimension\")\n",
    "ax.set_yscale(\"log\")\n",
    "_display(fig)"
   ]
  },
  {
   "cell_type": "markdown",
   "id": "a212211e",
   "metadata": {},
   "source": [
    "## Example 3\n",
    "\n",
    "### Control the error of the TCI by a tolerance\n",
    "\n",
    "We interpolate the same function as in Example 2, but this time we use a tolerance to control the error of the TCI. The tolerance is a positive number that determines the maximum error of the TCI, which is scaled by an estimate of the abosolute maximum of the function.\n",
    "The TCI algorithm will adaptively increase the bond dimension until the error is below the tolerance."
   ]
  },
  {
   "cell_type": "code",
   "execution_count": null,
   "id": "9ac71d58",
   "metadata": {},
   "outputs": [],
   "source": [
    "tol = 1e-8 # Tolerance for the error\n",
    "\n",
    "# Convert to quantics format and sweep\n",
    "ci_tol, ranks_tol, errors_tol = quanticscrossinterpolate(\n",
    "    Float64, oscillation_fn, qgrid;\n",
    "    tolerance=tol,\n",
    "    normalizeerror=true, # Normalize the error by the maximum sample value,\n",
    "    verbosity=1, loginterval=1, # Log the error every `loginterval` iterations\n",
    "    )"
   ]
  },
  {
   "cell_type": "code",
   "execution_count": null,
   "id": "50e74f4f",
   "metadata": {},
   "outputs": [],
   "source": [
    "println(\"Max abs sampled value is $(ci_tol.tci.maxsamplevalue)\")"
   ]
  },
  {
   "cell_type": "code",
   "execution_count": null,
   "id": "d167db13",
   "metadata": {},
   "outputs": [],
   "source": [
    "errors_tol ./ ci_tol.tci.maxsamplevalue"
   ]
  },
  {
   "cell_type": "markdown",
   "id": "242b2cb7",
   "metadata": {},
   "source": [
    "### Estimate the error of the TCI\n",
    "Wait!\n",
    "Since we did not sample the function over the entire domain, we do not know the true error of the TCI.\n",
    "In theory, we can estimate the error of the TCI by comparing the function values at the sampled points with the TCI values at the same points.\n",
    "But, it is not practical to compare the function values with the TCI values at all points in the domain.\n",
    "The function `estimatetrueerror` in `TensorCrossInterpolation.jl` provides a good estimate of the error of the TCI.\n",
    "The algorithm finds indices (points) where the error is large by a randomized global search algorithm starting with a set of random initial points."
   ]
  },
  {
   "cell_type": "code",
   "execution_count": null,
   "id": "cfa3973c",
   "metadata": {},
   "outputs": [],
   "source": [
    "import TensorCrossInterpolation as TCI\n",
    "pivoterror_global = TCI.estimatetrueerror(TCI.TensorTrain(ci.tci), ci.quanticsfunction; nsearch=100) # Results are sorted in descending order of the error"
   ]
  },
  {
   "cell_type": "markdown",
   "id": "7c69e604",
   "metadata": {},
   "source": [
    "Now, you can see the error estimate of the TCI is below the tolerance of $10^{-8}$ (or close to it)."
   ]
  },
  {
   "cell_type": "code",
   "execution_count": null,
   "id": "074f900a",
   "metadata": {},
   "outputs": [],
   "source": [
    "println(\"The largest error found is $(pivoterror_global[1][2]) and the corresponding pivot is $(pivoterror_global[1][1]).\")\n",
    "println(\"The tolenrance used is $(tol * ci_tol.tci.maxsamplevalue).\")"
   ]
  }
 ],
 "metadata": {
  "jupytext": {
   "custom_cell_magics": "kql",
   "encoding": "# -*- coding: utf-8 -*-",
   "formats": "ipynb,jl:percent"
  },
  "kernelspec": {
   "display_name": "Julia 1.10.4",
   "language": "julia",
   "name": "julia-1.10"
  },
  "language_info": {
   "file_extension": ".jl",
   "mimetype": "application/julia",
   "name": "julia",
   "version": "1.10.4"
  }
 },
 "nbformat": 4,
 "nbformat_minor": 5
}