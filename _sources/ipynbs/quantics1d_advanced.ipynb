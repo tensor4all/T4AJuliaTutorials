{
 "cells": [
  {
   "cell_type": "markdown",
   "id": "5c4b5620",
   "metadata": {},
   "source": [
    "Click [here](https://tensor4all.org/T4AJuliaTutorials/_sources/ipynbs/quantics1d_advanced.ipynb) to download the notebook locally.\n"
   ]
  },
  {
   "cell_type": "markdown",
   "id": "d863c871",
   "metadata": {},
   "source": [
    "# Quantics TCI of univariate funciton (advanced topics)\n"
   ]
  },
  {
   "cell_type": "code",
   "execution_count": 1,
   "id": "ec201e43",
   "metadata": {},
   "outputs": [
    {
     "ename": "LoadError",
     "evalue": "InitError: Python: AttributeError: module 'matplotlib.cm' has no attribute 'get_cmap'\nduring initialization of module PythonPlot",
     "output_type": "error",
     "traceback": [
      "InitError: Python: AttributeError: module 'matplotlib.cm' has no attribute 'get_cmap'\nduring initialization of module PythonPlot",
      "",
      "Stacktrace:",
      "  [1] pythrow()",
      "    @ PythonCall.Core ~/.julia/packages/PythonCall/S5MOg/src/Core/err.jl:92",
      "  [2] errcheck",
      "    @ ~/.julia/packages/PythonCall/S5MOg/src/Core/err.jl:10 [inlined]",
      "  [3] pygetattr(x::PythonCall.Core.Py, k::String)",
      "    @ PythonCall.Core ~/.julia/packages/PythonCall/S5MOg/src/Core/builtins.jl:62",
      "  [4] getproperty",
      "    @ ~/.julia/packages/PythonCall/S5MOg/src/Core/Py.jl:257 [inlined]",
      "  [5] init_colormaps()",
      "    @ PythonPlot ~/.julia/packages/PythonPlot/f591M/src/colormaps.jl:51",
      "  [6] __init__()",
      "    @ PythonPlot ~/.julia/packages/PythonPlot/f591M/src/init.jl:179",
      "  [7] run_module_init(mod::Module, i::Int64)",
      "    @ Base ./loading.jl:1134",
      "  [8] register_restored_modules(sv::Core.SimpleVector, pkg::Base.PkgId, path::String)",
      "    @ Base ./loading.jl:1122",
      "  [9] _include_from_serialized(pkg::Base.PkgId, path::String, ocachepath::String, depmods::Vector{Any})",
      "    @ Base ./loading.jl:1067",
      " [10] _require_search_from_serialized(pkg::Base.PkgId, sourcepath::String, build_id::UInt128)",
      "    @ Base ./loading.jl:1581",
      " [11] _require(pkg::Base.PkgId, env::String)",
      "    @ Base ./loading.jl:1938",
      " [12] __require_prelocked(uuidkey::Base.PkgId, env::String)",
      "    @ Base ./loading.jl:1812",
      " [13] #invoke_in_world#3",
      "    @ ./essentials.jl:926 [inlined]",
      " [14] invoke_in_world",
      "    @ ./essentials.jl:923 [inlined]",
      " [15] _require_prelocked(uuidkey::Base.PkgId, env::String)",
      "    @ Base ./loading.jl:1803",
      " [16] macro expansion",
      "    @ ./loading.jl:1790 [inlined]",
      " [17] macro expansion",
      "    @ ./lock.jl:267 [inlined]",
      " [18] __require(into::Module, mod::Symbol)",
      "    @ Base ./loading.jl:1753",
      " [19] #invoke_in_world#3",
      "    @ ./essentials.jl:926 [inlined]",
      " [20] invoke_in_world",
      "    @ ./essentials.jl:923 [inlined]",
      " [21] require(into::Module, mod::Symbol)",
      "    @ Base ./loading.jl:1746"
     ]
    }
   ],
   "source": [
    "using PythonCall: PythonCall\n",
    "using PythonPlot: pyplot as plt, Figure\n",
    "\n",
    "# Displays the matplotlib figure object `fig` and avoids duplicate plots.\n",
    "_display(fig::Figure) = isinteractive() ? (fig; plt.show(); nothing) : Base.display(fig)\n",
    "_display(fig::PythonCall.Py) = _display(Figure(fig))\n",
    "\n",
    "import QuanticsGrids as QG\n",
    "import TensorCrossInterpolation as TCI"
   ]
  },
  {
   "cell_type": "markdown",
   "id": "9908a15b",
   "metadata": {},
   "source": [
    "## Example 1 (continuation)\n",
    "\n",
    "### Performance tips\n",
    "\n",
    "Let's recall again the function $f(x)$ from the [previous page](./quantics1d.ipynb).\n",
    "\n",
    "$$\n",
    "f(x) = \\cos\\left(\\frac{x}{B}\\right) \\cos\\left(\\frac{x}{4\\sqrt{5}B}\\right) e^{-x^2} + 2e^{-x},\n",
    "$$\n",
    "\n",
    "where $B = 2^{-30}$.\n",
    "\n",
    "In the [previous page](./quantics1d.ipynb), we implemented $f(x)$ as\n"
   ]
  },
  {
   "cell_type": "markdown",
   "id": "39db2b15",
   "metadata": {},
   "source": [
    "```julia\n",
    "B = 2^(-30) # global variable\n",
    "# This is simple, but not recommended\n",
    "function f(x)\n",
    "    return cos(x/B) * cos(x/(4*sqrt(5)*B)) * exp(-x^2) + 2 * exp(-x)\n",
    "end\n",
    "```\n"
   ]
  },
  {
   "cell_type": "markdown",
   "id": "bd927191",
   "metadata": {},
   "source": [
    "However, since the implementation treats `B` as a untyped global variables, Julia compiler won't generate efficient code. See [Performance tips](https://docs.julialang.org/en/v1/manual/performance-tips/#Avoid-untyped-global-variables) at the official Julia documentatoin to learn more. In Julia, this can be written as below:\n"
   ]
  },
  {
   "cell_type": "code",
   "execution_count": null,
   "id": "8578bb14",
   "metadata": {},
   "outputs": [],
   "source": [
    "# Define callable struct\n",
    "Base.@kwdef struct Ritter2024 <: Function\n",
    "    B::Float64 = 2^(-30)\n",
    "end\n",
    "\n",
    "# Make Ritter2024 be \"callable\" object.\n",
    "function (obj::Ritter2024)(x)\n",
    "    B = obj.B\n",
    "    return cos(x / B) * cos(x / (4 * sqrt(5) * B)) * exp(-x^2) + 2 * exp(-x)\n",
    "end\n",
    "\n",
    "f = Ritter2024()\n",
    "nothing # hide"
   ]
  },
  {
   "cell_type": "markdown",
   "id": "9c2808be",
   "metadata": {},
   "source": [
    "Such \"callable\" objects are sometimes called \"functors.\" See [Function like objects](https://docs.julialang.org/en/v1/manual/methods/#Function-like-objects) at the official Julia documentation to learn more.\n"
   ]
  },
  {
   "cell_type": "markdown",
   "id": "c870bc5c",
   "metadata": {},
   "source": [
    "### The inside work of `quanticscrossinterpolate`\n",
    "\n",
    "Let us see the inside work of the `quanticscrossinterpolate` function in `QuanticsTCI.jl` by implementing the previous example using `QuanticsGrids.jl` and `TensorCrossInterpolation.jl`.\n",
    "\n",
    "We first define a grid as in the previous example:\n"
   ]
  },
  {
   "cell_type": "code",
   "execution_count": null,
   "id": "d39d29af",
   "metadata": {},
   "outputs": [],
   "source": [
    "import QuanticsGrids as QG\n",
    "using PythonPlot: pyplot as plt, gcf\n",
    "\n",
    "R = 40 # number of bits\n",
    "xmin = 0.0\n",
    "xmax = log(20)\n",
    "qgrid = QG.DiscretizedGrid{1}(R, xmin, xmax; includeendpoint=false)"
   ]
  },
  {
   "cell_type": "markdown",
   "id": "c6fd0242",
   "metadata": {},
   "source": [
    "We now define a function that takes a quantics index, which is named `qf`.\n"
   ]
  },
  {
   "cell_type": "code",
   "execution_count": null,
   "id": "add201e8",
   "metadata": {},
   "outputs": [],
   "source": [
    "localdims = fill(2, R) # Sizes of local indices\n",
    "qf(q) = f(QG.quantics_to_origcoord(qgrid, q))\n",
    "cf = TCI.CachedFunction{Float64}(qf, localdims)"
   ]
  },
  {
   "cell_type": "markdown",
   "id": "cb96061e",
   "metadata": {},
   "source": [
    "Here, we've defined a function `qf` that accepts quantics `q` as an argument. Then we wrap `qf` using `TCI.CachedFunction`.\n",
    "The function `QuanticsGrids.quantics_to_origcoord` converts a quantics index to a point (in this example, of type Float64) in the original coordinate system.\n",
    "`TCI.CachedFunction` caches function evaluations;\n",
    "`cf` caches the pair of input and output that are used during constructing a QTT representation.\n",
    "This is useful if a function evaluation takes more than 100 ns or if you want to record function evaluations.\n",
    "\n",
    "Choosing good initial pivots is critical for numerical stability.\n",
    "In the following code, we generate initial pivots by finding local maxima of $|f(x)|$. The function `optfirstpivot` maximizes the given function `qf` using single-index updates (zero-temperature Monte Calro).\n"
   ]
  },
  {
   "cell_type": "code",
   "execution_count": null,
   "id": "435d6345",
   "metadata": {},
   "outputs": [],
   "source": [
    "nrandominitpivot = 5\n",
    "\n",
    "# random initial pivot\n",
    "initialpivots = [\n",
    "        TCI.optfirstpivot(qf, localdims, [rand(1:d) for d in localdims]) for _ in 1:nrandominitpivot\n",
    "]\n",
    "\n",
    "qf.(initialpivots) # Function values at initial pivots"
   ]
  },
  {
   "cell_type": "markdown",
   "id": "5a19f4f7",
   "metadata": {},
   "source": [
    "We are ready to construct a QTT representation of `cf` via `TCI.crossinterpolate2`:\n"
   ]
  },
  {
   "cell_type": "code",
   "execution_count": null,
   "id": "6ebf31d4",
   "metadata": {},
   "outputs": [],
   "source": [
    "ci, ranks, errors = TCI.crossinterpolate2(Float64, cf, localdims, initialpivots; maxbonddim=15)"
   ]
  },
  {
   "cell_type": "markdown",
   "id": "ab545caa",
   "metadata": {},
   "source": [
    "The integral of $f(x)$ can be computed by summing all the elements in the QTT representation and multiplying by the interval length divided by $2^\\mathcal{R}$."
   ]
  },
  {
   "cell_type": "code",
   "execution_count": null,
   "id": "a0a6c541",
   "metadata": {},
   "outputs": [],
   "source": [
    "TCI.sum(ci) * (log(20) - 0) / 2^R, 19/10"
   ]
  },
  {
   "cell_type": "markdown",
   "id": "3398cd4c",
   "metadata": {},
   "source": [
    "You can retrieve the results of the function evaluations during the TCI construction as follows.\n"
   ]
  },
  {
   "cell_type": "code",
   "execution_count": null,
   "id": "97a481cb",
   "metadata": {},
   "outputs": [],
   "source": [
    "cache = TCI.cachedata(cf) # Dict{Vector{Int},Float64}\n",
    "\n",
    "_qs = collect(keys(cache)) # quantics indices\n",
    "_xs = QG.quantics_to_origcoord.(Ref(qgrid), _qs) # original coordinates\n",
    "xs_evaluated = sort(_xs);"
   ]
  },
  {
   "cell_type": "markdown",
   "id": "8516976b",
   "metadata": {},
   "source": [
    "The object `xs_evaluated` stores points what we wanted to know.\n",
    "\n",
    "We expect `ci::TensorCrossInterpolation.TensorCI2{Float64}` approximates `cf`(and `f`):\n",
    "Just in case, we will check `qf` approximates `f` and `qf` and `cf` functions output the same result:\n"
   ]
  },
  {
   "cell_type": "code",
   "execution_count": null,
   "id": "ee223cfd",
   "metadata": {},
   "outputs": [],
   "source": [
    "x = 0.2\n",
    "# convert `x` in the original coordinate system to the corresponding `q` of quantics\n",
    "q = QG.origcoord_to_quantics(qgrid, x)\n",
    "println(\"f(x) = $(f(x)), qf(q) = $(qf(q)), cf(q) = $(cf(q)), ci(q) = $(ci(q))\")"
   ]
  },
  {
   "cell_type": "code",
   "execution_count": null,
   "id": "bf7544ce",
   "metadata": {},
   "outputs": [],
   "source": [
    "@show length(TCI.cachedata(cf))"
   ]
  }
 ],
 "metadata": {
  "jupytext": {
   "custom_cell_magics": "kql",
   "formats": "ipynb,jl:percent"
  },
  "kernelspec": {
   "display_name": "Julia 1.10.4",
   "language": "julia",
   "name": "julia-1.10"
  },
  "language_info": {
   "file_extension": ".jl",
   "mimetype": "application/julia",
   "name": "julia",
   "version": "1.10.4"
  }
 },
 "nbformat": 4,
 "nbformat_minor": 5
}