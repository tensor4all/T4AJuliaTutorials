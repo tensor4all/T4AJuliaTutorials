{
 "cells": [
  {
   "cell_type": "markdown",
   "id": "45398b43",
   "metadata": {},
   "source": [
    "Click [here](https://gitlab.com/api/v4/projects/56283350/jobs/artifacts/main/raw/notebooks/quantics1d_advanced.ipynb?job=pages) to download the notebook locally.\n"
   ]
  },
  {
   "cell_type": "markdown",
   "id": "c134f6e1",
   "metadata": {},
   "source": [
    "# Quantics TCI of univariate funciton (advanced topics)\n"
   ]
  },
  {
   "cell_type": "code",
   "execution_count": 1,
   "id": "6d7359c9",
   "metadata": {},
   "outputs": [],
   "source": [
    "using PythonCall: PythonCall\n",
    "using PythonPlot: pyplot as plt, Figure\n",
    "\n",
    "# Displays the matplotlib figure object `fig` and avoids duplicate plots.\n",
    "_display(fig::Figure) = isinteractive() ? (fig; plt.show(); nothing) : Base.display(fig)\n",
    "_display(fig::PythonCall.Py) = _display(Figure(fig))\n",
    "\n",
    "import QuanticsGrids as QG\n",
    "import TensorCrossInterpolation as TCI"
   ]
  },
  {
   "cell_type": "markdown",
   "id": "01378db5",
   "metadata": {},
   "source": [
    "## Example 1 (continuation)\n",
    "\n",
    "### Performance tips\n",
    "\n",
    "Let's recall again the function $f(x)$ from the [previous page](quantics1d.md).\n",
    "\n",
    "$$\n",
    "f(x) = \\cos\\left(\\frac{x}{B}\\right) \\cos\\left(\\frac{x}{4\\sqrt{5}B}\\right) e^{-x^2} + 2e^{-x},\n",
    "$$\n",
    "\n",
    "where $B = 2^{-30}$.\n",
    "\n",
    "In the [previous page](quantics1d.md), we implemented $f(x)$ as\n"
   ]
  },
  {
   "cell_type": "markdown",
   "id": "11676885",
   "metadata": {},
   "source": [
    "```julia\n",
    "B = 2^(-30) # global variable\n",
    "# This is simple, but not recommended\n",
    "function f(x)\n",
    "    return cos(x/B) * cos(x/(4*sqrt(5)*B)) * exp(-x^2) + 2 * exp(-x)\n",
    "end\n",
    "```\n"
   ]
  },
  {
   "cell_type": "markdown",
   "id": "91982b08",
   "metadata": {},
   "source": [
    "However, since the implementation treats `B` as a untyped global variables, Julia compiler won't generate efficient code. See [Performance tips](https://docs.julialang.org/en/v1/manual/performance-tips/#Avoid-untyped-global-variables) at the official Julia documentatoin to learn more. In Julia, this can be written as below:\n"
   ]
  },
  {
   "cell_type": "code",
   "execution_count": 2,
   "id": "4188f94f",
   "metadata": {},
   "outputs": [],
   "source": [
    "# Define callable struct\n",
    "Base.@kwdef struct Ritter2024 <: Function\n",
    "    B::Float64 = 2^(-30)\n",
    "end\n",
    "\n",
    "# Make Ritter2024 be \"callable\" object.\n",
    "function (obj::Ritter2024)(x)\n",
    "    B = obj.B\n",
    "    return cos(x / B) * cos(x / (4 * sqrt(5) * B)) * exp(-x^2) + 2 * exp(-x)\n",
    "end\n",
    "\n",
    "f = Ritter2024()\n",
    "nothing # hide"
   ]
  },
  {
   "cell_type": "markdown",
   "id": "92ba5caa",
   "metadata": {},
   "source": [
    "Such \"callable\" objects are sometimes called \"functors.\" See [Function like objects](https://docs.julialang.org/en/v1/manual/methods/#Function-like-objects) at the official Julia documentation to learn more.\n"
   ]
  },
  {
   "cell_type": "markdown",
   "id": "dcd122b8",
   "metadata": {},
   "source": [
    "### The inside work of `quanticscrossinterpolate`\n",
    "\n",
    "Let us see the inside work of the `quanticscrossinterpolate` function in `QuanticsTCI.jl` by implementing the previous example using `QuanticsGrids.jl` and `TensorCrossInterpolation.jl`.\n",
    "\n",
    "We first define a grid as in the previous example:\n"
   ]
  },
  {
   "cell_type": "code",
   "execution_count": 3,
   "id": "30f24baa",
   "metadata": {},
   "outputs": [
    {
     "data": {
      "text/plain": [
       "QuanticsGrids.DiscretizedGrid{1}(40, (0.0,), (3.0,), 2, :fused, false)"
      ]
     },
     "execution_count": 3,
     "metadata": {},
     "output_type": "execute_result"
    }
   ],
   "source": [
    "import QuanticsGrids as QG\n",
    "using PythonPlot: pyplot as plt, gcf\n",
    "\n",
    "R = 40 # number of bits\n",
    "xmin = 0.0\n",
    "xmax = 3.0\n",
    "qgrid = QG.DiscretizedGrid{1}(R, xmin, xmax; includeendpoint=false)"
   ]
  },
  {
   "cell_type": "markdown",
   "id": "0171e3a9",
   "metadata": {},
   "source": [
    "We now define a function that takes a quantics index, which is named `qf`.\n"
   ]
  },
  {
   "cell_type": "code",
   "execution_count": 4,
   "id": "d9d647e3",
   "metadata": {},
   "outputs": [
    {
     "data": {
      "text/plain": [
       "(::TensorCrossInterpolation.CachedFunction{Float64, UInt128}) (generic function with 3 methods)"
      ]
     },
     "execution_count": 4,
     "metadata": {},
     "output_type": "execute_result"
    }
   ],
   "source": [
    "localdims = fill(2, R) # Sizes of local indices\n",
    "qf(q) = f(QG.quantics_to_origcoord(qgrid, q))\n",
    "cf = TCI.CachedFunction{Float64}(qf, localdims)"
   ]
  },
  {
   "cell_type": "markdown",
   "id": "7ba7ff27",
   "metadata": {},
   "source": [
    "Here, we've defined a function `qf` that accepts quantics `q` as an argument. Then we wrap `qf` using `TCI.CachedFunction`.\n",
    "The function `QuanticsGrids.quantics_to_origcoord` converts a quantics index to a point (in this example, of type Float64) in the original coordinate system.\n",
    "`TCI.CachedFunction` caches function evaluations;\n",
    "`cf` caches the pair of input and output that are used during constructing a QTT representation.\n",
    "This is useful if a function evaluation takes more than 100 ns or if you want to record function evaluations.\n",
    "\n",
    "Choosing good initial pivots is critical for numerical stability.\n",
    "In the following code, we generate initial pivots by finding local maxima of $|f(x)|$. The function `optfirstpivot` maximizes the given function `qf` using single-index updates (zero-temperature Monte Calro).\n"
   ]
  },
  {
   "cell_type": "code",
   "execution_count": 5,
   "id": "bf5b076f",
   "metadata": {},
   "outputs": [
    {
     "data": {
      "text/plain": [
       "5-element Vector{Float64}:\n",
       " 2.884605426058245\n",
       " 2.9283756005911874\n",
       " 2.9377898071790294\n",
       " 2.641010550936463\n",
       " 2.539451000210541"
      ]
     },
     "execution_count": 5,
     "metadata": {},
     "output_type": "execute_result"
    }
   ],
   "source": [
    "nrandominitpivot = 5\n",
    "\n",
    "# random initial pivot\n",
    "initialpivots = [\n",
    "        TCI.optfirstpivot(qf, localdims, [rand(1:d) for d in localdims]) for _ in 1:nrandominitpivot\n",
    "]\n",
    "\n",
    "qf.(initialpivots) # Function values at initial pivots"
   ]
  },
  {
   "cell_type": "markdown",
   "id": "5e8d1469",
   "metadata": {},
   "source": [
    "We are ready to construct a QTT representation of `cf` via `TCI.crossinterpolate2`:\n"
   ]
  },
  {
   "cell_type": "code",
   "execution_count": 6,
   "id": "b1b1d1d3",
   "metadata": {},
   "outputs": [
    {
     "data": {
      "text/plain": [
       "(TensorCrossInterpolation.TensorCI2{Float64} with rank 15, [20, 19, 20], [4.284590152270212e-7, 6.924776856057147e-7, 6.924776856057147e-7])"
      ]
     },
     "execution_count": 6,
     "metadata": {},
     "output_type": "execute_result"
    }
   ],
   "source": [
    "ci, ranks, errors = TCI.crossinterpolate2(Float64, cf, localdims, initialpivots; maxbonddim=15)"
   ]
  },
  {
   "cell_type": "markdown",
   "id": "c2c297ce",
   "metadata": {},
   "source": [
    "You can retrieve the results of the function evaluations during the TCI construction as follows.\n"
   ]
  },
  {
   "cell_type": "code",
   "execution_count": 7,
   "id": "699b69ce",
   "metadata": {},
   "outputs": [],
   "source": [
    "cache = TCI.cachedata(cf) # Dict{Vector{Int},Float64}\n",
    "\n",
    "_qs = collect(keys(cache)) # quantics indices\n",
    "_xs = QG.quantics_to_origcoord.(Ref(qgrid), _qs) # original coordinates\n",
    "xs_evaluated = sort(_xs);"
   ]
  },
  {
   "cell_type": "markdown",
   "id": "47eade2b",
   "metadata": {},
   "source": [
    "The object `xs_evaluated` stores points what we wanted to know.\n",
    "\n",
    "We expect `ci::TensorCrossInterpolation.TensorCI2{Float64}` approximates `cf`(and `f`):\n",
    "Just in case, we will check `qf` approximates `f` and `qf` and `cf` functions output the same result:\n"
   ]
  },
  {
   "cell_type": "code",
   "execution_count": 8,
   "id": "0fcf8929",
   "metadata": {},
   "outputs": [
    {
     "name": "stdout",
     "output_type": "stream",
     "text": [
      "f(x) = 1.7990930849034745, qf(q) = 1.798922004478571, cf(q) = 1.798922004478571, ci(q) = 1.7989220052873152\n"
     ]
    }
   ],
   "source": [
    "x = 0.2\n",
    "# convert `x` in the original coordinate system to the corresponding `q` of quantics\n",
    "q = QG.origcoord_to_quantics(qgrid, x)\n",
    "println(\"f(x) = $(f(x)), qf(q) = $(qf(q)), cf(q) = $(cf(q)), ci(q) = $(ci(q))\")"
   ]
  }
 ],
 "metadata": {
  "jupytext": {
   "custom_cell_magics": "kql",
   "formats": "ipynb,jl:percent"
  },
  "kernelspec": {
   "display_name": "Julia 1.10.3",
   "language": "julia",
   "name": "julia-1.10"
  },
  "language_info": {
   "file_extension": ".jl",
   "mimetype": "application/julia",
   "name": "julia",
   "version": "1.10.3"
  }
 },
 "nbformat": 4,
 "nbformat_minor": 5
}