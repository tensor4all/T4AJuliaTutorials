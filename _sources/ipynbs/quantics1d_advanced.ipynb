{
 "cells": [
  {
   "cell_type": "markdown",
   "id": "a457751d",
   "metadata": {},
   "source": [
    "Click [here](https://tensor4all.org/T4AJuliaTutorials/_sources/ipynbs/quantics1d_advanced.ipynb) to download the notebook locally.\n"
   ]
  },
  {
   "cell_type": "markdown",
   "id": "d4ce3cde",
   "metadata": {},
   "source": [
    "# Quantics TCI of univariate funciton (advanced topics)\n"
   ]
  },
  {
   "cell_type": "code",
   "execution_count": 1,
   "id": "2e325c60",
   "metadata": {},
   "outputs": [],
   "source": [
    "using PythonCall: PythonCall\n",
    "using PythonPlot: pyplot as plt, Figure\n",
    "\n",
    "# Displays the matplotlib figure object `fig` and avoids duplicate plots.\n",
    "_display(fig::Figure) = isinteractive() ? (fig; plt.show(); nothing) : Base.display(fig)\n",
    "_display(fig::PythonCall.Py) = _display(Figure(fig))\n",
    "\n",
    "import QuanticsGrids as QG\n",
    "import TensorCrossInterpolation as TCI"
   ]
  },
  {
   "cell_type": "markdown",
   "id": "25de31c9",
   "metadata": {},
   "source": [
    "## Example 1 (continuation)\n",
    "\n",
    "### Performance tips\n",
    "\n",
    "Let's recall again the function $f(x)$ from the [previous page](./quantics1d.ipynb).\n",
    "\n",
    "$$\n",
    "f(x) = \\cos\\left(\\frac{x}{B}\\right) \\cos\\left(\\frac{x}{4\\sqrt{5}B}\\right) e^{-x^2} + 2e^{-x},\n",
    "$$\n",
    "\n",
    "where $B = 2^{-30}$.\n",
    "\n",
    "In the [previous page](./quantics1d.ipynb), we implemented $f(x)$ as\n"
   ]
  },
  {
   "cell_type": "markdown",
   "id": "c7b281be",
   "metadata": {},
   "source": [
    "```julia\n",
    "B = 2^(-30) # global variable\n",
    "# This is simple, but not recommended\n",
    "function f(x)\n",
    "    return cos(x/B) * cos(x/(4*sqrt(5)*B)) * exp(-x^2) + 2 * exp(-x)\n",
    "end\n",
    "```\n"
   ]
  },
  {
   "cell_type": "markdown",
   "id": "a780d000",
   "metadata": {},
   "source": [
    "However, since the implementation treats `B` as a untyped global variables, Julia compiler won't generate efficient code. See [Performance tips](https://docs.julialang.org/en/v1/manual/performance-tips/#Avoid-untyped-global-variables) at the official Julia documentatoin to learn more. In Julia, this can be written as below:\n"
   ]
  },
  {
   "cell_type": "code",
   "execution_count": 2,
   "id": "d766eab3",
   "metadata": {},
   "outputs": [],
   "source": [
    "# Define callable struct\n",
    "Base.@kwdef struct Ritter2024 <: Function\n",
    "    B::Float64 = 2^(-30)\n",
    "end\n",
    "\n",
    "# Make Ritter2024 be \"callable\" object.\n",
    "function (obj::Ritter2024)(x)\n",
    "    B = obj.B\n",
    "    return cos(x / B) * cos(x / (4 * sqrt(5) * B)) * exp(-x^2) + 2 * exp(-x)\n",
    "end\n",
    "\n",
    "f = Ritter2024()\n",
    "nothing # hide"
   ]
  },
  {
   "cell_type": "markdown",
   "id": "c6f7d1b1",
   "metadata": {},
   "source": [
    "Such \"callable\" objects are sometimes called \"functors.\" See [Function like objects](https://docs.julialang.org/en/v1/manual/methods/#Function-like-objects) at the official Julia documentation to learn more.\n"
   ]
  },
  {
   "cell_type": "markdown",
   "id": "6dc39bdd",
   "metadata": {},
   "source": [
    "### The inside work of `quanticscrossinterpolate`\n",
    "\n",
    "Let us see the inside work of the `quanticscrossinterpolate` function in `QuanticsTCI.jl` by implementing the previous example using `QuanticsGrids.jl` and `TensorCrossInterpolation.jl`.\n",
    "\n",
    "We first define a grid as in the previous example:\n"
   ]
  },
  {
   "cell_type": "code",
   "execution_count": 3,
   "id": "a7fb079f",
   "metadata": {},
   "outputs": [
    {
     "data": {
      "text/plain": [
       "QuanticsGrids.DiscretizedGrid{1}(40, (0.0,), (2.995732273553991,), 2, :fused, false)"
      ]
     },
     "execution_count": 3,
     "metadata": {},
     "output_type": "execute_result"
    }
   ],
   "source": [
    "import QuanticsGrids as QG\n",
    "using PythonPlot: pyplot as plt, gcf\n",
    "\n",
    "R = 40 # number of bits\n",
    "xmin = 0.0\n",
    "xmax = log(20)\n",
    "qgrid = QG.DiscretizedGrid{1}(R, xmin, xmax; includeendpoint=false)"
   ]
  },
  {
   "cell_type": "markdown",
   "id": "2dc6ee1d",
   "metadata": {},
   "source": [
    "We now define a function that takes a quantics index, which is named `qf`.\n"
   ]
  },
  {
   "cell_type": "code",
   "execution_count": 4,
   "id": "86b21b0b",
   "metadata": {},
   "outputs": [
    {
     "data": {
      "text/plain": [
       "(::TensorCrossInterpolation.CachedFunction{Float64, UInt128}) (generic function with 3 methods)"
      ]
     },
     "execution_count": 4,
     "metadata": {},
     "output_type": "execute_result"
    }
   ],
   "source": [
    "localdims = fill(2, R) # Sizes of local indices\n",
    "qf(q) = f(QG.quantics_to_origcoord(qgrid, q))\n",
    "cf = TCI.CachedFunction{Float64}(qf, localdims)"
   ]
  },
  {
   "cell_type": "markdown",
   "id": "6b7cedc7",
   "metadata": {},
   "source": [
    "Here, we've defined a function `qf` that accepts quantics `q` as an argument. Then we wrap `qf` using `TCI.CachedFunction`.\n",
    "The function `QuanticsGrids.quantics_to_origcoord` converts a quantics index to a point (in this example, of type Float64) in the original coordinate system.\n",
    "`TCI.CachedFunction` caches function evaluations;\n",
    "`cf` caches the pair of input and output that are used during constructing a QTT representation.\n",
    "This is useful if a function evaluation takes more than 100 ns or if you want to record function evaluations.\n",
    "\n",
    "Choosing good initial pivots is critical for numerical stability.\n",
    "In the following code, we generate initial pivots by finding local maxima of $|f(x)|$. The function `optfirstpivot` maximizes the given function `qf` using single-index updates (zero-temperature Monte Calro).\n"
   ]
  },
  {
   "cell_type": "code",
   "execution_count": 5,
   "id": "fe1c4ddc",
   "metadata": {},
   "outputs": [
    {
     "data": {
      "text/plain": [
       "5-element Vector{Float64}:\n",
       " 2.9020949178829003\n",
       " 2.721942910579383\n",
       " 2.777491747322593\n",
       " 2.571559824185339\n",
       " 2.9239070964516807"
      ]
     },
     "execution_count": 5,
     "metadata": {},
     "output_type": "execute_result"
    }
   ],
   "source": [
    "nrandominitpivot = 5\n",
    "\n",
    "# random initial pivot\n",
    "initialpivots = [\n",
    "        TCI.optfirstpivot(qf, localdims, [rand(1:d) for d in localdims]) for _ in 1:nrandominitpivot\n",
    "]\n",
    "\n",
    "qf.(initialpivots) # Function values at initial pivots"
   ]
  },
  {
   "cell_type": "markdown",
   "id": "91ea104d",
   "metadata": {},
   "source": [
    "We are ready to construct a QTT representation of `cf` via `TCI.crossinterpolate2`:\n"
   ]
  },
  {
   "cell_type": "code",
   "execution_count": 6,
   "id": "57bc786d",
   "metadata": {},
   "outputs": [
    {
     "data": {
      "text/plain": [
       "(TensorCrossInterpolation.TensorCI2{Float64} with rank 15, [18, 15, 15], [2.672199525930981e-8, 4.112298604771157e-8, 4.1087449798077973e-8])"
      ]
     },
     "execution_count": 6,
     "metadata": {},
     "output_type": "execute_result"
    }
   ],
   "source": [
    "ci, ranks, errors = TCI.crossinterpolate2(Float64, cf, localdims, initialpivots; maxbonddim=15)"
   ]
  },
  {
   "cell_type": "markdown",
   "id": "7cf9f939",
   "metadata": {},
   "source": [
    "The integral of $f(x)$ can be computed by summing all the elements in the QTT representation and multiplying by the interval length divided by $2^\\mathcal{R}$."
   ]
  },
  {
   "cell_type": "code",
   "execution_count": 7,
   "id": "67e926d4",
   "metadata": {},
   "outputs": [
    {
     "data": {
      "text/plain": [
       "(1.9000000018123449, 1.9)"
      ]
     },
     "execution_count": 7,
     "metadata": {},
     "output_type": "execute_result"
    }
   ],
   "source": [
    "TCI.sum(ci) * (log(20) - 0) / 2^R, 19/10"
   ]
  },
  {
   "cell_type": "markdown",
   "id": "af663033",
   "metadata": {},
   "source": [
    "You can retrieve the results of the function evaluations during the TCI construction as follows.\n"
   ]
  },
  {
   "cell_type": "code",
   "execution_count": 8,
   "id": "1e9d6a30",
   "metadata": {},
   "outputs": [],
   "source": [
    "cache = TCI.cachedata(cf) # Dict{Vector{Int},Float64}\n",
    "\n",
    "_qs = collect(keys(cache)) # quantics indices\n",
    "_xs = QG.quantics_to_origcoord.(Ref(qgrid), _qs) # original coordinates\n",
    "xs_evaluated = sort(_xs);"
   ]
  },
  {
   "cell_type": "markdown",
   "id": "1cef7631",
   "metadata": {},
   "source": [
    "The object `xs_evaluated` stores points what we wanted to know.\n",
    "\n",
    "We expect `ci::TensorCrossInterpolation.TensorCI2{Float64}` approximates `cf`(and `f`):\n",
    "Just in case, we will check `qf` approximates `f` and `qf` and `cf` functions output the same result:\n"
   ]
  },
  {
   "cell_type": "code",
   "execution_count": 9,
   "id": "b15997a5",
   "metadata": {},
   "outputs": [
    {
     "name": "stdout",
     "output_type": "stream",
     "text": [
      "f(x) = 1.7990930849034745, qf(q) = 1.798322002608539, cf(q) = 1.798322002608539, ci(q) = 1.7983219744902477\n"
     ]
    }
   ],
   "source": [
    "x = 0.2\n",
    "# convert `x` in the original coordinate system to the corresponding `q` of quantics\n",
    "q = QG.origcoord_to_quantics(qgrid, x)\n",
    "println(\"f(x) = $(f(x)), qf(q) = $(qf(q)), cf(q) = $(cf(q)), ci(q) = $(ci(q))\")"
   ]
  },
  {
   "cell_type": "code",
   "execution_count": 10,
   "id": "82b106e1",
   "metadata": {},
   "outputs": [
    {
     "name": "stdout",
     "output_type": "stream",
     "text": [
      "length(TCI.cachedata(cf)) = 57206\n"
     ]
    },
    {
     "data": {
      "text/plain": [
       "57206"
      ]
     },
     "execution_count": 10,
     "metadata": {},
     "output_type": "execute_result"
    }
   ],
   "source": [
    "@show length(TCI.cachedata(cf))"
   ]
  }
 ],
 "metadata": {
  "jupytext": {
   "custom_cell_magics": "kql",
   "formats": "ipynb,jl:percent"
  },
  "kernelspec": {
   "display_name": "Julia 1.10.4",
   "language": "julia",
   "name": "julia-1.10"
  },
  "language_info": {
   "file_extension": ".jl",
   "mimetype": "application/julia",
   "name": "julia",
   "version": "1.10.4"
  }
 },
 "nbformat": 4,
 "nbformat_minor": 5
}