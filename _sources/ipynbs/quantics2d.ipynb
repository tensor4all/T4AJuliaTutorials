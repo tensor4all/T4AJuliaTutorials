{
 "cells": [
  {
   "cell_type": "markdown",
   "id": "a0d6d1e3",
   "metadata": {},
   "source": [
    "Click [here](https://gitlab.com/api/v4/projects/56283350/jobs/artifacts/main/raw/notebooks/quantics2d.ipynb?job=pages) to download the notebook locally.\n"
   ]
  },
  {
   "cell_type": "markdown",
   "id": "74952774",
   "metadata": {},
   "source": [
    "# Quantics TCI of multivariate funciton\n"
   ]
  },
  {
   "cell_type": "code",
   "execution_count": null,
   "id": "a668408c",
   "metadata": {},
   "outputs": [],
   "source": [
    "import TensorCrossInterpolation as TCI\n",
    "import QuanticsGrids: DiscretizedGrid, origcoord_to_quantics, origcoord_to_grididx\n",
    "using QuanticsTCI\n",
    "using PythonPlot: pyplot as plt\n",
    "using PythonPlot: Figure\n",
    "using PythonCall: Py\n",
    "_display(fig::Figure) = isinteractive() ? (fig; plt.show(); nothing) : Base.display(fig)\n",
    "_display(fig::Py) = _display(Figure(fig))\n",
    "# pythonplot() # use pythonplot backend for plotting\n",
    "using LaTeXStrings"
   ]
  },
  {
   "cell_type": "markdown",
   "id": "4f4a20d5",
   "metadata": {},
   "source": [
    "## Artificial function with widely different length scales\n"
   ]
  },
  {
   "cell_type": "code",
   "execution_count": null,
   "id": "8d123faa",
   "metadata": {},
   "outputs": [],
   "source": [
    "f(x, y) = (exp(-0.4 * (x^2 + y^2)) + 1 + sin(x * y) * exp(-x^2) +\n",
    "           cos(3 * x * y) * exp(-y^2) + cos(x + y)) + 0.05 * cos(1 / 0.001 * (0.2 * x - 0.4 * y)) + 0.0005 * cos(1 / 0.0001 * (-0.2 * x + 0.7 * y)) + 1e-5 * cos(1 / 1e-7 * (20 * x))\n",
    "\n",
    "R = 40\n",
    "gr = DiscretizedGrid{2}(R, (-5, -5), (5, 5))"
   ]
  },
  {
   "cell_type": "code",
   "execution_count": null,
   "id": "986ffb6e",
   "metadata": {},
   "outputs": [],
   "source": [
    "function myplotheatmap(ax, func, xlim::Tuple, ylim::Tuple; xlim_box=nothing, ylim_box=nothing, cmap=\"inferno\")\n",
    "    x = LinRange(xlim..., 400)\n",
    "    y = LinRange(ylim..., 400)\n",
    "    s = ax.pcolormesh(x, y, func.(x, y'), cmap=cmap)\n",
    "    if !isnothing(xlim_box) && !isnothing(ylim_box)\n",
    "        ax.plot(\n",
    "            [xlim_box[1], xlim_box[2], xlim_box[2], xlim_box[1], xlim_box[1]],\n",
    "            [ylim_box[1], ylim_box[1], ylim_box[2], ylim_box[2], ylim_box[1]],\n",
    "            color=\"lightgreen\", lw=2, label=\"\",\n",
    "        )\n",
    "    end\n",
    "    plt.colorbar(s, ax=ax, orientation=\"vertical\", pad=0.11)\n",
    "    ax.set_xlabel(raw\"$x$\")\n",
    "    ax.set_ylabel(raw\"$y$\")\n",
    "    ax\n",
    "end\n",
    "\n",
    "function myplotheatmap(func, xlim::Tuple, ylim::Tuple; xlim_box=nothing, ylim_box=nothing, cmap=\"inferno\")\n",
    "    fig, ax = plt.subplots()\n",
    "    myplotheatmap(ax, func, xlim, ylim; xlim_box, ylim_box, cmap)\n",
    "    _display(fig)\n",
    "end"
   ]
  },
  {
   "cell_type": "code",
   "execution_count": null,
   "id": "2cd8ec36",
   "metadata": {},
   "outputs": [],
   "source": [
    "myplotheatmap(f, (-5, 5), (-5, 5), xlim_box=(0.25, 1.75), ylim_box=(1.25, 2.75), cmap=\"inferno\")"
   ]
  },
  {
   "cell_type": "code",
   "execution_count": null,
   "id": "fe5c19ae",
   "metadata": {},
   "outputs": [],
   "source": [
    "myplotheatmap(f, (0.25, 1.75), (1.25, 2.75), xlim_box=(0.94, 1.0), ylim_box=(1.84, 1.9))"
   ]
  },
  {
   "cell_type": "code",
   "execution_count": null,
   "id": "6aadbe16",
   "metadata": {},
   "outputs": [],
   "source": [
    "myplotheatmap(f, (0.94, 1.0), (1.84, 1.9), xlim_box=(0.97, 0.97 + 1e-7), ylim_box=(1.88, 1.88 + 1e-7))"
   ]
  },
  {
   "cell_type": "code",
   "execution_count": null,
   "id": "a5cd8462",
   "metadata": {},
   "outputs": [],
   "source": [
    "fig, ax = plt.subplots()\n",
    "xs = LinRange(0.97, 0.97 + 1e-7, 400)\n",
    "ys = LinRange(1.88, 1.88 + 1e-7, 400)\n",
    "s = ax.pcolormesh(xs, ys, f.(xs, ys'), cmap=\"inferno\")\n",
    "cbar = fig.colorbar(s, ax=ax, orientation=\"vertical\", pad=0.1)\n",
    "cbar.ax.set_yticks([0.6249366, 0.62495965])\n",
    "cbar.ax.set_yticklabels([\"0.6249366\", \"0.62495965\"])\n",
    "\n",
    "ax.set_xticks([0.97, 0.97 + 0.9e-7])\n",
    "ax.set_xticklabels([0.97, \"0.97+1e-7\"])\n",
    "ax.set_yticks([1.88, 1.88 + 1e-7])\n",
    "ax.set_yticklabels([1.88, \"1.88\" * \"\\n\" * \"+1e-7\"])\n",
    "\n",
    "_display(fig)"
   ]
  },
  {
   "cell_type": "code",
   "execution_count": null,
   "id": "020a263f",
   "metadata": {},
   "outputs": [],
   "source": [
    "# Construct 2D quantics\n",
    "fig, ax = plt.subplots()\n",
    "qtci, ranks, errors = quanticscrossinterpolate(Float64, f, gr)\n",
    "ax.plot(qtci.tci.pivoterrors ./ qtci.tci.maxsamplevalue)\n",
    "ax.set_xlabel(L\"\\chi\")\n",
    "ax.set_ylabel(\"Normalized error\")\n",
    "ax.set_yscale(\"log\")\n",
    "_display(fig)"
   ]
  },
  {
   "cell_type": "code",
   "execution_count": null,
   "id": "aea74367",
   "metadata": {},
   "outputs": [],
   "source": [
    "# Function that evaluates log10 of the interplation error at (x, y)\n",
    "errflog10(x, y) = log10(abs(f(x, y) - qtci(origcoord_to_grididx(gr, (x, y)))))\n",
    "\n",
    "eps = 1e-10\n",
    "myplotheatmap(errflog10, (-5, 5 - eps), (-5, 5 - eps), xlim_box=(0.25, 1.75), ylim_box=(1.25, 2.75))"
   ]
  },
  {
   "cell_type": "code",
   "execution_count": null,
   "id": "49a5e304",
   "metadata": {},
   "outputs": [],
   "source": [
    "myplotheatmap(errflog10, (0.25, 1.75), (1.25, 2.75), xlim_box=(0.94, 1.0), ylim_box=(1.84, 1.9))"
   ]
  },
  {
   "cell_type": "code",
   "execution_count": null,
   "id": "af81c230",
   "metadata": {},
   "outputs": [],
   "source": [
    "myplotheatmap(errflog10, (0.94, 1.0), (1.84, 1.9), xlim_box=(0.97, 0.97 + 1e-7), ylim_box=(1.88, 1.88 + 1e-7))"
   ]
  },
  {
   "cell_type": "code",
   "execution_count": null,
   "id": "c4fd8339",
   "metadata": {},
   "outputs": [],
   "source": [
    "fig, ax = plt.subplots()\n",
    "xs = LinRange(0.97, 0.97 + 1e-7, 400)\n",
    "ys = LinRange(1.88, 1.88 + 1e-7, 400)\n",
    "s = ax.pcolormesh(xs, ys, errflog10.(xs, ys'), cmap=\"inferno\")\n",
    "fig.colorbar(s, ax=ax, orientation=\"vertical\", pad=0.11)\n",
    "ax.set_xticks([0.97, 0.97 + 0.9e-7])\n",
    "ax.set_xticklabels([0.97, \"0.97+1e-7\"])\n",
    "ax.set_yticks([1.88, 1.88 + 1e-7])\n",
    "ax.set_yticklabels([1.88, \"1.88\" * \"\\n\" * \"+1e-7\"])\n",
    "\n",
    "_display(fig)"
   ]
  },
  {
   "cell_type": "markdown",
   "id": "7c38c1aa",
   "metadata": {},
   "source": [
    "## Low-rank structure in Fourier transform matrix\n"
   ]
  },
  {
   "cell_type": "code",
   "execution_count": null,
   "id": "9aac1add",
   "metadata": {},
   "outputs": [],
   "source": [
    "import TensorCrossInterpolation as TCI\n",
    "import QuanticsGrids as QD\n",
    "\n",
    "R = 20 # R must be even\n",
    "\n",
    "# 1D grid with 2^R points starting at 0\n",
    "grid = QD.InherentDiscreteGrid{1}(R, 0)\n",
    "\n",
    "# Fourier transform matrix\n",
    "fkm(k::Int, m::Int) = exp(-2π * im * k * m / 2^R) / 2^(R ÷ 2)\n",
    "\n",
    "function fq(fused_quantics_index::Vector{Int})\n",
    "    # Compute quantics indices for k and m\n",
    "    kq, mq = QD.unfuse_dimensions(fused_quantics_index, 2)\n",
    "    reverse!(kq) # bit reversal\n",
    "    return fkm(\n",
    "        QD.quantics_to_origcoord(grid, kq),\n",
    "        QD.quantics_to_origcoord(grid, mq)\n",
    "    )\n",
    "end\n",
    "\n",
    "localdims = fill(2^2, R)\n",
    "firstpivots = [ones(Int, R)]\n",
    "qtci, ranks, errors = TCI.crossinterpolate2(ComplexF64, fq, localdims, firstpivots; tolerance=1e-8, verbosity=1, loginterval=1)\n",
    "\n",
    "fig, ax = plt.subplots()\n",
    "ax.plot(qtci.pivoterrors, label=\"pivot errors\")\n",
    "ax.set_yscale(\"log\")\n",
    "ax.legend()\n",
    "_display(fig)"
   ]
  }
 ],
 "metadata": {
  "jupytext": {
   "cell_metadata_filter": "-all",
   "custom_cell_magics": "kql",
   "encoding": "# -*- coding: utf-8 -*-",
   "formats": "ipynb,jl:percent"
  },
  "kernelspec": {
   "display_name": "Julia 1.10.3",
   "language": "julia",
   "name": "julia-1.10"
  }
 },
 "nbformat": 4,
 "nbformat_minor": 5
}
