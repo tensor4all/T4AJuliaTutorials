{
 "cells": [
  {
   "cell_type": "markdown",
   "id": "3d340b2c",
   "metadata": {},
   "source": [
    "Click [here](https://tensor4all.org/T4AJuliaTutorials/_sources/ipynbs/quantics2d.ipynb) to download the notebook locally.\n"
   ]
  },
  {
   "cell_type": "markdown",
   "id": "a279a8ec",
   "metadata": {},
   "source": [
    "# Quantics TCI of multivariate function\n"
   ]
  },
  {
   "cell_type": "code",
   "execution_count": null,
   "id": "5ba19dea",
   "metadata": {},
   "outputs": [],
   "source": [
    "import TensorCrossInterpolation as TCI\n",
    "import QuanticsGrids: DiscretizedGrid, origcoord_to_quantics, origcoord_to_grididx, grididx_to_origcoord\n",
    "using QuanticsTCI\n",
    "using PythonPlot: pyplot as plt\n",
    "using PythonPlot: Figure\n",
    "using PythonCall: Py\n",
    "_display(fig::Figure) = isinteractive() ? (fig; plt.show(); nothing) : Base.display(fig)\n",
    "_display(fig::Py) = _display(Figure(fig))\n",
    "# pythonplot() # use pythonplot backend for plotting\n",
    "using LaTeXStrings"
   ]
  },
  {
   "cell_type": "markdown",
   "id": "b754f08b",
   "metadata": {},
   "source": [
    "## Artificial function with widely different length scales\n",
    "\n",
    "As in the univariate case, we first demonstrate the multivariate case on an artificial function with widely different length scales:\n"
   ]
  },
  {
   "cell_type": "code",
   "execution_count": null,
   "id": "a640fc01",
   "metadata": {},
   "outputs": [],
   "source": [
    "f(x, y) = (exp(-0.4 * (x^2 + y^2)) + 1 + sin(x * y) * exp(-x^2) +\n",
    "           cos(3 * x * y) * exp(-y^2) + cos(x + y)) +\n",
    "           0.05 * cos(1 / 0.001 * (0.2 * x - 0.4 * y)) +\n",
    "           0.0005 * cos(1 / 0.0001 * (-0.2 * x + 0.7 * y)) +\n",
    "           1e-5 * cos(1 / 1e-7 * (20 * x))"
   ]
  },
  {
   "cell_type": "markdown",
   "id": "1cdf9138",
   "metadata": {},
   "source": [
    "To construct a 2D quantics grid, put `2` in the type parameter of `DiscretizedGrid`, and use tuples to specify lower and upper limits in each dimension:"
   ]
  },
  {
   "cell_type": "code",
   "execution_count": null,
   "id": "8427de04",
   "metadata": {},
   "outputs": [],
   "source": [
    "R = 40\n",
    "gr = DiscretizedGrid{2}(R, (-5, -5), (5, 5))"
   ]
  },
  {
   "cell_type": "markdown",
   "id": "7c1f0927",
   "metadata": {},
   "source": [
    "To illustrate the different length scales, we show a series of progressively smaller parts of the function domain in the following."
   ]
  },
  {
   "cell_type": "code",
   "execution_count": null,
   "id": "009a7205",
   "metadata": {},
   "outputs": [],
   "source": [
    "function myplotheatmap(ax, func, xlim::Tuple, ylim::Tuple; xlim_box=nothing, ylim_box=nothing, cmap=\"inferno\")\n",
    "    x = LinRange(xlim..., 400)\n",
    "    y = LinRange(ylim..., 400)\n",
    "    s = ax.pcolormesh(y, x, func.(x, y'), cmap=cmap)\n",
    "    if !isnothing(xlim_box) && !isnothing(ylim_box)\n",
    "        ax.plot(\n",
    "            [ylim_box[1], ylim_box[1], ylim_box[2], ylim_box[2], ylim_box[1]],\n",
    "            [xlim_box[1], xlim_box[2], xlim_box[2], xlim_box[1], xlim_box[1]],\n",
    "            color=\"lightgreen\", lw=2, label=\"\",\n",
    "        )\n",
    "    end\n",
    "    plt.colorbar(s, ax=ax, orientation=\"vertical\", pad=0.11)\n",
    "    ax.set_xlabel(raw\"$x$\")\n",
    "    ax.set_ylabel(raw\"$y$\")\n",
    "    ax\n",
    "end\n",
    "\n",
    "function myplotheatmap(func, xlim::Tuple, ylim::Tuple; xlim_box=nothing, ylim_box=nothing, cmap=\"inferno\")\n",
    "    fig, ax = plt.subplots()\n",
    "    myplotheatmap(ax, func, xlim, ylim; xlim_box, ylim_box, cmap)\n",
    "    _display(fig)\n",
    "end"
   ]
  },
  {
   "cell_type": "code",
   "execution_count": null,
   "id": "65f258fe",
   "metadata": {},
   "outputs": [],
   "source": [
    "myplotheatmap(f, (-5, 5), (-5, 5), xlim_box=(0.25, 1.75), ylim_box=(1.25, 2.75), cmap=\"inferno\")"
   ]
  },
  {
   "cell_type": "code",
   "execution_count": null,
   "id": "ffed1ffd",
   "metadata": {},
   "outputs": [],
   "source": [
    "myplotheatmap(f, (0.25, 1.75), (1.25, 2.75), xlim_box=(0.94, 1.0), ylim_box=(1.84, 1.9))"
   ]
  },
  {
   "cell_type": "code",
   "execution_count": null,
   "id": "7f611cbe",
   "metadata": {},
   "outputs": [],
   "source": [
    "myplotheatmap(f, (0.94, 1.0), (1.84, 1.9), xlim_box=(0.97, 0.97 + 1e-7), ylim_box=(1.88, 1.88 + 1e-7))"
   ]
  },
  {
   "cell_type": "code",
   "execution_count": null,
   "id": "f7603b4f",
   "metadata": {},
   "outputs": [],
   "source": [
    "fig, ax = plt.subplots()\n",
    "xs = LinRange(0.97, 0.97 + 1e-7, 400)\n",
    "ys = LinRange(1.88, 1.88 + 1e-7, 400)\n",
    "s = ax.pcolormesh(xs, ys, f.(xs, ys'), cmap=\"inferno\")\n",
    "cbar = fig.colorbar(s, ax=ax, orientation=\"vertical\", pad=0.1)\n",
    "cbar.ax.set_yticks([0.6249366, 0.62495965])\n",
    "cbar.ax.set_yticklabels([\"0.6249366\", \"0.62495965\"])\n",
    "\n",
    "ax.set_xticks([0.97, 0.97 + 0.9e-7])\n",
    "ax.set_xticklabels([0.97, \"0.97+1e-7\"])\n",
    "ax.set_yticks([1.88, 1.88 + 1e-7])\n",
    "ax.set_yticklabels([1.88, \"1.88\" * \"\\n\" * \"+1e-7\"])\n",
    "\n",
    "_display(fig)"
   ]
  },
  {
   "cell_type": "markdown",
   "id": "65c00d36",
   "metadata": {},
   "source": [
    "We can now obtain a QTT for `f` in the same way as in the 1D case:"
   ]
  },
  {
   "cell_type": "code",
   "execution_count": null,
   "id": "2cb92d54",
   "metadata": {},
   "outputs": [],
   "source": [
    "# Construct 2D quantics\n",
    "fig, ax = plt.subplots()\n",
    "qtci, ranks, errors = quanticscrossinterpolate(Float64, f, gr)\n",
    "ax.plot(qtci.tci.pivoterrors ./ qtci.tci.maxsamplevalue)\n",
    "ax.set_xlabel(L\"\\chi\")\n",
    "ax.set_ylabel(\"Normalized error\")\n",
    "ax.set_yscale(\"log\")\n",
    "_display(fig)"
   ]
  },
  {
   "cell_type": "markdown",
   "id": "1f327311",
   "metadata": {},
   "source": [
    "Checking the error on the same slices as before, we see that the approximation is accurate everywhere:"
   ]
  },
  {
   "cell_type": "code",
   "execution_count": null,
   "id": "1087f78c",
   "metadata": {},
   "outputs": [],
   "source": [
    "# Function that evaluates log10 of the interplation error at (x, y)\n",
    "function errflog10(x, y)\n",
    "    i = origcoord_to_grididx(gr, (x, y))\n",
    "    log10(abs(f(grididx_to_origcoord(gr, i)...) - qtci(i)))\n",
    "end\n",
    "\n",
    "eps = 1e-10\n",
    "myplotheatmap(errflog10, (-5, 5 - eps), (-5, 5 - eps), xlim_box=(0.25, 1.75), ylim_box=(1.25, 2.75))"
   ]
  },
  {
   "cell_type": "code",
   "execution_count": null,
   "id": "af96c44d",
   "metadata": {},
   "outputs": [],
   "source": [
    "myplotheatmap(errflog10, (0.25, 1.75), (1.25, 2.75), xlim_box=(0.94, 1.0), ylim_box=(1.84, 1.9))"
   ]
  },
  {
   "cell_type": "code",
   "execution_count": null,
   "id": "89b511c6",
   "metadata": {},
   "outputs": [],
   "source": [
    "myplotheatmap(errflog10, (0.94, 1.0), (1.84, 1.9), xlim_box=(0.97, 0.97 + 1e-7), ylim_box=(1.88, 1.88 + 1e-7))"
   ]
  },
  {
   "cell_type": "code",
   "execution_count": null,
   "id": "0ee8685d",
   "metadata": {},
   "outputs": [],
   "source": [
    "fig, ax = plt.subplots()\n",
    "xs = LinRange(0.97, 0.97 + 1e-7, 400)\n",
    "ys = LinRange(1.88, 1.88 + 1e-7, 400)\n",
    "s = ax.pcolormesh(xs, ys, errflog10.(xs, ys'), cmap=\"inferno\")\n",
    "fig.colorbar(s, ax=ax, orientation=\"vertical\", pad=0.11)\n",
    "ax.set_xticks([0.97, 0.97 + 0.9e-7])\n",
    "ax.set_xticklabels([0.97, \"0.97+1e-7\"])\n",
    "ax.set_yticks([1.88, 1.88 + 1e-7])\n",
    "ax.set_yticklabels([1.88, \"1.88\" * \"\\n\" * \"+1e-7\"])\n",
    "\n",
    "_display(fig)"
   ]
  },
  {
   "cell_type": "code",
   "execution_count": null,
   "id": "c19c299a",
   "metadata": {},
   "outputs": [],
   "source": [
    "println(\"Number of sampled points \", length(TCI.cachedata(qtci.quanticsfunction)))"
   ]
  },
  {
   "cell_type": "code",
   "execution_count": null,
   "id": "918d675c",
   "metadata": {},
   "outputs": [],
   "source": []
  }
 ],
 "metadata": {
  "jupytext": {
   "cell_metadata_filter": "-all",
   "custom_cell_magics": "kql",
   "encoding": "# -*- coding: utf-8 -*-",
   "formats": "ipynb,jl:percent"
  },
  "kernelspec": {
   "display_name": "Julia 1.10.4",
   "language": "julia",
   "name": "julia-1.10"
  }
 },
 "nbformat": 4,
 "nbformat_minor": 5
}